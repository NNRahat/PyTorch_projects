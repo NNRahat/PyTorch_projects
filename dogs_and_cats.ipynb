{
  "nbformat": 4,
  "nbformat_minor": 0,
  "metadata": {
    "colab": {
      "provenance": [],
      "gpuType": "T4",
      "authorship_tag": "ABX9TyMWk72J+a3Sgl1/8lbnENyJ",
      "include_colab_link": true
    },
    "kernelspec": {
      "name": "python3",
      "display_name": "Python 3"
    },
    "language_info": {
      "name": "python"
    },
    "accelerator": "GPU",
    "widgets": {
      "application/vnd.jupyter.widget-state+json": {
        "e7bb4c2a41ec4605b5b3ad696a6fcabe": {
          "model_module": "@jupyter-widgets/controls",
          "model_name": "HBoxModel",
          "model_module_version": "1.5.0",
          "state": {
            "_dom_classes": [],
            "_model_module": "@jupyter-widgets/controls",
            "_model_module_version": "1.5.0",
            "_model_name": "HBoxModel",
            "_view_count": null,
            "_view_module": "@jupyter-widgets/controls",
            "_view_module_version": "1.5.0",
            "_view_name": "HBoxView",
            "box_style": "",
            "children": [
              "IPY_MODEL_f882a0e73c074522b7c7832617fe36a6",
              "IPY_MODEL_09fda57946fe427baea69dbab5a70e66",
              "IPY_MODEL_3094ae281202497189cb6625aee814d2"
            ],
            "layout": "IPY_MODEL_80d05174f43b47c39831c10cc4e274ee"
          }
        },
        "f882a0e73c074522b7c7832617fe36a6": {
          "model_module": "@jupyter-widgets/controls",
          "model_name": "HTMLModel",
          "model_module_version": "1.5.0",
          "state": {
            "_dom_classes": [],
            "_model_module": "@jupyter-widgets/controls",
            "_model_module_version": "1.5.0",
            "_model_name": "HTMLModel",
            "_view_count": null,
            "_view_module": "@jupyter-widgets/controls",
            "_view_module_version": "1.5.0",
            "_view_name": "HTMLView",
            "description": "",
            "description_tooltip": null,
            "layout": "IPY_MODEL_d2e7a8988b8f45f3b745bc66859ed7d3",
            "placeholder": "​",
            "style": "IPY_MODEL_5d199a0a4ae844bbbb0086f793622d24",
            "value": "100%"
          }
        },
        "09fda57946fe427baea69dbab5a70e66": {
          "model_module": "@jupyter-widgets/controls",
          "model_name": "FloatProgressModel",
          "model_module_version": "1.5.0",
          "state": {
            "_dom_classes": [],
            "_model_module": "@jupyter-widgets/controls",
            "_model_module_version": "1.5.0",
            "_model_name": "FloatProgressModel",
            "_view_count": null,
            "_view_module": "@jupyter-widgets/controls",
            "_view_module_version": "1.5.0",
            "_view_name": "ProgressView",
            "bar_style": "success",
            "description": "",
            "description_tooltip": null,
            "layout": "IPY_MODEL_18fb71cb48184b2182def7a7149cea88",
            "max": 5,
            "min": 0,
            "orientation": "horizontal",
            "style": "IPY_MODEL_a246b5f3ab5a4f6e8d24db3ca658a33f",
            "value": 5
          }
        },
        "3094ae281202497189cb6625aee814d2": {
          "model_module": "@jupyter-widgets/controls",
          "model_name": "HTMLModel",
          "model_module_version": "1.5.0",
          "state": {
            "_dom_classes": [],
            "_model_module": "@jupyter-widgets/controls",
            "_model_module_version": "1.5.0",
            "_model_name": "HTMLModel",
            "_view_count": null,
            "_view_module": "@jupyter-widgets/controls",
            "_view_module_version": "1.5.0",
            "_view_name": "HTMLView",
            "description": "",
            "description_tooltip": null,
            "layout": "IPY_MODEL_d938efae1e0a47e2be119a493f053891",
            "placeholder": "​",
            "style": "IPY_MODEL_395d8c28d92e4c09b6e2a37f786ea90f",
            "value": " 5/5 [10:40&lt;00:00, 127.18s/it]"
          }
        },
        "80d05174f43b47c39831c10cc4e274ee": {
          "model_module": "@jupyter-widgets/base",
          "model_name": "LayoutModel",
          "model_module_version": "1.2.0",
          "state": {
            "_model_module": "@jupyter-widgets/base",
            "_model_module_version": "1.2.0",
            "_model_name": "LayoutModel",
            "_view_count": null,
            "_view_module": "@jupyter-widgets/base",
            "_view_module_version": "1.2.0",
            "_view_name": "LayoutView",
            "align_content": null,
            "align_items": null,
            "align_self": null,
            "border": null,
            "bottom": null,
            "display": null,
            "flex": null,
            "flex_flow": null,
            "grid_area": null,
            "grid_auto_columns": null,
            "grid_auto_flow": null,
            "grid_auto_rows": null,
            "grid_column": null,
            "grid_gap": null,
            "grid_row": null,
            "grid_template_areas": null,
            "grid_template_columns": null,
            "grid_template_rows": null,
            "height": null,
            "justify_content": null,
            "justify_items": null,
            "left": null,
            "margin": null,
            "max_height": null,
            "max_width": null,
            "min_height": null,
            "min_width": null,
            "object_fit": null,
            "object_position": null,
            "order": null,
            "overflow": null,
            "overflow_x": null,
            "overflow_y": null,
            "padding": null,
            "right": null,
            "top": null,
            "visibility": null,
            "width": null
          }
        },
        "d2e7a8988b8f45f3b745bc66859ed7d3": {
          "model_module": "@jupyter-widgets/base",
          "model_name": "LayoutModel",
          "model_module_version": "1.2.0",
          "state": {
            "_model_module": "@jupyter-widgets/base",
            "_model_module_version": "1.2.0",
            "_model_name": "LayoutModel",
            "_view_count": null,
            "_view_module": "@jupyter-widgets/base",
            "_view_module_version": "1.2.0",
            "_view_name": "LayoutView",
            "align_content": null,
            "align_items": null,
            "align_self": null,
            "border": null,
            "bottom": null,
            "display": null,
            "flex": null,
            "flex_flow": null,
            "grid_area": null,
            "grid_auto_columns": null,
            "grid_auto_flow": null,
            "grid_auto_rows": null,
            "grid_column": null,
            "grid_gap": null,
            "grid_row": null,
            "grid_template_areas": null,
            "grid_template_columns": null,
            "grid_template_rows": null,
            "height": null,
            "justify_content": null,
            "justify_items": null,
            "left": null,
            "margin": null,
            "max_height": null,
            "max_width": null,
            "min_height": null,
            "min_width": null,
            "object_fit": null,
            "object_position": null,
            "order": null,
            "overflow": null,
            "overflow_x": null,
            "overflow_y": null,
            "padding": null,
            "right": null,
            "top": null,
            "visibility": null,
            "width": null
          }
        },
        "5d199a0a4ae844bbbb0086f793622d24": {
          "model_module": "@jupyter-widgets/controls",
          "model_name": "DescriptionStyleModel",
          "model_module_version": "1.5.0",
          "state": {
            "_model_module": "@jupyter-widgets/controls",
            "_model_module_version": "1.5.0",
            "_model_name": "DescriptionStyleModel",
            "_view_count": null,
            "_view_module": "@jupyter-widgets/base",
            "_view_module_version": "1.2.0",
            "_view_name": "StyleView",
            "description_width": ""
          }
        },
        "18fb71cb48184b2182def7a7149cea88": {
          "model_module": "@jupyter-widgets/base",
          "model_name": "LayoutModel",
          "model_module_version": "1.2.0",
          "state": {
            "_model_module": "@jupyter-widgets/base",
            "_model_module_version": "1.2.0",
            "_model_name": "LayoutModel",
            "_view_count": null,
            "_view_module": "@jupyter-widgets/base",
            "_view_module_version": "1.2.0",
            "_view_name": "LayoutView",
            "align_content": null,
            "align_items": null,
            "align_self": null,
            "border": null,
            "bottom": null,
            "display": null,
            "flex": null,
            "flex_flow": null,
            "grid_area": null,
            "grid_auto_columns": null,
            "grid_auto_flow": null,
            "grid_auto_rows": null,
            "grid_column": null,
            "grid_gap": null,
            "grid_row": null,
            "grid_template_areas": null,
            "grid_template_columns": null,
            "grid_template_rows": null,
            "height": null,
            "justify_content": null,
            "justify_items": null,
            "left": null,
            "margin": null,
            "max_height": null,
            "max_width": null,
            "min_height": null,
            "min_width": null,
            "object_fit": null,
            "object_position": null,
            "order": null,
            "overflow": null,
            "overflow_x": null,
            "overflow_y": null,
            "padding": null,
            "right": null,
            "top": null,
            "visibility": null,
            "width": null
          }
        },
        "a246b5f3ab5a4f6e8d24db3ca658a33f": {
          "model_module": "@jupyter-widgets/controls",
          "model_name": "ProgressStyleModel",
          "model_module_version": "1.5.0",
          "state": {
            "_model_module": "@jupyter-widgets/controls",
            "_model_module_version": "1.5.0",
            "_model_name": "ProgressStyleModel",
            "_view_count": null,
            "_view_module": "@jupyter-widgets/base",
            "_view_module_version": "1.2.0",
            "_view_name": "StyleView",
            "bar_color": null,
            "description_width": ""
          }
        },
        "d938efae1e0a47e2be119a493f053891": {
          "model_module": "@jupyter-widgets/base",
          "model_name": "LayoutModel",
          "model_module_version": "1.2.0",
          "state": {
            "_model_module": "@jupyter-widgets/base",
            "_model_module_version": "1.2.0",
            "_model_name": "LayoutModel",
            "_view_count": null,
            "_view_module": "@jupyter-widgets/base",
            "_view_module_version": "1.2.0",
            "_view_name": "LayoutView",
            "align_content": null,
            "align_items": null,
            "align_self": null,
            "border": null,
            "bottom": null,
            "display": null,
            "flex": null,
            "flex_flow": null,
            "grid_area": null,
            "grid_auto_columns": null,
            "grid_auto_flow": null,
            "grid_auto_rows": null,
            "grid_column": null,
            "grid_gap": null,
            "grid_row": null,
            "grid_template_areas": null,
            "grid_template_columns": null,
            "grid_template_rows": null,
            "height": null,
            "justify_content": null,
            "justify_items": null,
            "left": null,
            "margin": null,
            "max_height": null,
            "max_width": null,
            "min_height": null,
            "min_width": null,
            "object_fit": null,
            "object_position": null,
            "order": null,
            "overflow": null,
            "overflow_x": null,
            "overflow_y": null,
            "padding": null,
            "right": null,
            "top": null,
            "visibility": null,
            "width": null
          }
        },
        "395d8c28d92e4c09b6e2a37f786ea90f": {
          "model_module": "@jupyter-widgets/controls",
          "model_name": "DescriptionStyleModel",
          "model_module_version": "1.5.0",
          "state": {
            "_model_module": "@jupyter-widgets/controls",
            "_model_module_version": "1.5.0",
            "_model_name": "DescriptionStyleModel",
            "_view_count": null,
            "_view_module": "@jupyter-widgets/base",
            "_view_module_version": "1.2.0",
            "_view_name": "StyleView",
            "description_width": ""
          }
        }
      }
    }
  },
  "cells": [
    {
      "cell_type": "markdown",
      "metadata": {
        "id": "view-in-github",
        "colab_type": "text"
      },
      "source": [
        "<a href=\"https://colab.research.google.com/github/NNRahat/PyTorch_projects/blob/main/dogs_and_cats.ipynb\" target=\"_parent\"><img src=\"https://colab.research.google.com/assets/colab-badge.svg\" alt=\"Open In Colab\"/></a>"
      ]
    },
    {
      "cell_type": "code",
      "source": [
        "import torch\n",
        "from torchvision import datasets, transforms\n",
        "from torch import nn\n",
        "import os"
      ],
      "metadata": {
        "id": "FS3FB07H0mHM"
      },
      "execution_count": null,
      "outputs": []
    },
    {
      "cell_type": "markdown",
      "source": [
        "## downloading the dataset from kaggle"
      ],
      "metadata": {
        "id": "fx6TqDdHeSEM"
      }
    },
    {
      "cell_type": "code",
      "execution_count": null,
      "metadata": {
        "colab": {
          "base_uri": "https://localhost:8080/"
        },
        "id": "cnrlXWuMz-O9",
        "outputId": "a7a992fc-9025-40f2-d391-645566186f09"
      },
      "outputs": [
        {
          "output_type": "stream",
          "name": "stdout",
          "text": [
            "Warning: Your Kaggle API key is readable by other users on this system! To fix this, you can run 'chmod 600 /root/.kaggle/kaggle.json'\n",
            "Downloading dogs-vs-cats.zip to /content\n",
            " 99% 1.05G/1.06G [00:04<00:00, 252MB/s]\n",
            "100% 1.06G/1.06G [00:04<00:00, 269MB/s]\n"
          ]
        }
      ],
      "source": [
        "#upload the kaggle json\n",
        "!mkdir -p ~/.kaggle\n",
        "!cp kaggle.json ~/.kaggle/\n",
        "!kaggle datasets download -d salader/dogs-vs-cats"
      ]
    },
    {
      "cell_type": "code",
      "source": [
        "device = \"cuda\" if torch.cuda.is_available() else \"cpu\"\n",
        "device"
      ],
      "metadata": {
        "colab": {
          "base_uri": "https://localhost:8080/",
          "height": 36
        },
        "id": "CydFGsNbwJhm",
        "outputId": "0de0a8d5-454b-4039-dfae-d65a59d12e94"
      },
      "execution_count": null,
      "outputs": [
        {
          "output_type": "execute_result",
          "data": {
            "text/plain": [
              "'cuda'"
            ],
            "application/vnd.google.colaboratory.intrinsic+json": {
              "type": "string"
            }
          },
          "metadata": {},
          "execution_count": 8
        }
      ]
    },
    {
      "cell_type": "markdown",
      "source": [
        "## data_path"
      ],
      "metadata": {
        "id": "h5cD22opea7m"
      }
    },
    {
      "cell_type": "code",
      "source": [
        "from pathlib import Path\n",
        "data_path = Path(\"dogs_vs_cats\")\n",
        "data_path"
      ],
      "metadata": {
        "colab": {
          "base_uri": "https://localhost:8080/"
        },
        "id": "SUVz4rrs5fQi",
        "outputId": "80811640-426b-4074-f04c-f4899c8c1050"
      },
      "execution_count": null,
      "outputs": [
        {
          "output_type": "execute_result",
          "data": {
            "text/plain": [
              "PosixPath('dogs_vs_cats')"
            ]
          },
          "metadata": {},
          "execution_count": 9
        }
      ]
    },
    {
      "cell_type": "markdown",
      "source": [
        "## extracting the .zip file"
      ],
      "metadata": {
        "id": "4wHlQKVoeL0m"
      }
    },
    {
      "cell_type": "code",
      "source": [
        "if data_path.is_dir():\n",
        "  print(f\"directory {data_path} already exists\")\n",
        "else:\n",
        "  # unzip the file\n",
        "  import zipfile\n",
        "  zip_ref = zipfile.ZipFile('/content/dogs-vs-cats.zip', 'r')\n",
        "  zip_ref.extractall('/content')\n",
        "  zip_ref.close()"
      ],
      "metadata": {
        "id": "L82MNP0U0UlT"
      },
      "execution_count": null,
      "outputs": []
    },
    {
      "cell_type": "code",
      "source": [
        "!ls"
      ],
      "metadata": {
        "colab": {
          "base_uri": "https://localhost:8080/"
        },
        "id": "9hwAhxOM0fVV",
        "outputId": "8d86cfd5-d49e-4b85-b939-dde434b33a71"
      },
      "execution_count": null,
      "outputs": [
        {
          "output_type": "stream",
          "name": "stdout",
          "text": [
            "dogs_vs_cats  dogs-vs-cats.zip\tkaggle.json  sample_data  test\ttrain\n"
          ]
        }
      ]
    },
    {
      "cell_type": "markdown",
      "source": [
        "## train and test dir"
      ],
      "metadata": {
        "id": "hhWR97qH7Cz4"
      }
    },
    {
      "cell_type": "code",
      "source": [
        "train_dir = data_path / \"train\"\n",
        "test_dir = data_path / \"test\""
      ],
      "metadata": {
        "id": "EAN7A2zY4uCT"
      },
      "execution_count": null,
      "outputs": []
    },
    {
      "cell_type": "code",
      "source": [
        "!apt install subversion\n",
        "!svn checkout https://github.com/NNRahat/PyTorch_helper_scripts/trunk/going_moduler"
      ],
      "metadata": {
        "colab": {
          "base_uri": "https://localhost:8080/"
        },
        "id": "1orqUnRL61Zs",
        "outputId": "63a8b33e-6d2d-447b-de31-a838bc6c8bb7"
      },
      "execution_count": null,
      "outputs": [
        {
          "output_type": "stream",
          "name": "stdout",
          "text": [
            "Reading package lists... Done\n",
            "Building dependency tree       \n",
            "Reading state information... Done\n",
            "The following additional packages will be installed:\n",
            "  libapr1 libaprutil1 libserf-1-1 libsvn1 libutf8proc2\n",
            "Suggested packages:\n",
            "  db5.3-util libapache2-mod-svn subversion-tools\n",
            "The following NEW packages will be installed:\n",
            "  libapr1 libaprutil1 libserf-1-1 libsvn1 libutf8proc2 subversion\n",
            "0 upgraded, 6 newly installed, 0 to remove and 15 not upgraded.\n",
            "Need to get 2,355 kB of archives.\n",
            "After this operation, 10.3 MB of additional disk space will be used.\n",
            "Get:1 http://archive.ubuntu.com/ubuntu focal/main amd64 libapr1 amd64 1.6.5-1ubuntu1 [91.4 kB]\n",
            "Get:2 http://archive.ubuntu.com/ubuntu focal-updates/main amd64 libaprutil1 amd64 1.6.1-4ubuntu2.1 [84.9 kB]\n",
            "Get:3 http://archive.ubuntu.com/ubuntu focal/universe amd64 libserf-1-1 amd64 1.3.9-8build1 [45.2 kB]\n",
            "Get:4 http://archive.ubuntu.com/ubuntu focal/universe amd64 libutf8proc2 amd64 2.5.0-1 [50.0 kB]\n",
            "Get:5 http://archive.ubuntu.com/ubuntu focal-updates/universe amd64 libsvn1 amd64 1.13.0-3ubuntu0.2 [1,260 kB]\n",
            "Get:6 http://archive.ubuntu.com/ubuntu focal-updates/universe amd64 subversion amd64 1.13.0-3ubuntu0.2 [824 kB]\n",
            "Fetched 2,355 kB in 1s (3,162 kB/s)\n",
            "Selecting previously unselected package libapr1:amd64.\n",
            "(Reading database ... 123069 files and directories currently installed.)\n",
            "Preparing to unpack .../0-libapr1_1.6.5-1ubuntu1_amd64.deb ...\n",
            "Unpacking libapr1:amd64 (1.6.5-1ubuntu1) ...\n",
            "Selecting previously unselected package libaprutil1:amd64.\n",
            "Preparing to unpack .../1-libaprutil1_1.6.1-4ubuntu2.1_amd64.deb ...\n",
            "Unpacking libaprutil1:amd64 (1.6.1-4ubuntu2.1) ...\n",
            "Selecting previously unselected package libserf-1-1:amd64.\n",
            "Preparing to unpack .../2-libserf-1-1_1.3.9-8build1_amd64.deb ...\n",
            "Unpacking libserf-1-1:amd64 (1.3.9-8build1) ...\n",
            "Selecting previously unselected package libutf8proc2:amd64.\n",
            "Preparing to unpack .../3-libutf8proc2_2.5.0-1_amd64.deb ...\n",
            "Unpacking libutf8proc2:amd64 (2.5.0-1) ...\n",
            "Selecting previously unselected package libsvn1:amd64.\n",
            "Preparing to unpack .../4-libsvn1_1.13.0-3ubuntu0.2_amd64.deb ...\n",
            "Unpacking libsvn1:amd64 (1.13.0-3ubuntu0.2) ...\n",
            "Selecting previously unselected package subversion.\n",
            "Preparing to unpack .../5-subversion_1.13.0-3ubuntu0.2_amd64.deb ...\n",
            "Unpacking subversion (1.13.0-3ubuntu0.2) ...\n",
            "Setting up libutf8proc2:amd64 (2.5.0-1) ...\n",
            "Setting up libapr1:amd64 (1.6.5-1ubuntu1) ...\n",
            "Setting up libaprutil1:amd64 (1.6.1-4ubuntu2.1) ...\n",
            "Setting up libserf-1-1:amd64 (1.3.9-8build1) ...\n",
            "Setting up libsvn1:amd64 (1.13.0-3ubuntu0.2) ...\n",
            "Setting up subversion (1.13.0-3ubuntu0.2) ...\n",
            "Processing triggers for libc-bin (2.31-0ubuntu9.9) ...\n",
            "Processing triggers for man-db (2.9.1-1) ...\n",
            "A    going_moduler/README.md\n",
            "A    going_moduler/binary_engine.py\n",
            "A    going_moduler/binary_predictions.py\n",
            "A    going_moduler/data_setup.py\n",
            "A    going_moduler/model_builder.py\n",
            "A    going_moduler/multiclass_engine.py\n",
            "A    going_moduler/multiclass_predictions.py\n",
            "A    going_moduler/train.py\n",
            "A    going_moduler/utils.py\n",
            "Checked out revision 7.\n"
          ]
        }
      ]
    },
    {
      "cell_type": "markdown",
      "source": [
        "## transform"
      ],
      "metadata": {
        "id": "Oq7G7UWgBn2D"
      }
    },
    {
      "cell_type": "code",
      "source": [
        "transform = transforms.Compose([\n",
        "    transforms.Resize(size = (224,224)),\n",
        "    transforms.TrivialAugmentWide(num_magnitude_bins = 31),\n",
        "    transforms.ToTensor()\n",
        "])"
      ],
      "metadata": {
        "id": "VJHoh6rPB8X4"
      },
      "execution_count": null,
      "outputs": []
    },
    {
      "cell_type": "markdown",
      "source": [
        "## train and test dataloader"
      ],
      "metadata": {
        "id": "2_DeQFEt_GDe"
      }
    },
    {
      "cell_type": "code",
      "source": [
        "from going_moduler import data_setup, multiclass_predictions, binary_predictions, multiclass_engine, binary_engine\n",
        "\n",
        "BATCH_SIZE = 32\n",
        "train_dataloader, test_dataloader, class_names = data_setup.create_dataloaders(\n",
        "    train_dir = train_dir,\n",
        "    test_dir = test_dir,\n",
        "    transform = transform,\n",
        "    batch_size= BATCH_SIZE,\n",
        "    num_workers = os.cpu_count()\n",
        ")"
      ],
      "metadata": {
        "id": "yQKG6aNs_Ry7"
      },
      "execution_count": null,
      "outputs": []
    },
    {
      "cell_type": "markdown",
      "source": [
        "## model class creation"
      ],
      "metadata": {
        "id": "2MqfA-72l3zQ"
      }
    },
    {
      "cell_type": "code",
      "source": [
        "class TinyVGG(nn.Module):\n",
        "  def __init__(self,\n",
        "               input_shape:int,\n",
        "               hidden_units:int,\n",
        "               output_shape:int):\n",
        "    super().__init__()\n",
        "    self.conv_block_1 = nn.Sequential(\n",
        "        nn.Conv2d(in_channels = input_shape,\n",
        "                  out_channels = hidden_units,\n",
        "                  padding = 1,\n",
        "                  kernel_size = 3,\n",
        "                  stride = 1),\n",
        "        nn.ReLU(),\n",
        "        nn.BatchNorm2d(num_features = hidden_units),\n",
        "        nn.Conv2d(in_channels = hidden_units,\n",
        "                  out_channels = hidden_units,\n",
        "                  padding = 1,\n",
        "                  kernel_size = 3,\n",
        "                  stride = 1),\n",
        "        nn.ReLU(),\n",
        "        nn.BatchNorm2d(num_features = hidden_units),\n",
        "        nn.MaxPool2d(kernel_size = 2),\n",
        "\n",
        "    )\n",
        "    self.conv_block_2 = nn.Sequential(\n",
        "        nn.Conv2d(in_channels = hidden_units,\n",
        "                  out_channels = hidden_units,\n",
        "                  padding = 1,\n",
        "                  kernel_size = 3,\n",
        "                  stride = 1),\n",
        "        nn.ReLU(),\n",
        "        nn.BatchNorm2d(num_features = hidden_units),\n",
        "        nn.Conv2d(in_channels = hidden_units,\n",
        "                  out_channels = hidden_units,\n",
        "                  padding = 1,\n",
        "                  kernel_size = 3,\n",
        "                  stride = 1),\n",
        "        nn.ReLU(),\n",
        "        nn.BatchNorm2d(num_features = hidden_units),\n",
        "        nn.MaxPool2d(kernel_size = 2),\n",
        "\n",
        "    )\n",
        "    self.classifier = nn.Sequential(\n",
        "        nn.Flatten(),\n",
        "        nn.Linear(in_features = hidden_units*56*56,\n",
        "                  out_features = output_shape)\n",
        "    )\n",
        "\n",
        "  def forward(self, x):\n",
        "    # x = self.conv_block_1(x)\n",
        "    # print(x.shape)\n",
        "    # x = self.conv_block_2(x)\n",
        "    # print(x.shape)\n",
        "    # x = self.classifier(x)\n",
        "    # return x\n",
        "\n",
        "    return self.classifier(self.conv_block_2(self.conv_block_1(x)))\n"
      ],
      "metadata": {
        "id": "1jc7bYPGl_Hv"
      },
      "execution_count": null,
      "outputs": []
    },
    {
      "cell_type": "markdown",
      "source": [
        "## model_0"
      ],
      "metadata": {
        "id": "JhX1Yaebw_Ul"
      }
    },
    {
      "cell_type": "code",
      "source": [
        "model_0 = TinyVGG(input_shape = 3,\n",
        "                  hidden_units = 10,\n",
        "                  output_shape = 1).to(device)"
      ],
      "metadata": {
        "id": "7KTDWRVvdwIR"
      },
      "execution_count": null,
      "outputs": []
    },
    {
      "cell_type": "markdown",
      "source": [
        "## loss function and optimizer"
      ],
      "metadata": {
        "id": "IiLO0se6dzAu"
      }
    },
    {
      "cell_type": "code",
      "source": [
        "loss_fn = nn.BCEWithLogitsLoss()\n",
        "\n",
        "optimizer = torch.optim.Adam(params = model_0.parameters(),\n",
        "                             lr = 0.001)"
      ],
      "metadata": {
        "id": "08J2NZTIlU2A"
      },
      "execution_count": null,
      "outputs": []
    },
    {
      "cell_type": "markdown",
      "source": [
        "## looping the train and test"
      ],
      "metadata": {
        "id": "___YcU-xxJkw"
      }
    },
    {
      "cell_type": "code",
      "source": [
        "# train loop\n",
        "def train_steps(model:torch.nn.Module,\n",
        "                dataloader: torch.utils.data,\n",
        "                loss_fn: torch.nn.Module,\n",
        "                optimizer: torch.optim,\n",
        "                device:str):\n",
        "  train_loss, train_acc = 0, 0\n",
        "  model.train()\n",
        "  for X,y in dataloader:\n",
        "    X, y= X.to(device), y.to(device)\n",
        "    # datatype of y is int64 so we have to convert it to float32\n",
        "    y = y.type(torch.float32)\n",
        "    # forward pass\n",
        "    train_logit = model(X).squeeze()\n",
        "    train_pred = torch.round(torch.sigmoid(train_logit))\n",
        "\n",
        "    # calculate the loss\n",
        "    loss = loss_fn(train_logit,y)\n",
        "    train_loss += loss.item()\n",
        "\n",
        "    # calculate accuracy\n",
        "    acc = (((train_pred == y).sum().item() / len(train_pred)) * 100 )\n",
        "    train_acc += acc\n",
        "\n",
        "    # optimizer zero_grad\n",
        "    optimizer.zero_grad()\n",
        "\n",
        "    # loss backward\n",
        "    loss.backward()\n",
        "\n",
        "    # optimizer step\n",
        "    optimizer.step()\n",
        "\n",
        "  train_loss /= len(dataloader)\n",
        "  train_acc /= len(dataloader)\n",
        "  return train_loss, train_acc\n",
        "\n",
        "\n",
        "# test loop\n",
        "def test_steps(model:torch.nn.Module,\n",
        "                  dataloader: torch.utils.data,\n",
        "                  loss_fn: torch.nn.Module,\n",
        "                  device:str):\n",
        "  test_loss, test_acc = 0, 0\n",
        "  model.eval()\n",
        "  with torch.inference_mode():\n",
        "    for X, y in dataloader:\n",
        "      X, y = X.to(device), y.to(device)\n",
        "      # datatype of y is int64 so we have to convert it to float32\n",
        "      y = y.type(torch.float32)\n",
        "\n",
        "      # forward pass\n",
        "      test_logit = model(X).squeeze()\n",
        "      test_pred = torch.round(torch.sigmoid(test_logit))\n",
        "\n",
        "      # calculate the loss\n",
        "      loss = loss_fn(test_logit, y)\n",
        "      test_loss += loss.item()\n",
        "\n",
        "      # calculate the accuracy\n",
        "      acc = (((test_pred == y).sum().item() / len(test_pred)) * 100)\n",
        "      test_acc += acc\n",
        "\n",
        "    test_loss /= len(dataloader)\n",
        "    test_acc /= len(dataloader)\n",
        "    return test_loss, test_acc\n",
        "\n",
        "\n",
        "def Binary_engine(model:torch.nn.Module,\n",
        "                  train_dataloader: torch.utils.data,\n",
        "                  test_dataloader: torch.utils.data,\n",
        "                  loss_fn: torch.nn.Module,\n",
        "                  optimizer: torch.optim,\n",
        "                  device:str,\n",
        "                  epochs:int):\n",
        "  from tqdm.auto import tqdm\n",
        "  results = {\n",
        "      \"train_loss\":[],\n",
        "      \"train_acc\":[],\n",
        "      \"test_loss\":[],\n",
        "      \"test_acc\":[]\n",
        "  }\n",
        "\n",
        "  for epoch in tqdm(range(epochs)):\n",
        "    print(f\"\\nEpoch: {epoch+1}\\n----------------\")\n",
        "    train_loss, train_acc = train_steps(model = model,\n",
        "                                        dataloader = train_dataloader,\n",
        "                                        loss_fn = loss_fn,\n",
        "                                        optimizer = optimizer,\n",
        "                                        device = device)\n",
        "    test_loss, test_acc = test_steps(model = model,\n",
        "                                     dataloader = test_dataloader,\n",
        "                                     loss_fn = loss_fn,\n",
        "                                     device = device)\n",
        "\n",
        "    print(f\"train loss: {train_loss:.5f}, train acc: {train_acc:.3f}% | test loss: {test_loss:.5f}, test_acc: {test_acc:.3f}%\")\n",
        "\n",
        "    results[\"train_loss\"].append(train_loss)\n",
        "    results[\"train_acc\"].append(train_acc)\n",
        "    results[\"test_loss\"].append(test_loss)\n",
        "    results[\"test_acc\"].append(test_acc)\n",
        "\n",
        "  return results\n"
      ],
      "metadata": {
        "id": "BZxHJrzyxRVH"
      },
      "execution_count": null,
      "outputs": []
    },
    {
      "cell_type": "code",
      "source": [
        "# hyper parameters\n",
        "EPOCHS = 5\n",
        "\n",
        "model_0_results = Binary_engine(model = model_0,\n",
        "                                train_dataloader = train_dataloader,\n",
        "                                test_dataloader = test_dataloader,\n",
        "                                loss_fn = loss_fn,\n",
        "                                optimizer = optimizer,\n",
        "                                device = device,\n",
        "                                epochs = EPOCHS)"
      ],
      "metadata": {
        "id": "72-xI0IgBZwZ",
        "colab": {
          "base_uri": "https://localhost:8080/",
          "height": 396,
          "referenced_widgets": [
            "e7bb4c2a41ec4605b5b3ad696a6fcabe",
            "f882a0e73c074522b7c7832617fe36a6",
            "09fda57946fe427baea69dbab5a70e66",
            "3094ae281202497189cb6625aee814d2",
            "80d05174f43b47c39831c10cc4e274ee",
            "d2e7a8988b8f45f3b745bc66859ed7d3",
            "5d199a0a4ae844bbbb0086f793622d24",
            "18fb71cb48184b2182def7a7149cea88",
            "a246b5f3ab5a4f6e8d24db3ca658a33f",
            "d938efae1e0a47e2be119a493f053891",
            "395d8c28d92e4c09b6e2a37f786ea90f"
          ]
        },
        "outputId": "2ae07f12-2146-4583-fedc-1694df2d7fa2"
      },
      "execution_count": null,
      "outputs": [
        {
          "output_type": "display_data",
          "data": {
            "text/plain": [
              "  0%|          | 0/5 [00:00<?, ?it/s]"
            ],
            "application/vnd.jupyter.widget-view+json": {
              "version_major": 2,
              "version_minor": 0,
              "model_id": "e7bb4c2a41ec4605b5b3ad696a6fcabe"
            }
          },
          "metadata": {}
        },
        {
          "output_type": "stream",
          "name": "stdout",
          "text": [
            "\n",
            "Epoch: 1\n",
            "----------------\n",
            "train loss: 1.14523, train acc: 57.395% | test loss: 0.85823, test_acc: 58.519%\n",
            "\n",
            "Epoch: 2\n",
            "----------------\n",
            "train loss: 0.71903, train acc: 63.660% | test loss: 0.68327, test_acc: 61.525%\n",
            "\n",
            "Epoch: 3\n",
            "----------------\n",
            "train loss: 0.59988, train acc: 68.670% | test loss: 0.56788, test_acc: 70.203%\n",
            "\n",
            "Epoch: 4\n",
            "----------------\n",
            "train loss: 0.54390, train acc: 72.245% | test loss: 0.55926, test_acc: 70.959%\n",
            "\n",
            "Epoch: 5\n",
            "----------------\n",
            "train loss: 0.51208, train acc: 74.815% | test loss: 0.53501, test_acc: 73.308%\n"
          ]
        }
      ]
    },
    {
      "cell_type": "code",
      "source": [
        "import pandas as pd\n",
        "model_0_pd = pd.DataFrame(model_0_results)\n",
        "model_0_pd"
      ],
      "metadata": {
        "colab": {
          "base_uri": "https://localhost:8080/",
          "height": 206
        },
        "id": "Lkjyu-TRiE-J",
        "outputId": "395ff438-86a3-44b1-a5fe-12bb0a0a1c7b"
      },
      "execution_count": null,
      "outputs": [
        {
          "output_type": "execute_result",
          "data": {
            "text/plain": [
              "   train_loss  train_acc  test_loss   test_acc\n",
              "0    1.145230     57.395   0.858228  58.519108\n",
              "1    0.719034     63.660   0.683268  61.524682\n",
              "2    0.599879     68.670   0.567885  70.203025\n",
              "3    0.543904     72.245   0.559257  70.959395\n",
              "4    0.512080     74.815   0.535014  73.308121"
            ],
            "text/html": [
              "\n",
              "  <div id=\"df-6f8c1f5e-1346-4422-b27c-f41e9801bb9c\">\n",
              "    <div class=\"colab-df-container\">\n",
              "      <div>\n",
              "<style scoped>\n",
              "    .dataframe tbody tr th:only-of-type {\n",
              "        vertical-align: middle;\n",
              "    }\n",
              "\n",
              "    .dataframe tbody tr th {\n",
              "        vertical-align: top;\n",
              "    }\n",
              "\n",
              "    .dataframe thead th {\n",
              "        text-align: right;\n",
              "    }\n",
              "</style>\n",
              "<table border=\"1\" class=\"dataframe\">\n",
              "  <thead>\n",
              "    <tr style=\"text-align: right;\">\n",
              "      <th></th>\n",
              "      <th>train_loss</th>\n",
              "      <th>train_acc</th>\n",
              "      <th>test_loss</th>\n",
              "      <th>test_acc</th>\n",
              "    </tr>\n",
              "  </thead>\n",
              "  <tbody>\n",
              "    <tr>\n",
              "      <th>0</th>\n",
              "      <td>1.145230</td>\n",
              "      <td>57.395</td>\n",
              "      <td>0.858228</td>\n",
              "      <td>58.519108</td>\n",
              "    </tr>\n",
              "    <tr>\n",
              "      <th>1</th>\n",
              "      <td>0.719034</td>\n",
              "      <td>63.660</td>\n",
              "      <td>0.683268</td>\n",
              "      <td>61.524682</td>\n",
              "    </tr>\n",
              "    <tr>\n",
              "      <th>2</th>\n",
              "      <td>0.599879</td>\n",
              "      <td>68.670</td>\n",
              "      <td>0.567885</td>\n",
              "      <td>70.203025</td>\n",
              "    </tr>\n",
              "    <tr>\n",
              "      <th>3</th>\n",
              "      <td>0.543904</td>\n",
              "      <td>72.245</td>\n",
              "      <td>0.559257</td>\n",
              "      <td>70.959395</td>\n",
              "    </tr>\n",
              "    <tr>\n",
              "      <th>4</th>\n",
              "      <td>0.512080</td>\n",
              "      <td>74.815</td>\n",
              "      <td>0.535014</td>\n",
              "      <td>73.308121</td>\n",
              "    </tr>\n",
              "  </tbody>\n",
              "</table>\n",
              "</div>\n",
              "      <button class=\"colab-df-convert\" onclick=\"convertToInteractive('df-6f8c1f5e-1346-4422-b27c-f41e9801bb9c')\"\n",
              "              title=\"Convert this dataframe to an interactive table.\"\n",
              "              style=\"display:none;\">\n",
              "        \n",
              "  <svg xmlns=\"http://www.w3.org/2000/svg\" height=\"24px\"viewBox=\"0 0 24 24\"\n",
              "       width=\"24px\">\n",
              "    <path d=\"M0 0h24v24H0V0z\" fill=\"none\"/>\n",
              "    <path d=\"M18.56 5.44l.94 2.06.94-2.06 2.06-.94-2.06-.94-.94-2.06-.94 2.06-2.06.94zm-11 1L8.5 8.5l.94-2.06 2.06-.94-2.06-.94L8.5 2.5l-.94 2.06-2.06.94zm10 10l.94 2.06.94-2.06 2.06-.94-2.06-.94-.94-2.06-.94 2.06-2.06.94z\"/><path d=\"M17.41 7.96l-1.37-1.37c-.4-.4-.92-.59-1.43-.59-.52 0-1.04.2-1.43.59L10.3 9.45l-7.72 7.72c-.78.78-.78 2.05 0 2.83L4 21.41c.39.39.9.59 1.41.59.51 0 1.02-.2 1.41-.59l7.78-7.78 2.81-2.81c.8-.78.8-2.07 0-2.86zM5.41 20L4 18.59l7.72-7.72 1.47 1.35L5.41 20z\"/>\n",
              "  </svg>\n",
              "      </button>\n",
              "      \n",
              "  <style>\n",
              "    .colab-df-container {\n",
              "      display:flex;\n",
              "      flex-wrap:wrap;\n",
              "      gap: 12px;\n",
              "    }\n",
              "\n",
              "    .colab-df-convert {\n",
              "      background-color: #E8F0FE;\n",
              "      border: none;\n",
              "      border-radius: 50%;\n",
              "      cursor: pointer;\n",
              "      display: none;\n",
              "      fill: #1967D2;\n",
              "      height: 32px;\n",
              "      padding: 0 0 0 0;\n",
              "      width: 32px;\n",
              "    }\n",
              "\n",
              "    .colab-df-convert:hover {\n",
              "      background-color: #E2EBFA;\n",
              "      box-shadow: 0px 1px 2px rgba(60, 64, 67, 0.3), 0px 1px 3px 1px rgba(60, 64, 67, 0.15);\n",
              "      fill: #174EA6;\n",
              "    }\n",
              "\n",
              "    [theme=dark] .colab-df-convert {\n",
              "      background-color: #3B4455;\n",
              "      fill: #D2E3FC;\n",
              "    }\n",
              "\n",
              "    [theme=dark] .colab-df-convert:hover {\n",
              "      background-color: #434B5C;\n",
              "      box-shadow: 0px 1px 3px 1px rgba(0, 0, 0, 0.15);\n",
              "      filter: drop-shadow(0px 1px 2px rgba(0, 0, 0, 0.3));\n",
              "      fill: #FFFFFF;\n",
              "    }\n",
              "  </style>\n",
              "\n",
              "      <script>\n",
              "        const buttonEl =\n",
              "          document.querySelector('#df-6f8c1f5e-1346-4422-b27c-f41e9801bb9c button.colab-df-convert');\n",
              "        buttonEl.style.display =\n",
              "          google.colab.kernel.accessAllowed ? 'block' : 'none';\n",
              "\n",
              "        async function convertToInteractive(key) {\n",
              "          const element = document.querySelector('#df-6f8c1f5e-1346-4422-b27c-f41e9801bb9c');\n",
              "          const dataTable =\n",
              "            await google.colab.kernel.invokeFunction('convertToInteractive',\n",
              "                                                     [key], {});\n",
              "          if (!dataTable) return;\n",
              "\n",
              "          const docLinkHtml = 'Like what you see? Visit the ' +\n",
              "            '<a target=\"_blank\" href=https://colab.research.google.com/notebooks/data_table.ipynb>data table notebook</a>'\n",
              "            + ' to learn more about interactive tables.';\n",
              "          element.innerHTML = '';\n",
              "          dataTable['output_type'] = 'display_data';\n",
              "          await google.colab.output.renderOutput(dataTable, element);\n",
              "          const docLink = document.createElement('div');\n",
              "          docLink.innerHTML = docLinkHtml;\n",
              "          element.appendChild(docLink);\n",
              "        }\n",
              "      </script>\n",
              "    </div>\n",
              "  </div>\n",
              "  "
            ]
          },
          "metadata": {},
          "execution_count": 23
        }
      ]
    },
    {
      "cell_type": "code",
      "source": [
        "import torch\n",
        "import torchvision\n",
        "from torchvision import transforms\n",
        "import matplotlib.pyplot as plt\n",
        "\n",
        "from typing import List, Tuple\n",
        "\n",
        "from PIL import Image\n",
        "\n",
        "def pred_and_plot_image(\n",
        "    model: torch.nn.Module,\n",
        "    class_names: List[str],\n",
        "    image_path: str,\n",
        "    image_size: Tuple[int, int] = (224, 224),\n",
        "    transform: torchvision.transforms = None,\n",
        "    device: torch.device = device,\n",
        "):\n",
        "    # Open image\n",
        "    img = Image.open(image_path)\n",
        "\n",
        "    # Create transformation for image (if one doesn't exist)\n",
        "    if transform is not None:\n",
        "        image_transform = transform\n",
        "    else:\n",
        "        image_transform = transforms.Compose(\n",
        "            [\n",
        "                transforms.Resize(image_size),\n",
        "                transforms.ToTensor(),\n",
        "                transforms.Normalize(\n",
        "                    mean=[0.485, 0.456, 0.406], std=[0.229, 0.224, 0.225]\n",
        "                ),\n",
        "            ]\n",
        "        )\n",
        "\n",
        "    ### Predict on image ###\n",
        "\n",
        "    # Make sure the model is on the target device\n",
        "    model.to(device)\n",
        "\n",
        "    # Turn on model evaluation mode and inference mode\n",
        "    model.eval()\n",
        "    with torch.inference_mode():\n",
        "        # Transform and add an extra dimension to image (model requires samples in [batch_size, color_channels, height, width])\n",
        "        transformed_image = image_transform(img).unsqueeze(dim=0)\n",
        "\n",
        "        # Make a prediction on image with an extra dimension and send it to the target device\n",
        "        target_image_pred = model(transformed_image.to(device))\n",
        "\n",
        "    # Convert logits -> prediction probabilities (using torch.softmax() for multi-class classification)\n",
        "    target_image_pred_probs = torch.sigmoid(target_image_pred)\n",
        "\n",
        "    # Convert prediction probabilities -> prediction labels\n",
        "    target_image_pred_label = torch.round(target_image_pred_probs).type(torch.int64).item()\n",
        "    # Plot image with predicted label and probability\n",
        "    plt.figure()\n",
        "    plt.imshow(img)\n",
        "    plt.title(\n",
        "        f\"Pred: {class_names[target_image_pred_label]} | Prob: {target_image_pred_probs.max():.3f}\"\n",
        "    )\n",
        "    plt.axis(False)"
      ],
      "metadata": {
        "id": "tLaQhaWzP_-B"
      },
      "execution_count": null,
      "outputs": []
    },
    {
      "cell_type": "code",
      "source": [
        "!wget https://images.unsplash.com/photo-1592769606534-fe78d27bf450\n",
        "!cp photo-1592769606534-fe78d27bf450 dog2.jpg"
      ],
      "metadata": {
        "colab": {
          "base_uri": "https://localhost:8080/"
        },
        "id": "5VFdQSu2G-oY",
        "outputId": "32782ee0-e516-4e18-897d-445bf76d1bf1"
      },
      "execution_count": null,
      "outputs": [
        {
          "output_type": "stream",
          "name": "stdout",
          "text": [
            "--2023-06-18 10:32:08--  https://images.unsplash.com/photo-1592769606534-fe78d27bf450\n",
            "Resolving images.unsplash.com (images.unsplash.com)... 151.101.22.208, 2a04:4e42:5::720\n",
            "Connecting to images.unsplash.com (images.unsplash.com)|151.101.22.208|:443... connected.\n",
            "HTTP request sent, awaiting response... 200 OK\n",
            "Length: 7689149 (7.3M) [image/jpeg]\n",
            "Saving to: ‘photo-1592769606534-fe78d27bf450’\n",
            "\n",
            "photo-1592769606534 100%[===================>]   7.33M  --.-KB/s    in 0.06s   \n",
            "\n",
            "2023-06-18 10:32:08 (118 MB/s) - ‘photo-1592769606534-fe78d27bf450’ saved [7689149/7689149]\n",
            "\n"
          ]
        }
      ]
    },
    {
      "cell_type": "code",
      "source": [
        "IMAGE_PATH = \"/content/cat.jpg\"\n",
        "pred_and_plot_image(model = model_0,\n",
        "                                class_names = class_names,\n",
        "                                image_path = IMAGE_PATH,\n",
        "                                device = device)"
      ],
      "metadata": {
        "colab": {
          "base_uri": "https://localhost:8080/",
          "height": 428
        },
        "id": "VAU10pQ7QlQf",
        "outputId": "26845432-3f43-4c49-e99f-7ede2ceabb40"
      },
      "execution_count": 28,
      "outputs": [
        {
          "output_type": "display_data",
          "data": {
            "text/plain": [
              "<Figure size 640x480 with 1 Axes>"
            ],
            "image/png": "[encoded data removed]"
          },
          "metadata": {}
        }
      ]
    },
    {
      "cell_type": "code",
      "source": [
        "\n",
        "import matplotlib.pyplot as plt\n",
        "\n",
        "epochs = range(len(model_0_pd[\"train_loss\"]))\n",
        "print(epochs)\n",
        "plt.figure(figsize = (10,5))\n",
        "\n",
        "plt.subplot(1,2,1)\n",
        "plt.plot(epochs, model_0_pd[\"train_loss\"], label=\"train_loss\")\n",
        "plt.plot(epochs, model_0_pd[\"test_loss\"], label=\"test_loss\")\n",
        "plt.title(\"Train_loss\")\n",
        "plt.legend()\n",
        "plt.subplot(1,2,2)\n",
        "plt.plot(epochs, model_0_pd[\"train_acc\"], label=\"train_acc\")\n",
        "plt.plot(epochs, model_0_pd[\"test_acc\"], label=\"test_acc\")\n",
        "plt.title(\"Train_loss\")\n",
        "plt.legend()"
      ],
      "metadata": {
        "id": "FRKpNzv1fmUq",
        "colab": {
          "base_uri": "https://localhost:8080/",
          "height": 503
        },
        "outputId": "87e3f3ac-449f-44ec-cd10-1bd51c3fc630"
      },
      "execution_count": 35,
      "outputs": [
        {
          "output_type": "stream",
          "name": "stdout",
          "text": [
            "range(0, 5)\n"
          ]
        },
        {
          "output_type": "execute_result",
          "data": {
            "text/plain": [
              "<matplotlib.legend.Legend at 0x7f9b2ebd2320>"
            ]
          },
          "metadata": {},
          "execution_count": 35
        },
        {
          "output_type": "display_data",
          "data": {
            "text/plain": [
              "<Figure size 1000x500 with 2 Axes>"
            ],
            "image/png": "[encoded data removed]"
          },
          "metadata": {}
        }
      ]
    },
    {
      "cell_type": "code",
      "source": [],
      "metadata": {
        "id": "a4odctNWGvRq"
      },
      "execution_count": null,
      "outputs": []
    }
  ]
}