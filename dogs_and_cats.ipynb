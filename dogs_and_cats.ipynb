{
  "cells": [
    {
      "cell_type": "markdown",
      "metadata": {
        "id": "view-in-github",
        "colab_type": "text"
      },
      "source": [
        "<a href=\"https://colab.research.google.com/github/NNRahat/PyTorch_projects/blob/main/dogs_and_cats.ipynb\" target=\"_parent\"><img src=\"https://colab.research.google.com/assets/colab-badge.svg\" alt=\"Open In Colab\"/></a>"
      ]
    },
    {
      "cell_type": "code",
      "execution_count": 1,
      "metadata": {
        "id": "FS3FB07H0mHM"
      },
      "outputs": [],
      "source": [
        "import torch\n",
        "from torchvision import datasets, transforms\n",
        "from torch import nn\n",
        "import os"
      ]
    },
    {
      "cell_type": "markdown",
      "metadata": {
        "id": "fx6TqDdHeSEM"
      },
      "source": [
        "## downloading the dataset from kaggle"
      ]
    },
    {
      "cell_type": "code",
      "execution_count": 2,
      "metadata": {
        "colab": {
          "base_uri": "https://localhost:8080/"
        },
        "id": "cnrlXWuMz-O9",
        "outputId": "0626bc74-9865-40cf-bde4-016607459166"
      },
      "outputs": [
        {
          "output_type": "stream",
          "name": "stdout",
          "text": [
            "Warning: Your Kaggle API key is readable by other users on this system! To fix this, you can run 'chmod 600 /root/.kaggle/kaggle.json'\n",
            "Downloading dogs-vs-cats.zip to /content\n",
            " 98% 1.04G/1.06G [00:03<00:00, 254MB/s]\n",
            "100% 1.06G/1.06G [00:04<00:00, 283MB/s]\n"
          ]
        }
      ],
      "source": [
        "#upload the kaggle json\n",
        "!mkdir -p ~/.kaggle\n",
        "!cp kaggle.json ~/.kaggle/\n",
        "!kaggle datasets download -d salader/dogs-vs-cats"
      ]
    },
    {
      "cell_type": "code",
      "execution_count": 3,
      "metadata": {
        "colab": {
          "base_uri": "https://localhost:8080/",
          "height": 36
        },
        "id": "CydFGsNbwJhm",
        "outputId": "5a00dbb1-0d01-44c5-cfe4-38f7970219e4"
      },
      "outputs": [
        {
          "output_type": "execute_result",
          "data": {
            "text/plain": [
              "'cuda'"
            ],
            "application/vnd.google.colaboratory.intrinsic+json": {
              "type": "string"
            }
          },
          "metadata": {},
          "execution_count": 3
        }
      ],
      "source": [
        "device = \"cuda\" if torch.cuda.is_available() else \"cpu\"\n",
        "device"
      ]
    },
    {
      "cell_type": "markdown",
      "metadata": {
        "id": "h5cD22opea7m"
      },
      "source": [
        "## data_path"
      ]
    },
    {
      "cell_type": "code",
      "execution_count": 4,
      "metadata": {
        "colab": {
          "base_uri": "https://localhost:8080/"
        },
        "id": "SUVz4rrs5fQi",
        "outputId": "9223288f-6af1-4b88-d855-0fb61b9ee062"
      },
      "outputs": [
        {
          "output_type": "execute_result",
          "data": {
            "text/plain": [
              "PosixPath('dogs_vs_cats')"
            ]
          },
          "metadata": {},
          "execution_count": 4
        }
      ],
      "source": [
        "from pathlib import Path\n",
        "data_path = Path(\"dogs_vs_cats\")\n",
        "data_path"
      ]
    },
    {
      "cell_type": "markdown",
      "metadata": {
        "id": "4wHlQKVoeL0m"
      },
      "source": [
        "## extracting the .zip file"
      ]
    },
    {
      "cell_type": "code",
      "execution_count": 5,
      "metadata": {
        "id": "L82MNP0U0UlT"
      },
      "outputs": [],
      "source": [
        "if data_path.is_dir():\n",
        "  print(f\"directory {data_path} already exists\")\n",
        "else:\n",
        "  # unzip the file\n",
        "  import zipfile\n",
        "  zip_ref = zipfile.ZipFile('/content/dogs-vs-cats.zip', 'r')\n",
        "  zip_ref.extractall('/content')\n",
        "  zip_ref.close()"
      ]
    },
    {
      "cell_type": "code",
      "execution_count": 6,
      "metadata": {
        "colab": {
          "base_uri": "https://localhost:8080/"
        },
        "id": "9hwAhxOM0fVV",
        "outputId": "253fe55d-e3f3-4dec-9498-3fecfdabd30c"
      },
      "outputs": [
        {
          "output_type": "stream",
          "name": "stdout",
          "text": [
            "dogs_vs_cats  dogs-vs-cats.zip\tkaggle.json  sample_data  test\ttrain\n"
          ]
        }
      ],
      "source": [
        "!ls"
      ]
    },
    {
      "cell_type": "markdown",
      "metadata": {
        "id": "hhWR97qH7Cz4"
      },
      "source": [
        "## train and test dir"
      ]
    },
    {
      "cell_type": "code",
      "execution_count": 7,
      "metadata": {
        "id": "EAN7A2zY4uCT"
      },
      "outputs": [],
      "source": [
        "train_dir = data_path / \"train\"\n",
        "test_dir = data_path / \"test\""
      ]
    },
    {
      "cell_type": "code",
      "execution_count": 8,
      "metadata": {
        "colab": {
          "base_uri": "https://localhost:8080/"
        },
        "id": "1orqUnRL61Zs",
        "outputId": "252d31b2-47f9-4272-b203-deb593bb9093"
      },
      "outputs": [
        {
          "output_type": "stream",
          "name": "stdout",
          "text": [
            "Reading package lists... Done\n",
            "Building dependency tree       \n",
            "Reading state information... Done\n",
            "The following additional packages will be installed:\n",
            "  libapr1 libaprutil1 libserf-1-1 libsvn1 libutf8proc2\n",
            "Suggested packages:\n",
            "  db5.3-util libapache2-mod-svn subversion-tools\n",
            "The following NEW packages will be installed:\n",
            "  libapr1 libaprutil1 libserf-1-1 libsvn1 libutf8proc2 subversion\n",
            "0 upgraded, 6 newly installed, 0 to remove and 15 not upgraded.\n",
            "Need to get 2,355 kB of archives.\n",
            "After this operation, 10.3 MB of additional disk space will be used.\n",
            "Get:1 http://archive.ubuntu.com/ubuntu focal/main amd64 libapr1 amd64 1.6.5-1ubuntu1 [91.4 kB]\n",
            "Get:2 http://archive.ubuntu.com/ubuntu focal-updates/main amd64 libaprutil1 amd64 1.6.1-4ubuntu2.1 [84.9 kB]\n",
            "Get:3 http://archive.ubuntu.com/ubuntu focal/universe amd64 libserf-1-1 amd64 1.3.9-8build1 [45.2 kB]\n",
            "Get:4 http://archive.ubuntu.com/ubuntu focal/universe amd64 libutf8proc2 amd64 2.5.0-1 [50.0 kB]\n",
            "Get:5 http://archive.ubuntu.com/ubuntu focal-updates/universe amd64 libsvn1 amd64 1.13.0-3ubuntu0.2 [1,260 kB]\n",
            "Get:6 http://archive.ubuntu.com/ubuntu focal-updates/universe amd64 subversion amd64 1.13.0-3ubuntu0.2 [824 kB]\n",
            "Fetched 2,355 kB in 1s (3,209 kB/s)\n",
            "Selecting previously unselected package libapr1:amd64.\n",
            "(Reading database ... 123069 files and directories currently installed.)\n",
            "Preparing to unpack .../0-libapr1_1.6.5-1ubuntu1_amd64.deb ...\n",
            "Unpacking libapr1:amd64 (1.6.5-1ubuntu1) ...\n",
            "Selecting previously unselected package libaprutil1:amd64.\n",
            "Preparing to unpack .../1-libaprutil1_1.6.1-4ubuntu2.1_amd64.deb ...\n",
            "Unpacking libaprutil1:amd64 (1.6.1-4ubuntu2.1) ...\n",
            "Selecting previously unselected package libserf-1-1:amd64.\n",
            "Preparing to unpack .../2-libserf-1-1_1.3.9-8build1_amd64.deb ...\n",
            "Unpacking libserf-1-1:amd64 (1.3.9-8build1) ...\n",
            "Selecting previously unselected package libutf8proc2:amd64.\n",
            "Preparing to unpack .../3-libutf8proc2_2.5.0-1_amd64.deb ...\n",
            "Unpacking libutf8proc2:amd64 (2.5.0-1) ...\n",
            "Selecting previously unselected package libsvn1:amd64.\n",
            "Preparing to unpack .../4-libsvn1_1.13.0-3ubuntu0.2_amd64.deb ...\n",
            "Unpacking libsvn1:amd64 (1.13.0-3ubuntu0.2) ...\n",
            "Selecting previously unselected package subversion.\n",
            "Preparing to unpack .../5-subversion_1.13.0-3ubuntu0.2_amd64.deb ...\n",
            "Unpacking subversion (1.13.0-3ubuntu0.2) ...\n",
            "Setting up libutf8proc2:amd64 (2.5.0-1) ...\n",
            "Setting up libapr1:amd64 (1.6.5-1ubuntu1) ...\n",
            "Setting up libaprutil1:amd64 (1.6.1-4ubuntu2.1) ...\n",
            "Setting up libserf-1-1:amd64 (1.3.9-8build1) ...\n",
            "Setting up libsvn1:amd64 (1.13.0-3ubuntu0.2) ...\n",
            "Setting up subversion (1.13.0-3ubuntu0.2) ...\n",
            "Processing triggers for libc-bin (2.31-0ubuntu9.9) ...\n",
            "Processing triggers for man-db (2.9.1-1) ...\n",
            "A    going_moduler/README.md\n",
            "A    going_moduler/binary_engine.py\n",
            "A    going_moduler/binary_predictions.py\n",
            "A    going_moduler/data_setup.py\n",
            "A    going_moduler/model_builder.py\n",
            "A    going_moduler/multiclass_engine.py\n",
            "A    going_moduler/multiclass_predictions.py\n",
            "A    going_moduler/plot_the_results.py\n",
            "A    going_moduler/train.py\n",
            "A    going_moduler/utils.py\n",
            "Checked out revision 18.\n"
          ]
        }
      ],
      "source": [
        "!apt install subversion\n",
        "!svn checkout https://github.com/NNRahat/PyTorch_helper_scripts/trunk/going_moduler"
      ]
    },
    {
      "cell_type": "markdown",
      "source": [
        "## transform"
      ],
      "metadata": {
        "id": "YPhk73rflYeT"
      }
    },
    {
      "cell_type": "markdown",
      "metadata": {
        "id": "Oq7G7UWgBn2D"
      },
      "source": [
        "### transform `with trivial augmentation`"
      ]
    },
    {
      "cell_type": "code",
      "execution_count": 9,
      "metadata": {
        "id": "VJHoh6rPB8X4"
      },
      "outputs": [],
      "source": [
        "transform = transforms.Compose([\n",
        "    transforms.Resize(size = (224,224)),\n",
        "    transforms.TrivialAugmentWide(num_magnitude_bins = 31),\n",
        "    transforms.ToTensor()\n",
        "])"
      ]
    },
    {
      "cell_type": "markdown",
      "metadata": {
        "id": "2_DeQFEt_GDe"
      },
      "source": [
        "#### train and test dataloader"
      ]
    },
    {
      "cell_type": "code",
      "execution_count": 10,
      "metadata": {
        "id": "yQKG6aNs_Ry7"
      },
      "outputs": [],
      "source": [
        "from going_moduler import data_setup, multiclass_predictions, binary_predictions, multiclass_engine, binary_engine, plot_the_results\n",
        "\n",
        "BATCH_SIZE = 32\n",
        "train_dataloader, test_dataloader, class_names = data_setup.create_dataloaders(\n",
        "    train_dir = train_dir,\n",
        "    test_dir = test_dir,\n",
        "    transform = transform,\n",
        "    batch_size= BATCH_SIZE,\n",
        "    num_workers = os.cpu_count()\n",
        ")"
      ]
    },
    {
      "cell_type": "markdown",
      "source": [
        "### transform `without` the `trivial-augmentation`"
      ],
      "metadata": {
        "id": "l4PURWN-liZM"
      }
    },
    {
      "cell_type": "code",
      "source": [
        "transform_without_trivial = transforms.Compose([\n",
        "    transforms.Resize(size = (256, 256)),\n",
        "    transforms.ToTensor()\n",
        "])"
      ],
      "metadata": {
        "id": "BXh8no1Nj2Zj"
      },
      "execution_count": 11,
      "outputs": []
    },
    {
      "cell_type": "markdown",
      "source": [
        "#### train and test"
      ],
      "metadata": {
        "id": "98pZRJzglwVC"
      }
    },
    {
      "cell_type": "code",
      "source": [
        "from going_moduler import data_setup, multiclass_predictions, binary_predictions, multiclass_engine, binary_engine, plot_the_results\n",
        "\n",
        "BATCH_SIZE = 32\n",
        "train_dataloader_without, test_dataloader_without, class_names = data_setup.create_dataloaders(\n",
        "    train_dir = train_dir,\n",
        "    test_dir = test_dir,\n",
        "    transform = transform_without_trivial,\n",
        "    batch_size= BATCH_SIZE,\n",
        "    num_workers = os.cpu_count()\n",
        ")"
      ],
      "metadata": {
        "id": "GmqQGrivltM7"
      },
      "execution_count": 12,
      "outputs": []
    },
    {
      "cell_type": "code",
      "source": [
        "image, label = next(iter(train_dataloader))\n",
        "image[0]"
      ],
      "metadata": {
        "colab": {
          "base_uri": "https://localhost:8080/"
        },
        "id": "071EqY_1_lfC",
        "outputId": "a17308d8-b2c1-41fe-974f-399e3fc00aa2"
      },
      "execution_count": 13,
      "outputs": [
        {
          "output_type": "execute_result",
          "data": {
            "text/plain": [
              "tensor([[[0.1961, 0.1922, 0.1882,  ..., 0.8627, 0.8706, 0.8745],\n",
              "         [0.2118, 0.2078, 0.2078,  ..., 0.8549, 0.8667, 0.8706],\n",
              "         [0.2235, 0.2235, 0.2235,  ..., 0.8627, 0.8549, 0.8588],\n",
              "         ...,\n",
              "         [0.6902, 0.6627, 0.5412,  ..., 0.1490, 0.1412, 0.1294],\n",
              "         [0.6863, 0.6745, 0.5725,  ..., 0.1490, 0.1451, 0.1333],\n",
              "         [0.6667, 0.6667, 0.6000,  ..., 0.1490, 0.1412, 0.1255]],\n",
              "\n",
              "        [[0.2392, 0.2353, 0.2314,  ..., 0.9294, 0.9333, 0.9294],\n",
              "         [0.2471, 0.2431, 0.2431,  ..., 0.9255, 0.9255, 0.9255],\n",
              "         [0.2392, 0.2353, 0.2431,  ..., 0.9294, 0.9137, 0.9137],\n",
              "         ...,\n",
              "         [0.6980, 0.6706, 0.5490,  ..., 0.2667, 0.2627, 0.2588],\n",
              "         [0.6941, 0.6824, 0.5804,  ..., 0.2667, 0.2667, 0.2627],\n",
              "         [0.6745, 0.6745, 0.6078,  ..., 0.2667, 0.2627, 0.2549]],\n",
              "\n",
              "        [[0.1725, 0.1686, 0.1647,  ..., 0.9255, 0.9294, 0.9333],\n",
              "         [0.1804, 0.1804, 0.1765,  ..., 0.9176, 0.9216, 0.9294],\n",
              "         [0.1804, 0.1765, 0.1765,  ..., 0.9255, 0.9098, 0.9176],\n",
              "         ...,\n",
              "         [0.6784, 0.6510, 0.5294,  ..., 0.2745, 0.2745, 0.2784],\n",
              "         [0.6745, 0.6627, 0.5608,  ..., 0.2745, 0.2784, 0.2824],\n",
              "         [0.6549, 0.6549, 0.5882,  ..., 0.2745, 0.2745, 0.2745]]])"
            ]
          },
          "metadata": {},
          "execution_count": 13
        }
      ]
    },
    {
      "cell_type": "markdown",
      "metadata": {
        "id": "kKzB1ddrH2Ju"
      },
      "source": [
        "## model class creation with only BatchNorm2d() and conv_block_4 (`with dropouts`) & `64` neurons for `model_11`\n",
        "* with (`epoch 10`) = `85`\n",
        "\n",
        "* max came with (`transform_without_trivial`, `10 epoch`)  - `93.073%`"
      ]
    },
    {
      "cell_type": "code",
      "execution_count": 18,
      "metadata": {
        "id": "14k-hb7fH2KI"
      },
      "outputs": [],
      "source": [
        "class TinyVGG(nn.Module):\n",
        "  def __init__(self,\n",
        "               input_shape:int,\n",
        "               hidden_units:int,\n",
        "               output_shape:int):\n",
        "    super().__init__()\n",
        "    self.conv_block_1 = nn.Sequential(\n",
        "        nn.Conv2d(in_channels = input_shape,\n",
        "                  out_channels = hidden_units,\n",
        "                  padding = 0,\n",
        "                  kernel_size = 3,\n",
        "                  stride = 1),\n",
        "        nn.ReLU(),\n",
        "        nn.BatchNorm2d(num_features = hidden_units),\n",
        "        nn.Conv2d(in_channels = hidden_units,\n",
        "                  out_channels = hidden_units,\n",
        "                  padding = 0,\n",
        "                  kernel_size = 3,\n",
        "                  stride = 1),\n",
        "        nn.ReLU(),\n",
        "        nn.BatchNorm2d(num_features = hidden_units),\n",
        "        nn.MaxPool2d(kernel_size = 2),\n",
        "    )\n",
        "    self.conv_block_2 = nn.Sequential(\n",
        "        nn.Conv2d(in_channels = hidden_units,\n",
        "                  out_channels = hidden_units,\n",
        "                  padding = 0,\n",
        "                  kernel_size = 3,\n",
        "                  stride = 1),\n",
        "        nn.ReLU(),\n",
        "        nn.BatchNorm2d(num_features = hidden_units),\n",
        "        nn.Conv2d(in_channels = hidden_units,\n",
        "                  out_channels = hidden_units,\n",
        "                  padding = 0,\n",
        "                  kernel_size = 3,\n",
        "                  stride = 1),\n",
        "        nn.ReLU(),\n",
        "        nn.BatchNorm2d(num_features = hidden_units),\n",
        "        nn.MaxPool2d(kernel_size = 2),\n",
        "    )\n",
        "    self.conv_block_3 = nn.Sequential(\n",
        "        nn.Conv2d(in_channels = hidden_units,\n",
        "                  out_channels = hidden_units,\n",
        "                  padding = 0,\n",
        "                  kernel_size = 3,\n",
        "                  stride = 1),\n",
        "        nn.ReLU(),\n",
        "        nn.BatchNorm2d(num_features = hidden_units),\n",
        "        nn.Conv2d(in_channels = hidden_units,\n",
        "                  out_channels = hidden_units,\n",
        "                  padding = 0,\n",
        "                  kernel_size = 3,\n",
        "                  stride = 1),\n",
        "        nn.ReLU(),\n",
        "        nn.BatchNorm2d(num_features = hidden_units),\n",
        "        nn.MaxPool2d(kernel_size = 2),\n",
        "    )\n",
        "    self.conv_block_4 = nn.Sequential(\n",
        "        nn.Conv2d(in_channels = hidden_units,\n",
        "                  out_channels = hidden_units,\n",
        "                  padding = 0,\n",
        "                  kernel_size = 3,\n",
        "                  stride = 1),\n",
        "        nn.ReLU(),\n",
        "        nn.BatchNorm2d(num_features = hidden_units),\n",
        "        nn.Conv2d(in_channels = hidden_units,\n",
        "                  out_channels = hidden_units,\n",
        "                  padding = 0,\n",
        "                  kernel_size = 3,\n",
        "                  stride = 1),\n",
        "        nn.ReLU(),\n",
        "        nn.BatchNorm2d(num_features = hidden_units),\n",
        "        nn.MaxPool2d(kernel_size = 2),\n",
        "    )\n",
        "    self.classifier = nn.Sequential(\n",
        "        nn.Flatten(),\n",
        "        nn.Linear(in_features = hidden_units*12*12,\n",
        "                  out_features = 128),\n",
        "        nn.Dropout(0.1),\n",
        "        nn.Linear(in_features = 128,\n",
        "                  out_features = 64),\n",
        "        nn.Dropout(0.1),\n",
        "        nn.Linear(in_features = 64,\n",
        "                  out_features = output_shape)\n",
        "    )\n",
        "\n",
        "  def forward(self, x):\n",
        "    # x = self.conv_block_1(x)\n",
        "    # print(x.shape)\n",
        "    # x = self.conv_block_2(x)\n",
        "    # print(x.shape)\n",
        "    # x = self.conv_block_3(x)\n",
        "    # print(x.shape)\n",
        "    # x = self.conv_block_4(x)\n",
        "    # print(x.shape)\n",
        "    # x = self.classifier(x)\n",
        "    # return x\n",
        "\n",
        "    return self.classifier(self.conv_block_4(self.conv_block_3(self.conv_block_2(self.conv_block_1(x)))))\n"
      ]
    },
    {
      "cell_type": "code",
      "execution_count": 19,
      "metadata": {
        "id": "m5BYmEirH2KJ"
      },
      "outputs": [],
      "source": [
        "torch.manual_seed(42)\n",
        "model_11 = TinyVGG(input_shape = 3,\n",
        "                  hidden_units = 64,\n",
        "                  output_shape = 1).to(device)"
      ]
    },
    {
      "cell_type": "markdown",
      "metadata": {
        "id": "8zsCKB80H2KJ"
      },
      "source": [
        "### loss function and optimizer"
      ]
    },
    {
      "cell_type": "code",
      "execution_count": 20,
      "metadata": {
        "id": "ToJ1IDbhH2KK"
      },
      "outputs": [],
      "source": [
        "loss_fn = nn.BCEWithLogitsLoss()\n",
        "\n",
        "optimizer = torch.optim.Adam(params = model_11.parameters(),\n",
        "                             lr = 0.001)"
      ]
    },
    {
      "cell_type": "code",
      "execution_count": 21,
      "metadata": {
        "colab": {
          "base_uri": "https://localhost:8080/",
          "height": 743,
          "referenced_widgets": [
            "e2f5b33ac3c5406cbf156c65778603d6",
            "6f06d0e75f5d4c50925cad8d3877d21d",
            "09e68b37b39e4891b5f8b6ba126201fd",
            "823f072597474ba4a70d3e5c6a735db3",
            "f959638b15b543f0bcfa18ed6a4397d3",
            "eebb670a8dbd43c28a04ee4ca5e6b993",
            "70403e67fc76499b979d2b5cb3cbb910",
            "b6b1caab78d74422b0d6db79d4cf5086",
            "93af63aa61f04aa491246febd6c5e7a5",
            "2d0177b22ffc4d0499b5e3fe978fe76a",
            "ad24cc7cf8504e2fb435851f13d0761f"
          ]
        },
        "outputId": "cdde416a-ad4b-435a-e970-241ff9589208",
        "id": "W8Q6feJlH2KK"
      },
      "outputs": [
        {
          "output_type": "display_data",
          "data": {
            "text/plain": [
              "  0%|          | 0/10 [00:00<?, ?it/s]"
            ],
            "application/vnd.jupyter.widget-view+json": {
              "version_major": 2,
              "version_minor": 0,
              "model_id": "e2f5b33ac3c5406cbf156c65778603d6"
            }
          },
          "metadata": {}
        },
        {
          "output_type": "stream",
          "name": "stdout",
          "text": [
            "\n",
            "Epoch: 1\n",
            "----------------\n",
            "train loss: 0.67707, train acc: 62.835% | test loss: 0.58386, test_acc: 68.631%\n",
            "\n",
            "Epoch: 2\n",
            "----------------\n",
            "train loss: 0.55198, train acc: 71.860% | test loss: 0.54792, test_acc: 72.154%\n",
            "\n",
            "Epoch: 3\n",
            "----------------\n",
            "train loss: 0.49406, train acc: 76.460% | test loss: 0.46937, test_acc: 78.443%\n",
            "\n",
            "Epoch: 4\n",
            "----------------\n",
            "train loss: 0.42679, train acc: 80.180% | test loss: 0.38647, test_acc: 81.986%\n",
            "\n",
            "Epoch: 5\n",
            "----------------\n",
            "train loss: 0.34157, train acc: 85.100% | test loss: 0.37361, test_acc: 82.285%\n",
            "\n",
            "Epoch: 6\n",
            "----------------\n",
            "train loss: 0.26400, train acc: 89.120% | test loss: 0.33244, test_acc: 86.425%\n",
            "\n",
            "Epoch: 7\n",
            "----------------\n",
            "train loss: 0.21266, train acc: 91.420% | test loss: 0.24780, test_acc: 89.232%\n",
            "\n",
            "Epoch: 8\n",
            "----------------\n",
            "train loss: 0.17524, train acc: 92.955% | test loss: 0.23326, test_acc: 91.103%\n",
            "\n",
            "Epoch: 9\n",
            "----------------\n",
            "train loss: 0.14653, train acc: 94.045% | test loss: 0.17898, test_acc: 92.556%\n",
            "\n",
            "Epoch: 10\n",
            "----------------\n",
            "train loss: 0.12634, train acc: 94.975% | test loss: 0.19004, test_acc: 93.073%\n"
          ]
        }
      ],
      "source": [
        "torch.manual_seed(42)\n",
        "# hyper parameters\n",
        "EPOCHS = 10\n",
        "\n",
        "model_11_results = binary_engine.Binary_engine(model = model_11,\n",
        "                                train_dataloader = train_dataloader_without,\n",
        "                                test_dataloader = test_dataloader_without,\n",
        "                                loss_fn = loss_fn,\n",
        "                                optimizer = optimizer,\n",
        "                                device = device,\n",
        "                                epochs = EPOCHS)"
      ]
    },
    {
      "cell_type": "markdown",
      "metadata": {
        "id": "nUeCl1cLP_Bi"
      },
      "source": [
        "## model class creation with only BatchNorm2d() and conv_block_4 (`with dropouts`) & `70` neurons for `model_12`\n",
        "* with (`epoch 10`) = `85`\n",
        "\n",
        "* max came with (`transform_without_trivial`, `10 epoch`)  - `93.053%`"
      ]
    },
    {
      "cell_type": "code",
      "execution_count": null,
      "metadata": {
        "id": "aqoCebsBP_B-"
      },
      "outputs": [],
      "source": [
        "class TinyVGG(nn.Module):\n",
        "  def __init__(self,\n",
        "               input_shape:int,\n",
        "               hidden_units:int,\n",
        "               output_shape:int):\n",
        "    super().__init__()\n",
        "    self.conv_block_1 = nn.Sequential(\n",
        "        nn.Conv2d(in_channels = input_shape,\n",
        "                  out_channels = hidden_units,\n",
        "                  padding = 1,\n",
        "                  kernel_size = 3,\n",
        "                  stride = 1),\n",
        "        nn.ReLU(),\n",
        "        nn.BatchNorm2d(num_features = hidden_units),\n",
        "        nn.Conv2d(in_channels = hidden_units,\n",
        "                  out_channels = hidden_units,\n",
        "                  padding = 1,\n",
        "                  kernel_size = 3,\n",
        "                  stride = 1),\n",
        "        nn.ReLU(),\n",
        "        nn.BatchNorm2d(num_features = hidden_units),\n",
        "        nn.MaxPool2d(kernel_size = 2),\n",
        "    )\n",
        "    self.conv_block_2 = nn.Sequential(\n",
        "        nn.Conv2d(in_channels = hidden_units,\n",
        "                  out_channels = hidden_units,\n",
        "                  padding = 1,\n",
        "                  kernel_size = 3,\n",
        "                  stride = 1),\n",
        "        nn.ReLU(),\n",
        "        nn.BatchNorm2d(num_features = hidden_units),\n",
        "        nn.Conv2d(in_channels = hidden_units,\n",
        "                  out_channels = hidden_units,\n",
        "                  padding = 1,\n",
        "                  kernel_size = 3,\n",
        "                  stride = 1),\n",
        "        nn.ReLU(),\n",
        "        nn.BatchNorm2d(num_features = hidden_units),\n",
        "        nn.MaxPool2d(kernel_size = 2),\n",
        "    )\n",
        "    self.conv_block_3 = nn.Sequential(\n",
        "        nn.Conv2d(in_channels = hidden_units,\n",
        "                  out_channels = hidden_units,\n",
        "                  padding = 1,\n",
        "                  kernel_size = 3,\n",
        "                  stride = 1),\n",
        "        nn.ReLU(),\n",
        "        nn.BatchNorm2d(num_features = hidden_units),\n",
        "        nn.Conv2d(in_channels = hidden_units,\n",
        "                  out_channels = hidden_units,\n",
        "                  padding = 1,\n",
        "                  kernel_size = 3,\n",
        "                  stride = 1),\n",
        "        nn.ReLU(),\n",
        "        nn.BatchNorm2d(num_features = hidden_units),\n",
        "        nn.MaxPool2d(kernel_size = 2),\n",
        "    )\n",
        "    self.conv_block_4 = nn.Sequential(\n",
        "        nn.Conv2d(in_channels = hidden_units,\n",
        "                  out_channels = hidden_units,\n",
        "                  padding = 1,\n",
        "                  kernel_size = 3,\n",
        "                  stride = 1),\n",
        "        nn.ReLU(),\n",
        "        nn.BatchNorm2d(num_features = hidden_units),\n",
        "        nn.Conv2d(in_channels = hidden_units,\n",
        "                  out_channels = hidden_units,\n",
        "                  padding = 1,\n",
        "                  kernel_size = 3,\n",
        "                  stride = 1),\n",
        "        nn.ReLU(),\n",
        "        nn.BatchNorm2d(num_features = hidden_units),\n",
        "        nn.MaxPool2d(kernel_size = 2),\n",
        "    )\n",
        "    self.classifier = nn.Sequential(\n",
        "        nn.Flatten(),\n",
        "        nn.Linear(in_features = hidden_units*14*14,\n",
        "                  out_features = 128),\n",
        "        nn.Dropout(0.1),\n",
        "        nn.Linear(in_features = 128,\n",
        "                  out_features = 64),\n",
        "        nn.Dropout(0.1),\n",
        "        nn.Linear(in_features = 64,\n",
        "                  out_features = output_shape)\n",
        "    )\n",
        "\n",
        "  def forward(self, x):\n",
        "    # x = self.conv_block_1(x)\n",
        "    # print(x.shape)\n",
        "    # x = self.conv_block_2(x)\n",
        "    # print(x.shape)\n",
        "    # x = self.conv_block_3(x)\n",
        "    # print(x.shape)\n",
        "    # x = self.classifier(x)\n",
        "    # return x\n",
        "\n",
        "    return self.classifier(self.conv_block_4(self.conv_block_3(self.conv_block_2(self.conv_block_1(x)))))\n"
      ]
    },
    {
      "cell_type": "code",
      "execution_count": null,
      "metadata": {
        "id": "8d3kdy1bP_B-"
      },
      "outputs": [],
      "source": [
        "torch.manual_seed(42)\n",
        "model_12 = TinyVGG(input_shape = 3,\n",
        "                  hidden_units = 70,\n",
        "                  output_shape = 1).to(device)"
      ]
    },
    {
      "cell_type": "markdown",
      "metadata": {
        "id": "1hsigKhMP_B_"
      },
      "source": [
        "### loss function and optimizer"
      ]
    },
    {
      "cell_type": "code",
      "execution_count": null,
      "metadata": {
        "id": "I2RtQmOcP_B_"
      },
      "outputs": [],
      "source": [
        "loss_fn = nn.BCEWithLogitsLoss()\n",
        "\n",
        "optimizer = torch.optim.Adam(params = model_12.parameters(),\n",
        "                             lr = 0.001)"
      ]
    },
    {
      "cell_type": "code",
      "execution_count": null,
      "metadata": {
        "colab": {
          "base_uri": "https://localhost:8080/",
          "height": 743,
          "referenced_widgets": [
            "9b123cd5ac4149e0b8a148c9bc8ae2f5",
            "6865c0e9d4c649b4b095973bc18d4efa",
            "0d47d099128f4e8390bd0786d0951305",
            "61acf1a6056d47e8bffbda5204ebcd65",
            "d28939de3cbf4f5d84b5f261abfaf744",
            "ba90daff0c77426ebbc8429f02f0b5ec",
            "a69df4cf95a945d4866b95a1670ea438",
            "2c2ba13a53cd4073a8f9d6d43c3cabed",
            "a5d9f256586141dabfee0cce0e7983f8",
            "a4957c3e8eb1423fa33dcf811eeb0f10",
            "6674789e9fcf4418bdc744af3e3ae4dd"
          ]
        },
        "outputId": "f1851a08-9c60-4e40-fe71-f82203768116",
        "id": "wzRnDU4hP_CA"
      },
      "outputs": [
        {
          "output_type": "display_data",
          "data": {
            "text/plain": [
              "  0%|          | 0/10 [00:00<?, ?it/s]"
            ],
            "application/vnd.jupyter.widget-view+json": {
              "version_major": 2,
              "version_minor": 0,
              "model_id": "9b123cd5ac4149e0b8a148c9bc8ae2f5"
            }
          },
          "metadata": {}
        },
        {
          "output_type": "stream",
          "name": "stdout",
          "text": [
            "\n",
            "Epoch: 1\n",
            "----------------\n",
            "train loss: 0.69497, train acc: 63.750% | test loss: 0.66127, test_acc: 65.625%\n",
            "\n",
            "Epoch: 2\n",
            "----------------\n",
            "train loss: 0.52937, train acc: 74.005% | test loss: 0.49961, test_acc: 75.816%\n",
            "\n",
            "Epoch: 3\n",
            "----------------\n",
            "train loss: 0.45976, train acc: 78.435% | test loss: 0.44660, test_acc: 80.613%\n",
            "\n",
            "Epoch: 4\n",
            "----------------\n",
            "train loss: 0.38236, train acc: 82.900% | test loss: 0.43887, test_acc: 80.195%\n",
            "\n",
            "Epoch: 5\n",
            "----------------\n",
            "train loss: 0.30883, train acc: 86.690% | test loss: 0.30204, test_acc: 86.405%\n",
            "\n",
            "Epoch: 6\n",
            "----------------\n",
            "train loss: 0.23950, train acc: 90.330% | test loss: 0.24147, test_acc: 90.127%\n",
            "\n",
            "Epoch: 7\n",
            "----------------\n",
            "train loss: 0.18333, train acc: 92.530% | test loss: 0.17488, test_acc: 92.396%\n",
            "\n",
            "Epoch: 8\n",
            "----------------\n",
            "train loss: 0.14281, train acc: 94.360% | test loss: 0.20900, test_acc: 91.162%\n",
            "\n",
            "Epoch: 9\n",
            "----------------\n",
            "train loss: 0.12574, train acc: 94.895% | test loss: 0.17322, test_acc: 93.790%\n",
            "\n",
            "Epoch: 10\n",
            "----------------\n",
            "train loss: 0.10059, train acc: 96.035% | test loss: 0.21728, test_acc: 93.053%\n"
          ]
        }
      ],
      "source": [
        "# hyper parameters\n",
        "EPOCHS = 10\n",
        "\n",
        "model_12_results = binary_engine.Binary_engine(model = model_12,\n",
        "                                train_dataloader = train_dataloader_without,\n",
        "                                test_dataloader = test_dataloader_without,\n",
        "                                loss_fn = loss_fn,\n",
        "                                optimizer = optimizer,\n",
        "                                device = device,\n",
        "                                epochs = EPOCHS)"
      ]
    },
    {
      "cell_type": "markdown",
      "metadata": {
        "id": "wmLEYvF8IuJ7"
      },
      "source": [
        "## model class creation with only BatchNorm2d() and conv_block_4 (`with dropouts`) & `64` neurons for `model_13`\n",
        "* with (`epoch 10`) = `85`\n",
        "\n",
        "* max came with (`transform_without_trivial`, `10 epoch`)  - `92.317%`"
      ]
    },
    {
      "cell_type": "code",
      "execution_count": null,
      "metadata": {
        "id": "lTZaTVIOIuKM"
      },
      "outputs": [],
      "source": [
        "class TinyVGG(nn.Module):\n",
        "  def __init__(self,\n",
        "               input_shape:int,\n",
        "               hidden_units:int,\n",
        "               output_shape:int):\n",
        "    super().__init__()\n",
        "    self.conv_block_1 = nn.Sequential(\n",
        "        nn.Conv2d(in_channels = input_shape,\n",
        "                  out_channels = hidden_units,\n",
        "                  padding = 1,\n",
        "                  kernel_size = 3,\n",
        "                  stride = 1),\n",
        "        nn.ReLU(),\n",
        "        nn.BatchNorm2d(num_features = hidden_units),\n",
        "        nn.Conv2d(in_channels = hidden_units,\n",
        "                  out_channels = hidden_units,\n",
        "                  padding = 1,\n",
        "                  kernel_size = 3,\n",
        "                  stride = 1),\n",
        "        nn.ReLU(),\n",
        "        nn.BatchNorm2d(num_features = hidden_units),\n",
        "        nn.MaxPool2d(kernel_size = 2),\n",
        "    )\n",
        "    self.conv_block_2 = nn.Sequential(\n",
        "        nn.Conv2d(in_channels = hidden_units,\n",
        "                  out_channels = hidden_units,\n",
        "                  padding = 1,\n",
        "                  kernel_size = 3,\n",
        "                  stride = 1),\n",
        "        nn.ReLU(),\n",
        "        nn.BatchNorm2d(num_features = hidden_units),\n",
        "        nn.Conv2d(in_channels = hidden_units,\n",
        "                  out_channels = hidden_units,\n",
        "                  padding = 1,\n",
        "                  kernel_size = 3,\n",
        "                  stride = 1),\n",
        "        nn.ReLU(),\n",
        "        nn.BatchNorm2d(num_features = hidden_units),\n",
        "        nn.MaxPool2d(kernel_size = 2),\n",
        "    )\n",
        "    self.conv_block_3 = nn.Sequential(\n",
        "        nn.Conv2d(in_channels = hidden_units,\n",
        "                  out_channels = hidden_units,\n",
        "                  padding = 1,\n",
        "                  kernel_size = 3,\n",
        "                  stride = 1),\n",
        "        nn.ReLU(),\n",
        "        nn.BatchNorm2d(num_features = hidden_units),\n",
        "        nn.Conv2d(in_channels = hidden_units,\n",
        "                  out_channels = hidden_units,\n",
        "                  padding = 1,\n",
        "                  kernel_size = 3,\n",
        "                  stride = 1),\n",
        "        nn.ReLU(),\n",
        "        nn.BatchNorm2d(num_features = hidden_units),\n",
        "        nn.MaxPool2d(kernel_size = 2),\n",
        "    )\n",
        "    self.conv_block_4 = nn.Sequential(\n",
        "        nn.Conv2d(in_channels = hidden_units,\n",
        "                  out_channels = hidden_units,\n",
        "                  padding = 1,\n",
        "                  kernel_size = 3,\n",
        "                  stride = 1),\n",
        "        nn.ReLU(),\n",
        "        nn.BatchNorm2d(num_features = hidden_units),\n",
        "        nn.Conv2d(in_channels = hidden_units,\n",
        "                  out_channels = hidden_units,\n",
        "                  padding = 1,\n",
        "                  kernel_size = 3,\n",
        "                  stride = 1),\n",
        "        nn.ReLU(),\n",
        "        nn.BatchNorm2d(num_features = hidden_units),\n",
        "        nn.MaxPool2d(kernel_size = 2),\n",
        "    )\n",
        "    self.classifier = nn.Sequential(\n",
        "        nn.Flatten(),\n",
        "        nn.Linear(in_features = hidden_units*14*14,\n",
        "                  out_features = 128),\n",
        "        nn.Dropout(0.1),\n",
        "        nn.Linear(in_features = 128,\n",
        "                  out_features = 64),\n",
        "        nn.Dropout(0.1),\n",
        "        nn.Linear(in_features = 64,\n",
        "                  out_features = output_shape)\n",
        "    )\n",
        "\n",
        "  def forward(self, x):\n",
        "    # x = self.conv_block_1(x)\n",
        "    # print(x.shape)\n",
        "    # x = self.conv_block_2(x)\n",
        "    # print(x.shape)\n",
        "    # x = self.conv_block_3(x)\n",
        "    # print(x.shape)\n",
        "    # x = self.classifier(x)\n",
        "    # return x\n",
        "\n",
        "    return self.classifier(self.conv_block_4(self.conv_block_3(self.conv_block_2(self.conv_block_1(x)))))\n"
      ]
    },
    {
      "cell_type": "code",
      "execution_count": null,
      "metadata": {
        "id": "eREdGX0FIuKM"
      },
      "outputs": [],
      "source": [
        "model_13 = TinyVGG(input_shape = 3,\n",
        "                  hidden_units = 64,\n",
        "                  output_shape = 1).to(device)"
      ]
    },
    {
      "cell_type": "markdown",
      "metadata": {
        "id": "HE1gE5xIIuKN"
      },
      "source": [
        "### loss function and optimizer"
      ]
    },
    {
      "cell_type": "code",
      "execution_count": null,
      "metadata": {
        "id": "_Y4Ha0d-IuKN"
      },
      "outputs": [],
      "source": [
        "loss_fn = nn.BCEWithLogitsLoss()\n",
        "\n",
        "optimizer = torch.optim.Adam(params = model_13.parameters(),\n",
        "                             lr = 0.001)"
      ]
    },
    {
      "cell_type": "code",
      "execution_count": null,
      "metadata": {
        "colab": {
          "base_uri": "https://localhost:8080/",
          "height": 743,
          "referenced_widgets": [
            "fcc81416357f454f8f884d6390a853b5",
            "e2a95ad2899d4fa58e23e6547d75f973",
            "f583e2f857114ef8b58fdc439693e233",
            "0461923291944eb7b08232cc85c6b810",
            "e5663919b226483ebd13370570b8cb27",
            "16979b4cdbcf422988279cc59ff166aa",
            "8630e9edb4d24ada8b57f0b77e4f45cd",
            "39820dd8ecc440b6890249667a8e03b3",
            "58772b13049840348b6356df8be04d0d",
            "d8c9dfb2616b4b8185da9dd8adfa5b64",
            "b6c97818336643cfa28dc4f545c6cbc1"
          ]
        },
        "outputId": "9baf6b32-5ba6-42de-9cf5-88eab9f323f8",
        "id": "WzZS7aEYIuKN"
      },
      "outputs": [
        {
          "output_type": "display_data",
          "data": {
            "text/plain": [
              "  0%|          | 0/10 [00:00<?, ?it/s]"
            ],
            "application/vnd.jupyter.widget-view+json": {
              "version_major": 2,
              "version_minor": 0,
              "model_id": "fcc81416357f454f8f884d6390a853b5"
            }
          },
          "metadata": {}
        },
        {
          "output_type": "stream",
          "name": "stdout",
          "text": [
            "\n",
            "Epoch: 1\n",
            "----------------\n",
            "train loss: 0.71681, train acc: 61.710% | test loss: 0.58101, test_acc: 69.785%\n",
            "\n",
            "Epoch: 2\n",
            "----------------\n",
            "train loss: 0.53264, train acc: 72.980% | test loss: 0.59400, test_acc: 67.357%\n",
            "\n",
            "Epoch: 3\n",
            "----------------\n",
            "train loss: 0.46048, train acc: 77.955% | test loss: 0.43742, test_acc: 80.195%\n",
            "\n",
            "Epoch: 4\n",
            "----------------\n",
            "train loss: 0.37148, train acc: 83.295% | test loss: 0.42698, test_acc: 82.046%\n",
            "\n",
            "Epoch: 5\n",
            "----------------\n",
            "train loss: 0.29528, train acc: 87.420% | test loss: 0.31148, test_acc: 87.261%\n",
            "\n",
            "Epoch: 6\n",
            "----------------\n",
            "train loss: 0.22732, train acc: 90.580% | test loss: 0.24282, test_acc: 90.307%\n",
            "\n",
            "Epoch: 7\n",
            "----------------\n",
            "train loss: 0.19048, train acc: 92.310% | test loss: 0.20886, test_acc: 91.919%\n",
            "\n",
            "Epoch: 8\n",
            "----------------\n",
            "train loss: 0.15796, train acc: 93.665% | test loss: 0.24386, test_acc: 89.948%\n",
            "\n",
            "Epoch: 9\n",
            "----------------\n",
            "train loss: 0.12857, train acc: 94.945% | test loss: 0.17615, test_acc: 92.715%\n",
            "\n",
            "Epoch: 10\n",
            "----------------\n",
            "train loss: 0.10971, train acc: 95.900% | test loss: 0.26305, test_acc: 92.317%\n"
          ]
        }
      ],
      "source": [
        "# hyper parameters\n",
        "EPOCHS = 10\n",
        "\n",
        "model_13_results = binary_engine.Binary_engine(model = model_13,\n",
        "                                train_dataloader = train_dataloader_without,\n",
        "                                test_dataloader = test_dataloader_without,\n",
        "                                loss_fn = loss_fn,\n",
        "                                optimizer = optimizer,\n",
        "                                device = device,\n",
        "                                epochs = EPOCHS)"
      ]
    },
    {
      "cell_type": "markdown",
      "metadata": {
        "id": "x6xed3YlgEBJ"
      },
      "source": [
        "## model class creation with only BatchNorm2d() and conv_block_4 (`with dropouts`) & `128` neurons for `model_10`\n",
        "* with (`epoch 10`) = `85`\n",
        "\n",
        "* max came with (`transform_without_trivial`, `10 epoch`)  - `90.287%`"
      ]
    },
    {
      "cell_type": "code",
      "execution_count": null,
      "metadata": {
        "id": "Ph_Qus9CgEBf"
      },
      "outputs": [],
      "source": [
        "class TinyVGG(nn.Module):\n",
        "  def __init__(self,\n",
        "               input_shape:int,\n",
        "               hidden_units:int,\n",
        "               output_shape:int):\n",
        "    super().__init__()\n",
        "    self.conv_block_1 = nn.Sequential(\n",
        "        nn.Conv2d(in_channels = input_shape,\n",
        "                  out_channels = hidden_units,\n",
        "                  padding = 1,\n",
        "                  kernel_size = 3,\n",
        "                  stride = 1),\n",
        "        nn.ReLU(),\n",
        "        nn.BatchNorm2d(num_features = hidden_units),\n",
        "        nn.Conv2d(in_channels = hidden_units,\n",
        "                  out_channels = hidden_units,\n",
        "                  padding = 1,\n",
        "                  kernel_size = 3,\n",
        "                  stride = 1),\n",
        "        nn.ReLU(),\n",
        "        nn.BatchNorm2d(num_features = hidden_units),\n",
        "        nn.MaxPool2d(kernel_size = 2),\n",
        "    )\n",
        "    self.conv_block_2 = nn.Sequential(\n",
        "        nn.Conv2d(in_channels = hidden_units,\n",
        "                  out_channels = hidden_units,\n",
        "                  padding = 1,\n",
        "                  kernel_size = 3,\n",
        "                  stride = 1),\n",
        "        nn.ReLU(),\n",
        "        nn.BatchNorm2d(num_features = hidden_units),\n",
        "        nn.Conv2d(in_channels = hidden_units,\n",
        "                  out_channels = hidden_units,\n",
        "                  padding = 1,\n",
        "                  kernel_size = 3,\n",
        "                  stride = 1),\n",
        "        nn.ReLU(),\n",
        "        nn.BatchNorm2d(num_features = hidden_units),\n",
        "        nn.MaxPool2d(kernel_size = 2),\n",
        "    )\n",
        "    self.conv_block_3 = nn.Sequential(\n",
        "        nn.Conv2d(in_channels = hidden_units,\n",
        "                  out_channels = hidden_units,\n",
        "                  padding = 1,\n",
        "                  kernel_size = 3,\n",
        "                  stride = 1),\n",
        "        nn.ReLU(),\n",
        "        nn.BatchNorm2d(num_features = hidden_units),\n",
        "        nn.Conv2d(in_channels = hidden_units,\n",
        "                  out_channels = hidden_units,\n",
        "                  padding = 1,\n",
        "                  kernel_size = 3,\n",
        "                  stride = 1),\n",
        "        nn.ReLU(),\n",
        "        nn.BatchNorm2d(num_features = hidden_units),\n",
        "        nn.MaxPool2d(kernel_size = 2),\n",
        "    )\n",
        "    self.conv_block_4 = nn.Sequential(\n",
        "        nn.Conv2d(in_channels = hidden_units,\n",
        "                  out_channels = hidden_units,\n",
        "                  padding = 1,\n",
        "                  kernel_size = 3,\n",
        "                  stride = 1),\n",
        "        nn.ReLU(),\n",
        "        nn.BatchNorm2d(num_features = hidden_units),\n",
        "        nn.Conv2d(in_channels = hidden_units,\n",
        "                  out_channels = hidden_units,\n",
        "                  padding = 1,\n",
        "                  kernel_size = 3,\n",
        "                  stride = 1),\n",
        "        nn.ReLU(),\n",
        "        nn.BatchNorm2d(num_features = hidden_units),\n",
        "        nn.MaxPool2d(kernel_size = 2),\n",
        "    )\n",
        "    self.classifier = nn.Sequential(\n",
        "        nn.Flatten(),\n",
        "        nn.Linear(in_features = hidden_units*14*14,\n",
        "                  out_features = 128),\n",
        "        nn.Dropout(0.1),\n",
        "        nn.Linear(in_features = 128,\n",
        "                  out_features = 64),\n",
        "        nn.Dropout(0.1),\n",
        "        nn.Linear(in_features = 64,\n",
        "                  out_features = output_shape)\n",
        "    )\n",
        "\n",
        "  def forward(self, x):\n",
        "    # x = self.conv_block_1(x)\n",
        "    # print(x.shape)\n",
        "    # x = self.conv_block_2(x)\n",
        "    # print(x.shape)\n",
        "    # x = self.conv_block_3(x)\n",
        "    # print(x.shape)\n",
        "    # x = self.classifier(x)\n",
        "    # return x\n",
        "\n",
        "    return self.classifier(self.conv_block_4(self.conv_block_3(self.conv_block_2(self.conv_block_1(x)))))\n"
      ]
    },
    {
      "cell_type": "code",
      "execution_count": null,
      "metadata": {
        "id": "JmBtbexogEBg"
      },
      "outputs": [],
      "source": [
        "model_10 = TinyVGG(input_shape = 3,\n",
        "                  hidden_units = 128,\n",
        "                  output_shape = 1).to(device)"
      ]
    },
    {
      "cell_type": "markdown",
      "metadata": {
        "id": "BnOyVVLrgEBg"
      },
      "source": [
        "### loss function and optimizer"
      ]
    },
    {
      "cell_type": "code",
      "execution_count": null,
      "metadata": {
        "id": "Ac1otPAVgEBh"
      },
      "outputs": [],
      "source": [
        "loss_fn = nn.BCEWithLogitsLoss()\n",
        "\n",
        "optimizer = torch.optim.Adam(params = model_10.parameters(),\n",
        "                             lr = 0.001)"
      ]
    },
    {
      "cell_type": "code",
      "execution_count": null,
      "metadata": {
        "colab": {
          "base_uri": "https://localhost:8080/",
          "height": 726,
          "referenced_widgets": [
            "72f7cac88dd24898903881610eb1a809",
            "f1d238ad6dce4227824044c2bac45898",
            "8865113d7efa4e5a8facf2e2a75e93a3",
            "a41122d147954b2a94f00c8d8650d8a3",
            "3016f09903c244c0bac3eec2b28be02d",
            "50befd53c69a4847bcf1617ce17d853a",
            "5819955a66bf487394525f0a6b42dbe2",
            "97784018a5164994a9bf283afbd4ec37",
            "9af02e39da5d47019f128544f5364e59",
            "8b5398ab757747cbbb3375ee4080b646",
            "95efd734ca0a4f8abe24cef940b5fdf4"
          ]
        },
        "outputId": "a7af7b92-43ba-4086-c62d-07a4dd3cf67d",
        "id": "T4bQo7vZgEBh"
      },
      "outputs": [
        {
          "output_type": "display_data",
          "data": {
            "text/plain": [
              "  0%|          | 0/10 [00:00<?, ?it/s]"
            ],
            "application/vnd.jupyter.widget-view+json": {
              "version_major": 2,
              "version_minor": 0,
              "model_id": "72f7cac88dd24898903881610eb1a809"
            }
          },
          "metadata": {}
        },
        {
          "output_type": "stream",
          "name": "stdout",
          "text": [
            "\n",
            "Epoch: 1\n",
            "----------------\n",
            "train loss: 0.85991, train acc: 58.750% | test loss: 0.67704, test_acc: 62.918%\n",
            "\n",
            "Epoch: 2\n",
            "----------------\n",
            "train loss: 0.55523, train acc: 71.810% | test loss: 0.51605, test_acc: 74.443%\n",
            "\n",
            "Epoch: 3\n",
            "----------------\n",
            "train loss: 0.50084, train acc: 75.595% | test loss: 0.46671, test_acc: 77.826%\n",
            "\n",
            "Epoch: 4\n",
            "----------------\n",
            "train loss: 0.45338, train acc: 78.685% | test loss: 0.42451, test_acc: 80.076%\n",
            "\n",
            "Epoch: 5\n",
            "----------------\n",
            "train loss: 0.37958, train acc: 83.065% | test loss: 0.40493, test_acc: 81.668%\n",
            "\n",
            "Epoch: 6\n",
            "----------------\n",
            "train loss: 0.30741, train acc: 87.080% | test loss: 0.28681, test_acc: 87.480%\n",
            "\n",
            "Epoch: 7\n",
            "----------------\n",
            "train loss: 0.24740, train acc: 89.805% | test loss: 0.23778, test_acc: 89.849%\n",
            "\n",
            "Epoch: 8\n",
            "----------------\n",
            "train loss: 0.20254, train acc: 91.760% | test loss: 0.21333, test_acc: 90.864%\n",
            "\n",
            "Epoch: 9\n",
            "----------------\n",
            "train loss: 0.16464, train acc: 93.230% | test loss: 0.19607, test_acc: 92.178%\n",
            "\n",
            "Epoch: 10\n",
            "----------------\n"
          ]
        }
      ],
      "source": [
        "# hyper parameters\n",
        "EPOCHS = 10\n",
        "\n",
        "model_10_results = binary_engine.Binary_engine(model = model_10,\n",
        "                                train_dataloader = train_dataloader_without,\n",
        "                                test_dataloader = test_dataloader_without,\n",
        "                                loss_fn = loss_fn,\n",
        "                                optimizer = optimizer,\n",
        "                                device = device,\n",
        "                                epochs = EPOCHS)"
      ]
    },
    {
      "cell_type": "markdown",
      "metadata": {
        "id": "Sl0-PngVMHwW"
      },
      "source": [
        "## model class creation with 3 convblock(convblock2d, relu, batchnorm2d, maxpool2d), (with 4 `linear` layers(with `relu`), 2 `dropouts`) & `64` neurons for `model_19`\n",
        "* with (`epoch 10`) = `85`\n",
        "\n",
        "* max came with (`transform_without_trivial`, `10 epoch`)  - `89.809%`"
      ]
    },
    {
      "cell_type": "code",
      "execution_count": null,
      "metadata": {
        "id": "ftQBRxUXMHwk"
      },
      "outputs": [],
      "source": [
        "class TinyVGG(nn.Module):\n",
        "  def __init__(self,\n",
        "               input_shape:int,\n",
        "               hidden_units:int,\n",
        "               output_shape:int):\n",
        "    super().__init__()\n",
        "    self.conv_block_1 = nn.Sequential(\n",
        "        nn.Conv2d(in_channels = input_shape,\n",
        "                  out_channels = hidden_units,\n",
        "                  padding = 1,\n",
        "                  kernel_size = 3,\n",
        "                  stride = 1),\n",
        "        nn.ReLU(),\n",
        "        nn.BatchNorm2d(num_features = hidden_units),\n",
        "        nn.MaxPool2d(kernel_size = 2),\n",
        "    )\n",
        "    self.conv_block_2 = nn.Sequential(\n",
        "        nn.Conv2d(in_channels = hidden_units,\n",
        "                  out_channels = hidden_units,\n",
        "                  padding = 1,\n",
        "                  kernel_size = 3,\n",
        "                  stride = 1),\n",
        "        nn.ReLU(),\n",
        "        nn.BatchNorm2d(num_features = hidden_units),\n",
        "        nn.MaxPool2d(kernel_size = 2),\n",
        "    )\n",
        "    self.conv_block_3 = nn.Sequential(\n",
        "        nn.Conv2d(in_channels = hidden_units,\n",
        "                  out_channels = hidden_units,\n",
        "                  padding = 1,\n",
        "                  kernel_size = 3,\n",
        "                  stride = 1),\n",
        "        nn.ReLU(),\n",
        "        nn.BatchNorm2d(num_features = hidden_units),\n",
        "        nn.MaxPool2d(kernel_size = 2),\n",
        "    )\n",
        "    self.conv_block_4 = nn.Sequential(\n",
        "        nn.Conv2d(in_channels = hidden_units,\n",
        "                  out_channels = hidden_units,\n",
        "                  padding = 1,\n",
        "                  kernel_size = 3,\n",
        "                  stride = 1),\n",
        "        nn.ReLU(),\n",
        "        nn.BatchNorm2d(num_features = hidden_units),\n",
        "        nn.MaxPool2d(kernel_size = 2),\n",
        "    )\n",
        "    self.classifier = nn.Sequential(\n",
        "        nn.Flatten(),\n",
        "        nn.Linear(in_features = hidden_units*14*14,\n",
        "                  out_features = 128),\n",
        "        nn.ReLU(),\n",
        "        nn.Dropout(0.1),\n",
        "        nn.Linear(in_features = 128,\n",
        "                  out_features = 64),\n",
        "        nn.ReLU(),\n",
        "        nn.Dropout(0.1),\n",
        "        nn.Linear(in_features = 64,\n",
        "                  out_features = output_shape)\n",
        "    )\n",
        "\n",
        "  def forward(self, x):\n",
        "    # x = self.conv_block_1(x)\n",
        "    # print(x.shape)\n",
        "    # x = self.conv_block_2(x)\n",
        "    # print(x.shape)\n",
        "    # x = self.conv_block_3(x)\n",
        "    # print(x.shape)\n",
        "    # x = self.classifier(x)\n",
        "    # return x\n",
        "\n",
        "    return self.classifier(self.conv_block_4(self.conv_block_3(self.conv_block_2(self.conv_block_1(x)))))\n"
      ]
    },
    {
      "cell_type": "code",
      "execution_count": null,
      "metadata": {
        "id": "Bq54nlYiMHwk"
      },
      "outputs": [],
      "source": [
        "model_19 = TinyVGG(input_shape = 3,\n",
        "                  hidden_units = 64,\n",
        "                  output_shape = 1).to(device)"
      ]
    },
    {
      "cell_type": "markdown",
      "metadata": {
        "id": "MwvMqpO_MHwl"
      },
      "source": [
        "### loss function and optimizer"
      ]
    },
    {
      "cell_type": "code",
      "execution_count": null,
      "metadata": {
        "id": "6R9cV6-9MHwl"
      },
      "outputs": [],
      "source": [
        "loss_fn = nn.BCEWithLogitsLoss()\n",
        "\n",
        "optimizer = torch.optim.Adam(params = model_19.parameters(),\n",
        "                             lr = 0.001)"
      ]
    },
    {
      "cell_type": "code",
      "execution_count": null,
      "metadata": {
        "id": "jXfmCVlJMHwl",
        "colab": {
          "base_uri": "https://localhost:8080/",
          "height": 743,
          "referenced_widgets": [
            "10a08e351c4b4356b077db24b96c3da8",
            "c59b585db6614a63975ccb849de55048",
            "fdd31aba8da6411bae1331042a77f1b3",
            "b4912c2fdb2244c6ba197be5f2680336",
            "28da34852ac247e9802cd28b1dde2d9a",
            "31b2eaa8147345d79ea4b30dd8858cb4",
            "6d981793b11e42f4b8cc1521c248575e",
            "41501f9797f94c4db4bfecb79ad66b19",
            "066769cb952d4d6694b28c6b85d52803",
            "6af74f678402401dbb999db8e6e744eb",
            "2e8885e27ee0463688453f0b7704c768"
          ]
        },
        "outputId": "87c8d9b2-9e43-4c67-b09a-8b4d30684ab8"
      },
      "outputs": [
        {
          "output_type": "display_data",
          "data": {
            "text/plain": [
              "  0%|          | 0/10 [00:00<?, ?it/s]"
            ],
            "application/vnd.jupyter.widget-view+json": {
              "version_major": 2,
              "version_minor": 0,
              "model_id": "10a08e351c4b4356b077db24b96c3da8"
            }
          },
          "metadata": {}
        },
        {
          "output_type": "stream",
          "name": "stdout",
          "text": [
            "\n",
            "Epoch: 1\n",
            "----------------\n",
            "train loss: 0.59047, train acc: 69.015% | test loss: 0.50712, test_acc: 75.000%\n",
            "\n",
            "Epoch: 2\n",
            "----------------\n",
            "train loss: 0.45198, train acc: 78.695% | test loss: 0.48747, test_acc: 76.791%\n",
            "\n",
            "Epoch: 3\n",
            "----------------\n",
            "train loss: 0.34390, train acc: 84.875% | test loss: 0.33193, test_acc: 85.510%\n",
            "\n",
            "Epoch: 4\n",
            "----------------\n",
            "train loss: 0.23571, train acc: 90.265% | test loss: 0.32527, test_acc: 86.923%\n",
            "\n",
            "Epoch: 5\n",
            "----------------\n",
            "train loss: 0.15472, train acc: 93.755% | test loss: 0.29388, test_acc: 89.252%\n",
            "\n",
            "Epoch: 6\n",
            "----------------\n",
            "train loss: 0.08817, train acc: 96.805% | test loss: 0.30693, test_acc: 88.515%\n",
            "\n",
            "Epoch: 7\n",
            "----------------\n",
            "train loss: 0.06040, train acc: 97.760% | test loss: 0.35816, test_acc: 90.008%\n",
            "\n",
            "Epoch: 8\n",
            "----------------\n",
            "train loss: 0.04463, train acc: 98.350% | test loss: 0.32684, test_acc: 90.506%\n",
            "\n",
            "Epoch: 9\n",
            "----------------\n",
            "train loss: 0.03879, train acc: 98.760% | test loss: 0.42815, test_acc: 89.889%\n",
            "\n",
            "Epoch: 10\n",
            "----------------\n",
            "train loss: 0.03663, train acc: 98.800% | test loss: 0.36074, test_acc: 89.431%\n"
          ]
        }
      ],
      "source": [
        "# hyper parameters\n",
        "EPOCHS = 10\n",
        "\n",
        "model_19_results = binary_engine.Binary_engine(model = model_19,\n",
        "                                train_dataloader = train_dataloader_without,\n",
        "                                test_dataloader = test_dataloader_without,\n",
        "                                loss_fn = loss_fn,\n",
        "                                optimizer = optimizer,\n",
        "                                device = device,\n",
        "                                epochs = EPOCHS)"
      ]
    },
    {
      "cell_type": "markdown",
      "source": [
        "## predict a random image"
      ],
      "metadata": {
        "id": "0AR1rDBrWCKw"
      }
    },
    {
      "cell_type": "code",
      "execution_count": null,
      "metadata": {
        "id": "tLaQhaWzP_-B"
      },
      "outputs": [],
      "source": [
        "import torch\n",
        "import torchvision\n",
        "from torchvision import transforms\n",
        "import matplotlib.pyplot as plt\n",
        "\n",
        "from typing import List, Tuple\n",
        "\n",
        "from PIL import Image\n",
        "\n",
        "def pred_and_plot_image(\n",
        "    model: torch.nn.Module,\n",
        "    class_names: List[str],\n",
        "    image_path: str,\n",
        "    image_size: Tuple[int, int] = (224, 224),\n",
        "    transform: torchvision.transforms = None,\n",
        "    device: torch.device = device,\n",
        "):\n",
        "    # Open image\n",
        "    img = Image.open(image_path)\n",
        "\n",
        "    # Create transformation for image (if one doesn't exist)\n",
        "    if transform is not None:\n",
        "        image_transform = transform\n",
        "    else:\n",
        "        image_transform = transforms.Compose(\n",
        "            [\n",
        "                transforms.Resize(image_size),\n",
        "                transforms.ToTensor(),\n",
        "                transforms.Normalize(\n",
        "                    mean=[0.485, 0.456, 0.406], std=[0.229, 0.224, 0.225]\n",
        "                ),\n",
        "            ]\n",
        "        )\n",
        "\n",
        "    ### Predict on image ###\n",
        "\n",
        "    # Make sure the model is on the target device\n",
        "    model.to(device)\n",
        "\n",
        "    # Turn on model evaluation mode and inference mode\n",
        "    model.eval()\n",
        "    with torch.inference_mode():\n",
        "        # Transform and add an extra dimension to image (model requires samples in [batch_size, color_channels, height, width])\n",
        "        transformed_image = image_transform(img).unsqueeze(dim=0)\n",
        "\n",
        "        # Make a prediction on image with an extra dimension and send it to the target device\n",
        "        target_image_pred = model(transformed_image.to(device))\n",
        "\n",
        "    # Convert logits -> prediction probabilities (using torch.softmax() for multi-class classification)\n",
        "    target_image_pred_probs = torch.sigmoid(target_image_pred)\n",
        "\n",
        "    # Convert prediction probabilities -> prediction labels\n",
        "    target_image_pred_label = torch.round(target_image_pred_probs).type(torch.int64).item()\n",
        "    # Plot image with predicted label and probability\n",
        "    plt.figure()\n",
        "    plt.imshow(img)\n",
        "    plt.title(\n",
        "        f\"Pred: {class_names[target_image_pred_label]} | Prob: {target_image_pred_probs.max():.3f}\"\n",
        "    )\n",
        "    plt.axis(False)"
      ]
    },
    {
      "cell_type": "code",
      "execution_count": null,
      "metadata": {
        "colab": {
          "base_uri": "https://localhost:8080/"
        },
        "id": "5VFdQSu2G-oY",
        "outputId": "3301d0f6-bb85-48f8-c40e-aecc6174440f"
      },
      "outputs": [
        {
          "name": "stdout",
          "output_type": "stream",
          "text": [
            "--2023-06-19 17:50:35--  https://images.unsplash.com/photo-1592769606534-fe78d27bf450\n",
            "Resolving images.unsplash.com (images.unsplash.com)... 146.75.78.208, 2a04:4e42:84::720\n",
            "Connecting to images.unsplash.com (images.unsplash.com)|146.75.78.208|:443... connected.\n",
            "HTTP request sent, awaiting response... 200 OK\n",
            "Length: 7689149 (7.3M) [image/jpeg]\n",
            "Saving to: ‘photo-1592769606534-fe78d27bf450’\n",
            "\n",
            "photo-1592769606534 100%[===================>]   7.33M  --.-KB/s    in 0.08s   \n",
            "\n",
            "2023-06-19 17:50:35 (86.4 MB/s) - ‘photo-1592769606534-fe78d27bf450’ saved [7689149/7689149]\n",
            "\n"
          ]
        }
      ],
      "source": [
        "!wget https://images.unsplash.com/photo-1592769606534-fe78d27bf450\n",
        "!cp photo-1592769606534-fe78d27bf450 dog2.jpg"
      ]
    },
    {
      "cell_type": "code",
      "execution_count": null,
      "metadata": {
        "colab": {
          "base_uri": "https://localhost:8080/",
          "height": 428
        },
        "id": "VAU10pQ7QlQf",
        "outputId": "67fa24a9-6f59-4e79-ae9c-3ede0e38c975"
      },
      "outputs": [
        {
          "data": {
            "image/png": "[encoded data removed]",
            "text/plain": [
              "<Figure size 640x480 with 1 Axes>"
            ]
          },
          "metadata": {},
          "output_type": "display_data"
        }
      ],
      "source": [
        "IMAGE_PATH = \"/content/cat.jpg\"\n",
        "from going_moduler import binary_predictions\n",
        "pred_and_plot_image(model = model_1,\n",
        "                                class_names = class_names,\n",
        "                                image_path = IMAGE_PATH,\n",
        "                                device = device)"
      ]
    }
  ],
  "metadata": {
    "accelerator": "GPU",
    "colab": {
      "collapsed_sections": [
        "YPhk73rflYeT",
        "Oq7G7UWgBn2D",
        "nUeCl1cLP_Bi",
        "wmLEYvF8IuJ7",
        "x6xed3YlgEBJ",
        "Sl0-PngVMHwW",
        "0AR1rDBrWCKw"
      ],
      "provenance": [],
      "authorship_tag": "ABX9TyPuE0cJTAUSkN6Lz7cXws0y",
      "include_colab_link": true
    },
    "kernelspec": {
      "display_name": "Python 3",
      "name": "python3"
    },
    "language_info": {
      "name": "python"
    },
    "widgets": {
      "application/vnd.jupyter.widget-state+json": {
        "fcc81416357f454f8f884d6390a853b5": {
          "model_module": "@jupyter-widgets/controls",
          "model_name": "HBoxModel",
          "model_module_version": "1.5.0",
          "state": {
            "_dom_classes": [],
            "_model_module": "@jupyter-widgets/controls",
            "_model_module_version": "1.5.0",
            "_model_name": "HBoxModel",
            "_view_count": null,
            "_view_module": "@jupyter-widgets/controls",
            "_view_module_version": "1.5.0",
            "_view_name": "HBoxView",
            "box_style": "",
            "children": [
              "IPY_MODEL_e2a95ad2899d4fa58e23e6547d75f973",
              "IPY_MODEL_f583e2f857114ef8b58fdc439693e233",
              "IPY_MODEL_0461923291944eb7b08232cc85c6b810"
            ],
            "layout": "IPY_MODEL_e5663919b226483ebd13370570b8cb27"
          }
        },
        "e2a95ad2899d4fa58e23e6547d75f973": {
          "model_module": "@jupyter-widgets/controls",
          "model_name": "HTMLModel",
          "model_module_version": "1.5.0",
          "state": {
            "_dom_classes": [],
            "_model_module": "@jupyter-widgets/controls",
            "_model_module_version": "1.5.0",
            "_model_name": "HTMLModel",
            "_view_count": null,
            "_view_module": "@jupyter-widgets/controls",
            "_view_module_version": "1.5.0",
            "_view_name": "HTMLView",
            "description": "",
            "description_tooltip": null,
            "layout": "IPY_MODEL_16979b4cdbcf422988279cc59ff166aa",
            "placeholder": "​",
            "style": "IPY_MODEL_8630e9edb4d24ada8b57f0b77e4f45cd",
            "value": "100%"
          }
        },
        "f583e2f857114ef8b58fdc439693e233": {
          "model_module": "@jupyter-widgets/controls",
          "model_name": "FloatProgressModel",
          "model_module_version": "1.5.0",
          "state": {
            "_dom_classes": [],
            "_model_module": "@jupyter-widgets/controls",
            "_model_module_version": "1.5.0",
            "_model_name": "FloatProgressModel",
            "_view_count": null,
            "_view_module": "@jupyter-widgets/controls",
            "_view_module_version": "1.5.0",
            "_view_name": "ProgressView",
            "bar_style": "success",
            "description": "",
            "description_tooltip": null,
            "layout": "IPY_MODEL_39820dd8ecc440b6890249667a8e03b3",
            "max": 10,
            "min": 0,
            "orientation": "horizontal",
            "style": "IPY_MODEL_58772b13049840348b6356df8be04d0d",
            "value": 10
          }
        },
        "0461923291944eb7b08232cc85c6b810": {
          "model_module": "@jupyter-widgets/controls",
          "model_name": "HTMLModel",
          "model_module_version": "1.5.0",
          "state": {
            "_dom_classes": [],
            "_model_module": "@jupyter-widgets/controls",
            "_model_module_version": "1.5.0",
            "_model_name": "HTMLModel",
            "_view_count": null,
            "_view_module": "@jupyter-widgets/controls",
            "_view_module_version": "1.5.0",
            "_view_name": "HTMLView",
            "description": "",
            "description_tooltip": null,
            "layout": "IPY_MODEL_d8c9dfb2616b4b8185da9dd8adfa5b64",
            "placeholder": "​",
            "style": "IPY_MODEL_b6c97818336643cfa28dc4f545c6cbc1",
            "value": " 10/10 [28:13&lt;00:00, 168.90s/it]"
          }
        },
        "e5663919b226483ebd13370570b8cb27": {
          "model_module": "@jupyter-widgets/base",
          "model_name": "LayoutModel",
          "model_module_version": "1.2.0",
          "state": {
            "_model_module": "@jupyter-widgets/base",
            "_model_module_version": "1.2.0",
            "_model_name": "LayoutModel",
            "_view_count": null,
            "_view_module": "@jupyter-widgets/base",
            "_view_module_version": "1.2.0",
            "_view_name": "LayoutView",
            "align_content": null,
            "align_items": null,
            "align_self": null,
            "border": null,
            "bottom": null,
            "display": null,
            "flex": null,
            "flex_flow": null,
            "grid_area": null,
            "grid_auto_columns": null,
            "grid_auto_flow": null,
            "grid_auto_rows": null,
            "grid_column": null,
            "grid_gap": null,
            "grid_row": null,
            "grid_template_areas": null,
            "grid_template_columns": null,
            "grid_template_rows": null,
            "height": null,
            "justify_content": null,
            "justify_items": null,
            "left": null,
            "margin": null,
            "max_height": null,
            "max_width": null,
            "min_height": null,
            "min_width": null,
            "object_fit": null,
            "object_position": null,
            "order": null,
            "overflow": null,
            "overflow_x": null,
            "overflow_y": null,
            "padding": null,
            "right": null,
            "top": null,
            "visibility": null,
            "width": null
          }
        },
        "16979b4cdbcf422988279cc59ff166aa": {
          "model_module": "@jupyter-widgets/base",
          "model_name": "LayoutModel",
          "model_module_version": "1.2.0",
          "state": {
            "_model_module": "@jupyter-widgets/base",
            "_model_module_version": "1.2.0",
            "_model_name": "LayoutModel",
            "_view_count": null,
            "_view_module": "@jupyter-widgets/base",
            "_view_module_version": "1.2.0",
            "_view_name": "LayoutView",
            "align_content": null,
            "align_items": null,
            "align_self": null,
            "border": null,
            "bottom": null,
            "display": null,
            "flex": null,
            "flex_flow": null,
            "grid_area": null,
            "grid_auto_columns": null,
            "grid_auto_flow": null,
            "grid_auto_rows": null,
            "grid_column": null,
            "grid_gap": null,
            "grid_row": null,
            "grid_template_areas": null,
            "grid_template_columns": null,
            "grid_template_rows": null,
            "height": null,
            "justify_content": null,
            "justify_items": null,
            "left": null,
            "margin": null,
            "max_height": null,
            "max_width": null,
            "min_height": null,
            "min_width": null,
            "object_fit": null,
            "object_position": null,
            "order": null,
            "overflow": null,
            "overflow_x": null,
            "overflow_y": null,
            "padding": null,
            "right": null,
            "top": null,
            "visibility": null,
            "width": null
          }
        },
        "8630e9edb4d24ada8b57f0b77e4f45cd": {
          "model_module": "@jupyter-widgets/controls",
          "model_name": "DescriptionStyleModel",
          "model_module_version": "1.5.0",
          "state": {
            "_model_module": "@jupyter-widgets/controls",
            "_model_module_version": "1.5.0",
            "_model_name": "DescriptionStyleModel",
            "_view_count": null,
            "_view_module": "@jupyter-widgets/base",
            "_view_module_version": "1.2.0",
            "_view_name": "StyleView",
            "description_width": ""
          }
        },
        "39820dd8ecc440b6890249667a8e03b3": {
          "model_module": "@jupyter-widgets/base",
          "model_name": "LayoutModel",
          "model_module_version": "1.2.0",
          "state": {
            "_model_module": "@jupyter-widgets/base",
            "_model_module_version": "1.2.0",
            "_model_name": "LayoutModel",
            "_view_count": null,
            "_view_module": "@jupyter-widgets/base",
            "_view_module_version": "1.2.0",
            "_view_name": "LayoutView",
            "align_content": null,
            "align_items": null,
            "align_self": null,
            "border": null,
            "bottom": null,
            "display": null,
            "flex": null,
            "flex_flow": null,
            "grid_area": null,
            "grid_auto_columns": null,
            "grid_auto_flow": null,
            "grid_auto_rows": null,
            "grid_column": null,
            "grid_gap": null,
            "grid_row": null,
            "grid_template_areas": null,
            "grid_template_columns": null,
            "grid_template_rows": null,
            "height": null,
            "justify_content": null,
            "justify_items": null,
            "left": null,
            "margin": null,
            "max_height": null,
            "max_width": null,
            "min_height": null,
            "min_width": null,
            "object_fit": null,
            "object_position": null,
            "order": null,
            "overflow": null,
            "overflow_x": null,
            "overflow_y": null,
            "padding": null,
            "right": null,
            "top": null,
            "visibility": null,
            "width": null
          }
        },
        "58772b13049840348b6356df8be04d0d": {
          "model_module": "@jupyter-widgets/controls",
          "model_name": "ProgressStyleModel",
          "model_module_version": "1.5.0",
          "state": {
            "_model_module": "@jupyter-widgets/controls",
            "_model_module_version": "1.5.0",
            "_model_name": "ProgressStyleModel",
            "_view_count": null,
            "_view_module": "@jupyter-widgets/base",
            "_view_module_version": "1.2.0",
            "_view_name": "StyleView",
            "bar_color": null,
            "description_width": ""
          }
        },
        "d8c9dfb2616b4b8185da9dd8adfa5b64": {
          "model_module": "@jupyter-widgets/base",
          "model_name": "LayoutModel",
          "model_module_version": "1.2.0",
          "state": {
            "_model_module": "@jupyter-widgets/base",
            "_model_module_version": "1.2.0",
            "_model_name": "LayoutModel",
            "_view_count": null,
            "_view_module": "@jupyter-widgets/base",
            "_view_module_version": "1.2.0",
            "_view_name": "LayoutView",
            "align_content": null,
            "align_items": null,
            "align_self": null,
            "border": null,
            "bottom": null,
            "display": null,
            "flex": null,
            "flex_flow": null,
            "grid_area": null,
            "grid_auto_columns": null,
            "grid_auto_flow": null,
            "grid_auto_rows": null,
            "grid_column": null,
            "grid_gap": null,
            "grid_row": null,
            "grid_template_areas": null,
            "grid_template_columns": null,
            "grid_template_rows": null,
            "height": null,
            "justify_content": null,
            "justify_items": null,
            "left": null,
            "margin": null,
            "max_height": null,
            "max_width": null,
            "min_height": null,
            "min_width": null,
            "object_fit": null,
            "object_position": null,
            "order": null,
            "overflow": null,
            "overflow_x": null,
            "overflow_y": null,
            "padding": null,
            "right": null,
            "top": null,
            "visibility": null,
            "width": null
          }
        },
        "b6c97818336643cfa28dc4f545c6cbc1": {
          "model_module": "@jupyter-widgets/controls",
          "model_name": "DescriptionStyleModel",
          "model_module_version": "1.5.0",
          "state": {
            "_model_module": "@jupyter-widgets/controls",
            "_model_module_version": "1.5.0",
            "_model_name": "DescriptionStyleModel",
            "_view_count": null,
            "_view_module": "@jupyter-widgets/base",
            "_view_module_version": "1.2.0",
            "_view_name": "StyleView",
            "description_width": ""
          }
        },
        "72f7cac88dd24898903881610eb1a809": {
          "model_module": "@jupyter-widgets/controls",
          "model_name": "HBoxModel",
          "model_module_version": "1.5.0",
          "state": {
            "_dom_classes": [],
            "_model_module": "@jupyter-widgets/controls",
            "_model_module_version": "1.5.0",
            "_model_name": "HBoxModel",
            "_view_count": null,
            "_view_module": "@jupyter-widgets/controls",
            "_view_module_version": "1.5.0",
            "_view_name": "HBoxView",
            "box_style": "",
            "children": [
              "IPY_MODEL_f1d238ad6dce4227824044c2bac45898",
              "IPY_MODEL_8865113d7efa4e5a8facf2e2a75e93a3",
              "IPY_MODEL_a41122d147954b2a94f00c8d8650d8a3"
            ],
            "layout": "IPY_MODEL_3016f09903c244c0bac3eec2b28be02d"
          }
        },
        "f1d238ad6dce4227824044c2bac45898": {
          "model_module": "@jupyter-widgets/controls",
          "model_name": "HTMLModel",
          "model_module_version": "1.5.0",
          "state": {
            "_dom_classes": [],
            "_model_module": "@jupyter-widgets/controls",
            "_model_module_version": "1.5.0",
            "_model_name": "HTMLModel",
            "_view_count": null,
            "_view_module": "@jupyter-widgets/controls",
            "_view_module_version": "1.5.0",
            "_view_name": "HTMLView",
            "description": "",
            "description_tooltip": null,
            "layout": "IPY_MODEL_50befd53c69a4847bcf1617ce17d853a",
            "placeholder": "​",
            "style": "IPY_MODEL_5819955a66bf487394525f0a6b42dbe2",
            "value": " 90%"
          }
        },
        "8865113d7efa4e5a8facf2e2a75e93a3": {
          "model_module": "@jupyter-widgets/controls",
          "model_name": "FloatProgressModel",
          "model_module_version": "1.5.0",
          "state": {
            "_dom_classes": [],
            "_model_module": "@jupyter-widgets/controls",
            "_model_module_version": "1.5.0",
            "_model_name": "FloatProgressModel",
            "_view_count": null,
            "_view_module": "@jupyter-widgets/controls",
            "_view_module_version": "1.5.0",
            "_view_name": "ProgressView",
            "bar_style": "",
            "description": "",
            "description_tooltip": null,
            "layout": "IPY_MODEL_97784018a5164994a9bf283afbd4ec37",
            "max": 10,
            "min": 0,
            "orientation": "horizontal",
            "style": "IPY_MODEL_9af02e39da5d47019f128544f5364e59",
            "value": 9
          }
        },
        "a41122d147954b2a94f00c8d8650d8a3": {
          "model_module": "@jupyter-widgets/controls",
          "model_name": "HTMLModel",
          "model_module_version": "1.5.0",
          "state": {
            "_dom_classes": [],
            "_model_module": "@jupyter-widgets/controls",
            "_model_module_version": "1.5.0",
            "_model_name": "HTMLModel",
            "_view_count": null,
            "_view_module": "@jupyter-widgets/controls",
            "_view_module_version": "1.5.0",
            "_view_name": "HTMLView",
            "description": "",
            "description_tooltip": null,
            "layout": "IPY_MODEL_8b5398ab757747cbbb3375ee4080b646",
            "placeholder": "​",
            "style": "IPY_MODEL_95efd734ca0a4f8abe24cef940b5fdf4",
            "value": " 9/10 [53:46&lt;05:57, 357.22s/it]"
          }
        },
        "3016f09903c244c0bac3eec2b28be02d": {
          "model_module": "@jupyter-widgets/base",
          "model_name": "LayoutModel",
          "model_module_version": "1.2.0",
          "state": {
            "_model_module": "@jupyter-widgets/base",
            "_model_module_version": "1.2.0",
            "_model_name": "LayoutModel",
            "_view_count": null,
            "_view_module": "@jupyter-widgets/base",
            "_view_module_version": "1.2.0",
            "_view_name": "LayoutView",
            "align_content": null,
            "align_items": null,
            "align_self": null,
            "border": null,
            "bottom": null,
            "display": null,
            "flex": null,
            "flex_flow": null,
            "grid_area": null,
            "grid_auto_columns": null,
            "grid_auto_flow": null,
            "grid_auto_rows": null,
            "grid_column": null,
            "grid_gap": null,
            "grid_row": null,
            "grid_template_areas": null,
            "grid_template_columns": null,
            "grid_template_rows": null,
            "height": null,
            "justify_content": null,
            "justify_items": null,
            "left": null,
            "margin": null,
            "max_height": null,
            "max_width": null,
            "min_height": null,
            "min_width": null,
            "object_fit": null,
            "object_position": null,
            "order": null,
            "overflow": null,
            "overflow_x": null,
            "overflow_y": null,
            "padding": null,
            "right": null,
            "top": null,
            "visibility": null,
            "width": null
          }
        },
        "50befd53c69a4847bcf1617ce17d853a": {
          "model_module": "@jupyter-widgets/base",
          "model_name": "LayoutModel",
          "model_module_version": "1.2.0",
          "state": {
            "_model_module": "@jupyter-widgets/base",
            "_model_module_version": "1.2.0",
            "_model_name": "LayoutModel",
            "_view_count": null,
            "_view_module": "@jupyter-widgets/base",
            "_view_module_version": "1.2.0",
            "_view_name": "LayoutView",
            "align_content": null,
            "align_items": null,
            "align_self": null,
            "border": null,
            "bottom": null,
            "display": null,
            "flex": null,
            "flex_flow": null,
            "grid_area": null,
            "grid_auto_columns": null,
            "grid_auto_flow": null,
            "grid_auto_rows": null,
            "grid_column": null,
            "grid_gap": null,
            "grid_row": null,
            "grid_template_areas": null,
            "grid_template_columns": null,
            "grid_template_rows": null,
            "height": null,
            "justify_content": null,
            "justify_items": null,
            "left": null,
            "margin": null,
            "max_height": null,
            "max_width": null,
            "min_height": null,
            "min_width": null,
            "object_fit": null,
            "object_position": null,
            "order": null,
            "overflow": null,
            "overflow_x": null,
            "overflow_y": null,
            "padding": null,
            "right": null,
            "top": null,
            "visibility": null,
            "width": null
          }
        },
        "5819955a66bf487394525f0a6b42dbe2": {
          "model_module": "@jupyter-widgets/controls",
          "model_name": "DescriptionStyleModel",
          "model_module_version": "1.5.0",
          "state": {
            "_model_module": "@jupyter-widgets/controls",
            "_model_module_version": "1.5.0",
            "_model_name": "DescriptionStyleModel",
            "_view_count": null,
            "_view_module": "@jupyter-widgets/base",
            "_view_module_version": "1.2.0",
            "_view_name": "StyleView",
            "description_width": ""
          }
        },
        "97784018a5164994a9bf283afbd4ec37": {
          "model_module": "@jupyter-widgets/base",
          "model_name": "LayoutModel",
          "model_module_version": "1.2.0",
          "state": {
            "_model_module": "@jupyter-widgets/base",
            "_model_module_version": "1.2.0",
            "_model_name": "LayoutModel",
            "_view_count": null,
            "_view_module": "@jupyter-widgets/base",
            "_view_module_version": "1.2.0",
            "_view_name": "LayoutView",
            "align_content": null,
            "align_items": null,
            "align_self": null,
            "border": null,
            "bottom": null,
            "display": null,
            "flex": null,
            "flex_flow": null,
            "grid_area": null,
            "grid_auto_columns": null,
            "grid_auto_flow": null,
            "grid_auto_rows": null,
            "grid_column": null,
            "grid_gap": null,
            "grid_row": null,
            "grid_template_areas": null,
            "grid_template_columns": null,
            "grid_template_rows": null,
            "height": null,
            "justify_content": null,
            "justify_items": null,
            "left": null,
            "margin": null,
            "max_height": null,
            "max_width": null,
            "min_height": null,
            "min_width": null,
            "object_fit": null,
            "object_position": null,
            "order": null,
            "overflow": null,
            "overflow_x": null,
            "overflow_y": null,
            "padding": null,
            "right": null,
            "top": null,
            "visibility": null,
            "width": null
          }
        },
        "9af02e39da5d47019f128544f5364e59": {
          "model_module": "@jupyter-widgets/controls",
          "model_name": "ProgressStyleModel",
          "model_module_version": "1.5.0",
          "state": {
            "_model_module": "@jupyter-widgets/controls",
            "_model_module_version": "1.5.0",
            "_model_name": "ProgressStyleModel",
            "_view_count": null,
            "_view_module": "@jupyter-widgets/base",
            "_view_module_version": "1.2.0",
            "_view_name": "StyleView",
            "bar_color": null,
            "description_width": ""
          }
        },
        "8b5398ab757747cbbb3375ee4080b646": {
          "model_module": "@jupyter-widgets/base",
          "model_name": "LayoutModel",
          "model_module_version": "1.2.0",
          "state": {
            "_model_module": "@jupyter-widgets/base",
            "_model_module_version": "1.2.0",
            "_model_name": "LayoutModel",
            "_view_count": null,
            "_view_module": "@jupyter-widgets/base",
            "_view_module_version": "1.2.0",
            "_view_name": "LayoutView",
            "align_content": null,
            "align_items": null,
            "align_self": null,
            "border": null,
            "bottom": null,
            "display": null,
            "flex": null,
            "flex_flow": null,
            "grid_area": null,
            "grid_auto_columns": null,
            "grid_auto_flow": null,
            "grid_auto_rows": null,
            "grid_column": null,
            "grid_gap": null,
            "grid_row": null,
            "grid_template_areas": null,
            "grid_template_columns": null,
            "grid_template_rows": null,
            "height": null,
            "justify_content": null,
            "justify_items": null,
            "left": null,
            "margin": null,
            "max_height": null,
            "max_width": null,
            "min_height": null,
            "min_width": null,
            "object_fit": null,
            "object_position": null,
            "order": null,
            "overflow": null,
            "overflow_x": null,
            "overflow_y": null,
            "padding": null,
            "right": null,
            "top": null,
            "visibility": null,
            "width": null
          }
        },
        "95efd734ca0a4f8abe24cef940b5fdf4": {
          "model_module": "@jupyter-widgets/controls",
          "model_name": "DescriptionStyleModel",
          "model_module_version": "1.5.0",
          "state": {
            "_model_module": "@jupyter-widgets/controls",
            "_model_module_version": "1.5.0",
            "_model_name": "DescriptionStyleModel",
            "_view_count": null,
            "_view_module": "@jupyter-widgets/base",
            "_view_module_version": "1.2.0",
            "_view_name": "StyleView",
            "description_width": ""
          }
        },
        "e2f5b33ac3c5406cbf156c65778603d6": {
          "model_module": "@jupyter-widgets/controls",
          "model_name": "HBoxModel",
          "model_module_version": "1.5.0",
          "state": {
            "_dom_classes": [],
            "_model_module": "@jupyter-widgets/controls",
            "_model_module_version": "1.5.0",
            "_model_name": "HBoxModel",
            "_view_count": null,
            "_view_module": "@jupyter-widgets/controls",
            "_view_module_version": "1.5.0",
            "_view_name": "HBoxView",
            "box_style": "",
            "children": [
              "IPY_MODEL_6f06d0e75f5d4c50925cad8d3877d21d",
              "IPY_MODEL_09e68b37b39e4891b5f8b6ba126201fd",
              "IPY_MODEL_823f072597474ba4a70d3e5c6a735db3"
            ],
            "layout": "IPY_MODEL_f959638b15b543f0bcfa18ed6a4397d3"
          }
        },
        "6f06d0e75f5d4c50925cad8d3877d21d": {
          "model_module": "@jupyter-widgets/controls",
          "model_name": "HTMLModel",
          "model_module_version": "1.5.0",
          "state": {
            "_dom_classes": [],
            "_model_module": "@jupyter-widgets/controls",
            "_model_module_version": "1.5.0",
            "_model_name": "HTMLModel",
            "_view_count": null,
            "_view_module": "@jupyter-widgets/controls",
            "_view_module_version": "1.5.0",
            "_view_name": "HTMLView",
            "description": "",
            "description_tooltip": null,
            "layout": "IPY_MODEL_eebb670a8dbd43c28a04ee4ca5e6b993",
            "placeholder": "​",
            "style": "IPY_MODEL_70403e67fc76499b979d2b5cb3cbb910",
            "value": "100%"
          }
        },
        "09e68b37b39e4891b5f8b6ba126201fd": {
          "model_module": "@jupyter-widgets/controls",
          "model_name": "FloatProgressModel",
          "model_module_version": "1.5.0",
          "state": {
            "_dom_classes": [],
            "_model_module": "@jupyter-widgets/controls",
            "_model_module_version": "1.5.0",
            "_model_name": "FloatProgressModel",
            "_view_count": null,
            "_view_module": "@jupyter-widgets/controls",
            "_view_module_version": "1.5.0",
            "_view_name": "ProgressView",
            "bar_style": "success",
            "description": "",
            "description_tooltip": null,
            "layout": "IPY_MODEL_b6b1caab78d74422b0d6db79d4cf5086",
            "max": 10,
            "min": 0,
            "orientation": "horizontal",
            "style": "IPY_MODEL_93af63aa61f04aa491246febd6c5e7a5",
            "value": 10
          }
        },
        "823f072597474ba4a70d3e5c6a735db3": {
          "model_module": "@jupyter-widgets/controls",
          "model_name": "HTMLModel",
          "model_module_version": "1.5.0",
          "state": {
            "_dom_classes": [],
            "_model_module": "@jupyter-widgets/controls",
            "_model_module_version": "1.5.0",
            "_model_name": "HTMLModel",
            "_view_count": null,
            "_view_module": "@jupyter-widgets/controls",
            "_view_module_version": "1.5.0",
            "_view_name": "HTMLView",
            "description": "",
            "description_tooltip": null,
            "layout": "IPY_MODEL_2d0177b22ffc4d0499b5e3fe978fe76a",
            "placeholder": "​",
            "style": "IPY_MODEL_ad24cc7cf8504e2fb435851f13d0761f",
            "value": " 10/10 [36:38&lt;00:00, 220.03s/it]"
          }
        },
        "f959638b15b543f0bcfa18ed6a4397d3": {
          "model_module": "@jupyter-widgets/base",
          "model_name": "LayoutModel",
          "model_module_version": "1.2.0",
          "state": {
            "_model_module": "@jupyter-widgets/base",
            "_model_module_version": "1.2.0",
            "_model_name": "LayoutModel",
            "_view_count": null,
            "_view_module": "@jupyter-widgets/base",
            "_view_module_version": "1.2.0",
            "_view_name": "LayoutView",
            "align_content": null,
            "align_items": null,
            "align_self": null,
            "border": null,
            "bottom": null,
            "display": null,
            "flex": null,
            "flex_flow": null,
            "grid_area": null,
            "grid_auto_columns": null,
            "grid_auto_flow": null,
            "grid_auto_rows": null,
            "grid_column": null,
            "grid_gap": null,
            "grid_row": null,
            "grid_template_areas": null,
            "grid_template_columns": null,
            "grid_template_rows": null,
            "height": null,
            "justify_content": null,
            "justify_items": null,
            "left": null,
            "margin": null,
            "max_height": null,
            "max_width": null,
            "min_height": null,
            "min_width": null,
            "object_fit": null,
            "object_position": null,
            "order": null,
            "overflow": null,
            "overflow_x": null,
            "overflow_y": null,
            "padding": null,
            "right": null,
            "top": null,
            "visibility": null,
            "width": null
          }
        },
        "eebb670a8dbd43c28a04ee4ca5e6b993": {
          "model_module": "@jupyter-widgets/base",
          "model_name": "LayoutModel",
          "model_module_version": "1.2.0",
          "state": {
            "_model_module": "@jupyter-widgets/base",
            "_model_module_version": "1.2.0",
            "_model_name": "LayoutModel",
            "_view_count": null,
            "_view_module": "@jupyter-widgets/base",
            "_view_module_version": "1.2.0",
            "_view_name": "LayoutView",
            "align_content": null,
            "align_items": null,
            "align_self": null,
            "border": null,
            "bottom": null,
            "display": null,
            "flex": null,
            "flex_flow": null,
            "grid_area": null,
            "grid_auto_columns": null,
            "grid_auto_flow": null,
            "grid_auto_rows": null,
            "grid_column": null,
            "grid_gap": null,
            "grid_row": null,
            "grid_template_areas": null,
            "grid_template_columns": null,
            "grid_template_rows": null,
            "height": null,
            "justify_content": null,
            "justify_items": null,
            "left": null,
            "margin": null,
            "max_height": null,
            "max_width": null,
            "min_height": null,
            "min_width": null,
            "object_fit": null,
            "object_position": null,
            "order": null,
            "overflow": null,
            "overflow_x": null,
            "overflow_y": null,
            "padding": null,
            "right": null,
            "top": null,
            "visibility": null,
            "width": null
          }
        },
        "70403e67fc76499b979d2b5cb3cbb910": {
          "model_module": "@jupyter-widgets/controls",
          "model_name": "DescriptionStyleModel",
          "model_module_version": "1.5.0",
          "state": {
            "_model_module": "@jupyter-widgets/controls",
            "_model_module_version": "1.5.0",
            "_model_name": "DescriptionStyleModel",
            "_view_count": null,
            "_view_module": "@jupyter-widgets/base",
            "_view_module_version": "1.2.0",
            "_view_name": "StyleView",
            "description_width": ""
          }
        },
        "b6b1caab78d74422b0d6db79d4cf5086": {
          "model_module": "@jupyter-widgets/base",
          "model_name": "LayoutModel",
          "model_module_version": "1.2.0",
          "state": {
            "_model_module": "@jupyter-widgets/base",
            "_model_module_version": "1.2.0",
            "_model_name": "LayoutModel",
            "_view_count": null,
            "_view_module": "@jupyter-widgets/base",
            "_view_module_version": "1.2.0",
            "_view_name": "LayoutView",
            "align_content": null,
            "align_items": null,
            "align_self": null,
            "border": null,
            "bottom": null,
            "display": null,
            "flex": null,
            "flex_flow": null,
            "grid_area": null,
            "grid_auto_columns": null,
            "grid_auto_flow": null,
            "grid_auto_rows": null,
            "grid_column": null,
            "grid_gap": null,
            "grid_row": null,
            "grid_template_areas": null,
            "grid_template_columns": null,
            "grid_template_rows": null,
            "height": null,
            "justify_content": null,
            "justify_items": null,
            "left": null,
            "margin": null,
            "max_height": null,
            "max_width": null,
            "min_height": null,
            "min_width": null,
            "object_fit": null,
            "object_position": null,
            "order": null,
            "overflow": null,
            "overflow_x": null,
            "overflow_y": null,
            "padding": null,
            "right": null,
            "top": null,
            "visibility": null,
            "width": null
          }
        },
        "93af63aa61f04aa491246febd6c5e7a5": {
          "model_module": "@jupyter-widgets/controls",
          "model_name": "ProgressStyleModel",
          "model_module_version": "1.5.0",
          "state": {
            "_model_module": "@jupyter-widgets/controls",
            "_model_module_version": "1.5.0",
            "_model_name": "ProgressStyleModel",
            "_view_count": null,
            "_view_module": "@jupyter-widgets/base",
            "_view_module_version": "1.2.0",
            "_view_name": "StyleView",
            "bar_color": null,
            "description_width": ""
          }
        },
        "2d0177b22ffc4d0499b5e3fe978fe76a": {
          "model_module": "@jupyter-widgets/base",
          "model_name": "LayoutModel",
          "model_module_version": "1.2.0",
          "state": {
            "_model_module": "@jupyter-widgets/base",
            "_model_module_version": "1.2.0",
            "_model_name": "LayoutModel",
            "_view_count": null,
            "_view_module": "@jupyter-widgets/base",
            "_view_module_version": "1.2.0",
            "_view_name": "LayoutView",
            "align_content": null,
            "align_items": null,
            "align_self": null,
            "border": null,
            "bottom": null,
            "display": null,
            "flex": null,
            "flex_flow": null,
            "grid_area": null,
            "grid_auto_columns": null,
            "grid_auto_flow": null,
            "grid_auto_rows": null,
            "grid_column": null,
            "grid_gap": null,
            "grid_row": null,
            "grid_template_areas": null,
            "grid_template_columns": null,
            "grid_template_rows": null,
            "height": null,
            "justify_content": null,
            "justify_items": null,
            "left": null,
            "margin": null,
            "max_height": null,
            "max_width": null,
            "min_height": null,
            "min_width": null,
            "object_fit": null,
            "object_position": null,
            "order": null,
            "overflow": null,
            "overflow_x": null,
            "overflow_y": null,
            "padding": null,
            "right": null,
            "top": null,
            "visibility": null,
            "width": null
          }
        },
        "ad24cc7cf8504e2fb435851f13d0761f": {
          "model_module": "@jupyter-widgets/controls",
          "model_name": "DescriptionStyleModel",
          "model_module_version": "1.5.0",
          "state": {
            "_model_module": "@jupyter-widgets/controls",
            "_model_module_version": "1.5.0",
            "_model_name": "DescriptionStyleModel",
            "_view_count": null,
            "_view_module": "@jupyter-widgets/base",
            "_view_module_version": "1.2.0",
            "_view_name": "StyleView",
            "description_width": ""
          }
        }
      }
    }
  },
  "nbformat": 4,
  "nbformat_minor": 0
}