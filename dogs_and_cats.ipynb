{
  "cells": [
    {
      "cell_type": "markdown",
      "metadata": {
        "id": "view-in-github",
        "colab_type": "text"
      },
      "source": [
        "<a href=\"https://colab.research.google.com/github/NNRahat/PyTorch_projects/blob/main/dogs_and_cats.ipynb\" target=\"_parent\"><img src=\"https://colab.research.google.com/assets/colab-badge.svg\" alt=\"Open In Colab\"/></a>"
      ]
    },
    {
      "cell_type": "code",
      "execution_count": null,
      "metadata": {
        "id": "FS3FB07H0mHM"
      },
      "outputs": [],
      "source": [
        "import torch\n",
        "from torchvision import datasets, transforms\n",
        "from torch import nn\n",
        "import os"
      ]
    },
    {
      "cell_type": "markdown",
      "metadata": {
        "id": "fx6TqDdHeSEM"
      },
      "source": [
        "## downloading the dataset from kaggle"
      ]
    },
    {
      "cell_type": "code",
      "execution_count": null,
      "metadata": {
        "colab": {
          "base_uri": "https://localhost:8080/"
        },
        "id": "cnrlXWuMz-O9",
        "outputId": "6e6ade9e-11cb-4656-ed2a-6ae0190f27de"
      },
      "outputs": [
        {
          "output_type": "stream",
          "name": "stdout",
          "text": [
            "Warning: Your Kaggle API key is readable by other users on this system! To fix this, you can run 'chmod 600 /root/.kaggle/kaggle.json'\n",
            "dogs-vs-cats.zip: Skipping, found more recently modified local copy (use --force to force download)\n"
          ]
        }
      ],
      "source": [
        "#upload the kaggle json\n",
        "!mkdir -p ~/.kaggle\n",
        "!cp kaggle.json ~/.kaggle/\n",
        "!kaggle datasets download -d salader/dogs-vs-cats"
      ]
    },
    {
      "cell_type": "code",
      "execution_count": null,
      "metadata": {
        "colab": {
          "base_uri": "https://localhost:8080/",
          "height": 36
        },
        "id": "CydFGsNbwJhm",
        "outputId": "37f27e0d-3a63-48f7-93bd-b626aa081156"
      },
      "outputs": [
        {
          "output_type": "execute_result",
          "data": {
            "text/plain": [
              "'cuda'"
            ],
            "application/vnd.google.colaboratory.intrinsic+json": {
              "type": "string"
            }
          },
          "metadata": {},
          "execution_count": 14
        }
      ],
      "source": [
        "device = \"cuda\" if torch.cuda.is_available() else \"cpu\"\n",
        "device"
      ]
    },
    {
      "cell_type": "markdown",
      "metadata": {
        "id": "h5cD22opea7m"
      },
      "source": [
        "## data_path"
      ]
    },
    {
      "cell_type": "code",
      "execution_count": null,
      "metadata": {
        "colab": {
          "base_uri": "https://localhost:8080/"
        },
        "id": "SUVz4rrs5fQi",
        "outputId": "f2ba2145-579d-4317-b77a-db63bc6a1d53"
      },
      "outputs": [
        {
          "output_type": "execute_result",
          "data": {
            "text/plain": [
              "PosixPath('dogs_vs_cats')"
            ]
          },
          "metadata": {},
          "execution_count": 4
        }
      ],
      "source": [
        "from pathlib import Path\n",
        "data_path = Path(\"dogs_vs_cats\")\n",
        "data_path"
      ]
    },
    {
      "cell_type": "markdown",
      "metadata": {
        "id": "4wHlQKVoeL0m"
      },
      "source": [
        "## extracting the .zip file"
      ]
    },
    {
      "cell_type": "code",
      "execution_count": null,
      "metadata": {
        "id": "L82MNP0U0UlT"
      },
      "outputs": [],
      "source": [
        "if data_path.is_dir():\n",
        "  print(f\"directory {data_path} already exists\")\n",
        "else:\n",
        "  # unzip the file\n",
        "  import zipfile\n",
        "  zip_ref = zipfile.ZipFile('/content/dogs-vs-cats.zip', 'r')\n",
        "  zip_ref.extractall('/content')\n",
        "  zip_ref.close()"
      ]
    },
    {
      "cell_type": "code",
      "execution_count": null,
      "metadata": {
        "colab": {
          "base_uri": "https://localhost:8080/"
        },
        "id": "9hwAhxOM0fVV",
        "outputId": "d4af41c5-45c2-44e6-ce80-259a8fc95e9c"
      },
      "outputs": [
        {
          "output_type": "stream",
          "name": "stdout",
          "text": [
            "dogs_vs_cats\t  going_moduler  sample_data  train\n",
            "dogs-vs-cats.zip  kaggle.json\t test\n"
          ]
        }
      ],
      "source": [
        "!ls"
      ]
    },
    {
      "cell_type": "markdown",
      "metadata": {
        "id": "hhWR97qH7Cz4"
      },
      "source": [
        "## train and test dir"
      ]
    },
    {
      "cell_type": "code",
      "execution_count": null,
      "metadata": {
        "id": "EAN7A2zY4uCT"
      },
      "outputs": [],
      "source": [
        "train_dir = data_path / \"train\"\n",
        "test_dir = data_path / \"test\""
      ]
    },
    {
      "cell_type": "code",
      "execution_count": null,
      "metadata": {
        "colab": {
          "base_uri": "https://localhost:8080/"
        },
        "id": "1orqUnRL61Zs",
        "outputId": "2ff43ca5-ca72-40ef-e5c2-ae0010800db0"
      },
      "outputs": [
        {
          "output_type": "stream",
          "name": "stdout",
          "text": [
            "Reading package lists... Done\n",
            "Building dependency tree       \n",
            "Reading state information... Done\n",
            "The following additional packages will be installed:\n",
            "  libapr1 libaprutil1 libserf-1-1 libsvn1 libutf8proc2\n",
            "Suggested packages:\n",
            "  db5.3-util libapache2-mod-svn subversion-tools\n",
            "The following NEW packages will be installed:\n",
            "  libapr1 libaprutil1 libserf-1-1 libsvn1 libutf8proc2 subversion\n",
            "0 upgraded, 6 newly installed, 0 to remove and 13 not upgraded.\n",
            "Need to get 2,355 kB of archives.\n",
            "After this operation, 10.3 MB of additional disk space will be used.\n",
            "Get:1 http://archive.ubuntu.com/ubuntu focal/main amd64 libapr1 amd64 1.6.5-1ubuntu1 [91.4 kB]\n",
            "Get:2 http://archive.ubuntu.com/ubuntu focal-updates/main amd64 libaprutil1 amd64 1.6.1-4ubuntu2.1 [84.9 kB]\n",
            "Get:3 http://archive.ubuntu.com/ubuntu focal/universe amd64 libserf-1-1 amd64 1.3.9-8build1 [45.2 kB]\n",
            "Get:4 http://archive.ubuntu.com/ubuntu focal/universe amd64 libutf8proc2 amd64 2.5.0-1 [50.0 kB]\n",
            "Get:5 http://archive.ubuntu.com/ubuntu focal-updates/universe amd64 libsvn1 amd64 1.13.0-3ubuntu0.2 [1,260 kB]\n",
            "Get:6 http://archive.ubuntu.com/ubuntu focal-updates/universe amd64 subversion amd64 1.13.0-3ubuntu0.2 [824 kB]\n",
            "Fetched 2,355 kB in 0s (5,783 kB/s)\n",
            "Selecting previously unselected package libapr1:amd64.\n",
            "(Reading database ... 123069 files and directories currently installed.)\n",
            "Preparing to unpack .../0-libapr1_1.6.5-1ubuntu1_amd64.deb ...\n",
            "Unpacking libapr1:amd64 (1.6.5-1ubuntu1) ...\n",
            "Selecting previously unselected package libaprutil1:amd64.\n",
            "Preparing to unpack .../1-libaprutil1_1.6.1-4ubuntu2.1_amd64.deb ...\n",
            "Unpacking libaprutil1:amd64 (1.6.1-4ubuntu2.1) ...\n",
            "Selecting previously unselected package libserf-1-1:amd64.\n",
            "Preparing to unpack .../2-libserf-1-1_1.3.9-8build1_amd64.deb ...\n",
            "Unpacking libserf-1-1:amd64 (1.3.9-8build1) ...\n",
            "Selecting previously unselected package libutf8proc2:amd64.\n",
            "Preparing to unpack .../3-libutf8proc2_2.5.0-1_amd64.deb ...\n",
            "Unpacking libutf8proc2:amd64 (2.5.0-1) ...\n",
            "Selecting previously unselected package libsvn1:amd64.\n",
            "Preparing to unpack .../4-libsvn1_1.13.0-3ubuntu0.2_amd64.deb ...\n",
            "Unpacking libsvn1:amd64 (1.13.0-3ubuntu0.2) ...\n",
            "Selecting previously unselected package subversion.\n",
            "Preparing to unpack .../5-subversion_1.13.0-3ubuntu0.2_amd64.deb ...\n",
            "Unpacking subversion (1.13.0-3ubuntu0.2) ...\n",
            "Setting up libutf8proc2:amd64 (2.5.0-1) ...\n",
            "Setting up libapr1:amd64 (1.6.5-1ubuntu1) ...\n",
            "Setting up libaprutil1:amd64 (1.6.1-4ubuntu2.1) ...\n",
            "Setting up libserf-1-1:amd64 (1.3.9-8build1) ...\n",
            "Setting up libsvn1:amd64 (1.13.0-3ubuntu0.2) ...\n",
            "Setting up subversion (1.13.0-3ubuntu0.2) ...\n",
            "Processing triggers for libc-bin (2.31-0ubuntu9.9) ...\n",
            "Processing triggers for man-db (2.9.1-1) ...\n",
            "A    going_moduler/README.md\n",
            "A    going_moduler/binary_engine.py\n",
            "A    going_moduler/binary_predictions.py\n",
            "A    going_moduler/data_setup.py\n",
            "A    going_moduler/model_builder.py\n",
            "A    going_moduler/multiclass_engine.py\n",
            "A    going_moduler/multiclass_predictions.py\n",
            "A    going_moduler/plot_the_results.py\n",
            "A    going_moduler/train.py\n",
            "A    going_moduler/utils.py\n",
            "Checked out revision 18.\n"
          ]
        }
      ],
      "source": [
        "!apt install subversion\n",
        "!svn checkout https://github.com/NNRahat/PyTorch_helper_scripts/trunk/going_moduler"
      ]
    },
    {
      "cell_type": "markdown",
      "source": [
        "## transform"
      ],
      "metadata": {
        "id": "YPhk73rflYeT"
      }
    },
    {
      "cell_type": "markdown",
      "metadata": {
        "id": "Oq7G7UWgBn2D"
      },
      "source": [
        "### transform `with trivial augmentation`"
      ]
    },
    {
      "cell_type": "code",
      "execution_count": null,
      "metadata": {
        "id": "VJHoh6rPB8X4"
      },
      "outputs": [],
      "source": [
        "transform = transforms.Compose([\n",
        "    transforms.Resize(size = (224,224)),\n",
        "    transforms.TrivialAugmentWide(num_magnitude_bins = 31),\n",
        "    transforms.ToTensor()\n",
        "])"
      ]
    },
    {
      "cell_type": "markdown",
      "metadata": {
        "id": "2_DeQFEt_GDe"
      },
      "source": [
        "#### train and test dataloader"
      ]
    },
    {
      "cell_type": "code",
      "execution_count": null,
      "metadata": {
        "id": "yQKG6aNs_Ry7"
      },
      "outputs": [],
      "source": [
        "from going_moduler import data_setup, multiclass_predictions, binary_predictions, multiclass_engine, binary_engine, plot_the_results\n",
        "\n",
        "BATCH_SIZE = 32\n",
        "train_dataloader, test_dataloader, class_names = data_setup.create_dataloaders(\n",
        "    train_dir = train_dir,\n",
        "    test_dir = test_dir,\n",
        "    transform = transform,\n",
        "    batch_size= BATCH_SIZE,\n",
        "    num_workers = os.cpu_count()\n",
        ")"
      ]
    },
    {
      "cell_type": "markdown",
      "source": [
        "### transform `without` the `trivial-augmentation`"
      ],
      "metadata": {
        "id": "l4PURWN-liZM"
      }
    },
    {
      "cell_type": "code",
      "source": [
        "transform_without_trivial = transforms.Compose([\n",
        "    transforms.Resize(size = (224, 224)),\n",
        "    transforms.ToTensor()\n",
        "])"
      ],
      "metadata": {
        "id": "BXh8no1Nj2Zj"
      },
      "execution_count": null,
      "outputs": []
    },
    {
      "cell_type": "markdown",
      "source": [
        "#### train and test"
      ],
      "metadata": {
        "id": "98pZRJzglwVC"
      }
    },
    {
      "cell_type": "code",
      "source": [
        "from going_moduler import data_setup, multiclass_predictions, binary_predictions, multiclass_engine, binary_engine, plot_the_results\n",
        "\n",
        "BATCH_SIZE = 32\n",
        "train_dataloader_without, test_dataloader_without, class_names = data_setup.create_dataloaders(\n",
        "    train_dir = train_dir,\n",
        "    test_dir = test_dir,\n",
        "    transform = transform_without_trivial,\n",
        "    batch_size= BATCH_SIZE,\n",
        "    num_workers = os.cpu_count()\n",
        ")"
      ],
      "metadata": {
        "id": "GmqQGrivltM7"
      },
      "execution_count": null,
      "outputs": []
    },
    {
      "cell_type": "markdown",
      "metadata": {
        "id": "2MqfA-72l3zQ"
      },
      "source": [
        "## model class creation with only `BatchNorm2d()` and `conv_block_3` for `model_0`\n",
        "\n",
        "* max came (with 10 epoch) = `81` - `with` trivial augment  \n",
        "\n",
        "* max came with (`transform_without_trivial`, `10 epoch`)  - `81.529%`"
      ]
    },
    {
      "cell_type": "code",
      "execution_count": null,
      "metadata": {
        "id": "1jc7bYPGl_Hv"
      },
      "outputs": [],
      "source": [
        "class TinyVGG(nn.Module):\n",
        "  def __init__(self,\n",
        "               input_shape:int,\n",
        "               hidden_units:int,\n",
        "               output_shape:int):\n",
        "    super().__init__()\n",
        "    self.conv_block_1 = nn.Sequential(\n",
        "        nn.Conv2d(in_channels = input_shape,\n",
        "                  out_channels = hidden_units,\n",
        "                  padding = 1,\n",
        "                  kernel_size = 3,\n",
        "                  stride = 1),\n",
        "        nn.ReLU(),\n",
        "        nn.BatchNorm2d(num_features = hidden_units),\n",
        "        nn.Conv2d(in_channels = hidden_units,\n",
        "                  out_channels = hidden_units,\n",
        "                  padding = 1,\n",
        "                  kernel_size = 3,\n",
        "                  stride = 1),\n",
        "        nn.ReLU(),\n",
        "        nn.BatchNorm2d(num_features = hidden_units),\n",
        "        nn.MaxPool2d(kernel_size = 2),\n",
        "    )\n",
        "    self.conv_block_2 = nn.Sequential(\n",
        "        nn.Conv2d(in_channels = hidden_units,\n",
        "                  out_channels = hidden_units,\n",
        "                  padding = 1,\n",
        "                  kernel_size = 3,\n",
        "                  stride = 1),\n",
        "        nn.ReLU(),\n",
        "        nn.BatchNorm2d(num_features = hidden_units),\n",
        "        nn.Conv2d(in_channels = hidden_units,\n",
        "                  out_channels = hidden_units,\n",
        "                  padding = 1,\n",
        "                  kernel_size = 3,\n",
        "                  stride = 1),\n",
        "        nn.ReLU(),\n",
        "        nn.BatchNorm2d(num_features = hidden_units),\n",
        "        nn.MaxPool2d(kernel_size = 2),\n",
        "    )\n",
        "    self.conv_block_3 = nn.Sequential(\n",
        "        nn.Conv2d(in_channels = hidden_units,\n",
        "                  out_channels = hidden_units,\n",
        "                  padding = 1,\n",
        "                  kernel_size = 3,\n",
        "                  stride = 1),\n",
        "        nn.ReLU(),\n",
        "        nn.BatchNorm2d(num_features = hidden_units),\n",
        "        nn.Conv2d(in_channels = hidden_units,\n",
        "                  out_channels = hidden_units,\n",
        "                  padding = 1,\n",
        "                  kernel_size = 3,\n",
        "                  stride = 1),\n",
        "        nn.ReLU(),\n",
        "        nn.BatchNorm2d(num_features = hidden_units),\n",
        "        nn.MaxPool2d(kernel_size = 2),\n",
        "    )\n",
        "    self.classifier = nn.Sequential(\n",
        "        nn.Flatten(),\n",
        "        nn.Linear(in_features = hidden_units*28*28,\n",
        "                  out_features = output_shape)\n",
        "    )\n",
        "\n",
        "  def forward(self, x):\n",
        "    # x = self.conv_block_1(x)\n",
        "    # print(x.shape)\n",
        "    # x = self.conv_block_2(x)\n",
        "    # print(x.shape)\n",
        "    # x = self.conv_block_3(x)\n",
        "    # print(x.shape)\n",
        "    # x = self.classifier(x)\n",
        "    # return x\n",
        "\n",
        "    return self.classifier(self.conv_block_3(self.conv_block_2(self.conv_block_1(x))))\n"
      ]
    },
    {
      "cell_type": "code",
      "execution_count": null,
      "metadata": {
        "id": "7KTDWRVvdwIR"
      },
      "outputs": [],
      "source": [
        "model_0 = TinyVGG(input_shape = 3,\n",
        "                  hidden_units = 10,\n",
        "                  output_shape = 1).to(device)"
      ]
    },
    {
      "cell_type": "markdown",
      "metadata": {
        "id": "IiLO0se6dzAu"
      },
      "source": [
        "### loss function and optimizer"
      ]
    },
    {
      "cell_type": "code",
      "execution_count": null,
      "metadata": {
        "id": "08J2NZTIlU2A"
      },
      "outputs": [],
      "source": [
        "loss_fn = nn.BCEWithLogitsLoss()\n",
        "\n",
        "optimizer = torch.optim.Adam(params = model_0.parameters(),\n",
        "                             lr = 0.001)"
      ]
    },
    {
      "cell_type": "markdown",
      "metadata": {
        "id": "08FbpP1i8M24"
      },
      "source": [
        "### binary_engine"
      ]
    },
    {
      "cell_type": "code",
      "execution_count": null,
      "metadata": {
        "colab": {
          "base_uri": "https://localhost:8080/",
          "height": 396,
          "referenced_widgets": [
            "50008fa45e1048e3930395753642656b",
            "8a35b324fed44c11940089dea068e9bf",
            "57a8030836fc4cc3b607e632e1884840",
            "1f0aa13c22d8408a9c05b863d5a7310a",
            "7f839b7bd26e44ce9f7e708d614818d1",
            "50b9daf7ee89462eb818d30ca405061a",
            "7376628283b74f86b72228dcf3b22fe9",
            "54984e89e0c94784aa61e1f90bf93489",
            "01682e276216409e93336a8e0507c66e",
            "4da2e9505fd040de9bbda4073bf0e83f",
            "faa02dd031de44dca608ba05a46b8846"
          ]
        },
        "id": "72-xI0IgBZwZ",
        "outputId": "fce4896d-0d02-404c-f0bd-007ce3a4d8f2"
      },
      "outputs": [
        {
          "output_type": "display_data",
          "data": {
            "text/plain": [
              "  0%|          | 0/5 [00:00<?, ?it/s]"
            ],
            "application/vnd.jupyter.widget-view+json": {
              "version_major": 2,
              "version_minor": 0,
              "model_id": "50008fa45e1048e3930395753642656b"
            }
          },
          "metadata": {}
        },
        {
          "output_type": "stream",
          "name": "stdout",
          "text": [
            "\n",
            "Epoch: 1\n",
            "----------------\n",
            "train loss: 0.30091, train acc: 87.410% | test loss: 0.41853, test_acc: 81.529%\n",
            "\n",
            "Epoch: 2\n",
            "----------------\n",
            "train loss: 0.29943, train acc: 87.555% | test loss: 0.41949, test_acc: 81.369%\n",
            "\n",
            "Epoch: 3\n",
            "----------------\n",
            "train loss: 0.29961, train acc: 87.185% | test loss: 0.41877, test_acc: 81.549%\n",
            "\n",
            "Epoch: 4\n",
            "----------------\n",
            "train loss: 0.29844, train acc: 87.385% | test loss: 0.41667, test_acc: 81.648%\n",
            "\n",
            "Epoch: 5\n",
            "----------------\n",
            "train loss: 0.30133, train acc: 87.405% | test loss: 0.41794, test_acc: 81.529%\n"
          ]
        }
      ],
      "source": [
        "# hyper parameters\n",
        "EPOCHS = 5\n",
        "\n",
        "model_0_results = binary_engine.Binary_engine(model = model_0,\n",
        "                                train_dataloader = train_dataloader_without,\n",
        "                                test_dataloader = test_dataloader_without,\n",
        "                                loss_fn = loss_fn,\n",
        "                                optimizer = optimizer,\n",
        "                                device = device,\n",
        "                                epochs = EPOCHS)"
      ]
    },
    {
      "cell_type": "markdown",
      "metadata": {
        "id": "4bGqZmyaddCu"
      },
      "source": [
        "## model class creation with only BatchNorm2d() and conv_block_3 and 3 linear layers (`no dropouts`) for `model_1`\n",
        "max came (with 10 epoch) = `79`~`80`"
      ]
    },
    {
      "cell_type": "code",
      "execution_count": null,
      "metadata": {
        "id": "hY70KA5Ae1qz"
      },
      "outputs": [],
      "source": [
        "class TinyVGG(nn.Module):\n",
        "  def __init__(self,\n",
        "               input_shape:int,\n",
        "               hidden_units:int,\n",
        "               output_shape:int):\n",
        "    super().__init__()\n",
        "    self.conv_block_1 = nn.Sequential(\n",
        "        nn.Conv2d(in_channels = input_shape,\n",
        "                  out_channels = hidden_units,\n",
        "                  padding = 1,\n",
        "                  kernel_size = 3,\n",
        "                  stride = 1),\n",
        "        nn.ReLU(),\n",
        "        nn.BatchNorm2d(num_features = hidden_units),\n",
        "        nn.Conv2d(in_channels = hidden_units,\n",
        "                  out_channels = hidden_units,\n",
        "                  padding = 1,\n",
        "                  kernel_size = 3,\n",
        "                  stride = 1),\n",
        "        nn.ReLU(),\n",
        "        nn.BatchNorm2d(num_features = hidden_units),\n",
        "        nn.MaxPool2d(kernel_size = 2),\n",
        "    )\n",
        "    self.conv_block_2 = nn.Sequential(\n",
        "        nn.Conv2d(in_channels = hidden_units,\n",
        "                  out_channels = hidden_units,\n",
        "                  padding = 1,\n",
        "                  kernel_size = 3,\n",
        "                  stride = 1),\n",
        "        nn.ReLU(),\n",
        "        nn.BatchNorm2d(num_features = hidden_units),\n",
        "        nn.Conv2d(in_channels = hidden_units,\n",
        "                  out_channels = hidden_units,\n",
        "                  padding = 1,\n",
        "                  kernel_size = 3,\n",
        "                  stride = 1),\n",
        "        nn.ReLU(),\n",
        "        nn.BatchNorm2d(num_features = hidden_units),\n",
        "        nn.MaxPool2d(kernel_size = 2),\n",
        "    )\n",
        "    self.conv_block_3 = nn.Sequential(\n",
        "        nn.Conv2d(in_channels = hidden_units,\n",
        "                  out_channels = hidden_units,\n",
        "                  padding = 1,\n",
        "                  kernel_size = 3,\n",
        "                  stride = 1),\n",
        "        nn.ReLU(),\n",
        "        nn.BatchNorm2d(num_features = hidden_units),\n",
        "        nn.Conv2d(in_channels = hidden_units,\n",
        "                  out_channels = hidden_units,\n",
        "                  padding = 1,\n",
        "                  kernel_size = 3,\n",
        "                  stride = 1),\n",
        "        nn.ReLU(),\n",
        "        nn.BatchNorm2d(num_features = hidden_units),\n",
        "        nn.MaxPool2d(kernel_size = 2),\n",
        "    )\n",
        "    self.classifier = nn.Sequential(\n",
        "        nn.Flatten(),\n",
        "        nn.Linear(in_features = hidden_units*28*28,\n",
        "                  out_features = 128),\n",
        "        nn.Linear(in_features = 128,\n",
        "                  out_features = 64),\n",
        "        nn.Linear(in_features = 64,\n",
        "                  out_features = output_shape)\n",
        "    )\n",
        "\n",
        "  def forward(self, x):\n",
        "    # x = self.conv_block_1(x)\n",
        "    # print(x.shape)\n",
        "    # x = self.conv_block_2(x)\n",
        "    # print(x.shape)\n",
        "    # x = self.conv_block_3(x)\n",
        "    # print(x.shape)\n",
        "    # x = self.classifier(x)\n",
        "    # return x\n",
        "\n",
        "    return self.classifier(self.conv_block_3(self.conv_block_2(self.conv_block_1(x))))\n"
      ]
    },
    {
      "cell_type": "code",
      "execution_count": null,
      "metadata": {
        "id": "ujwGcYHN8EbW"
      },
      "outputs": [],
      "source": [
        "model_1 = TinyVGG(input_shape = 3,\n",
        "                  hidden_units = 10,\n",
        "                  output_shape = 1).to(device)"
      ]
    },
    {
      "cell_type": "markdown",
      "metadata": {
        "id": "8mZNuMfhe74N"
      },
      "source": [
        "### loss function and optimizer"
      ]
    },
    {
      "cell_type": "code",
      "execution_count": null,
      "metadata": {
        "id": "0_ICOHYIe74O"
      },
      "outputs": [],
      "source": [
        "loss_fn = nn.BCEWithLogitsLoss()\n",
        "\n",
        "optimizer = torch.optim.Adam(params = model_1.parameters(),\n",
        "                             lr = 0.001)"
      ]
    },
    {
      "cell_type": "code",
      "execution_count": null,
      "metadata": {
        "colab": {
          "base_uri": "https://localhost:8080/",
          "height": 396,
          "referenced_widgets": [
            "acfd380632f44f86881f836345f3b632",
            "5822bb0bdb454cefac2cbcd1e440832a",
            "0eb12a4abe0f46ad9641c4166480e467",
            "2e9c467d0d9b4ed7837dbd6db1a51105",
            "e507c1dbf2a44dbcb806905dfe2a1d2f",
            "97a72aec51bb490bac002c8947574ac4",
            "9681ddb31b3e423ab7d49faef3ae2bda",
            "46eadfe7eaf64f2f84334fd4f3e12fbd",
            "d712255d95ef419e82bc681309fd4d18",
            "b56564f95fea4799a6c233aee0ab491a",
            "841fa2ca2d73441aaa0ce66cdc4f170e"
          ]
        },
        "id": "RfqlCPP58l_m",
        "outputId": "8e62a262-acc0-43a6-ea2c-38fb16e0f770"
      },
      "outputs": [
        {
          "output_type": "display_data",
          "data": {
            "text/plain": [
              "  0%|          | 0/5 [00:00<?, ?it/s]"
            ],
            "application/vnd.jupyter.widget-view+json": {
              "version_major": 2,
              "version_minor": 0,
              "model_id": "acfd380632f44f86881f836345f3b632"
            }
          },
          "metadata": {}
        },
        {
          "output_type": "stream",
          "name": "stdout",
          "text": [
            "\n",
            "Epoch: 1\n",
            "----------------\n",
            "train loss: 0.30851, train acc: 86.995% | test loss: 0.38102, test_acc: 83.141%\n",
            "\n",
            "Epoch: 2\n",
            "----------------\n",
            "train loss: 0.30767, train acc: 87.105% | test loss: 0.38092, test_acc: 83.021%\n",
            "\n",
            "Epoch: 3\n",
            "----------------\n",
            "train loss: 0.30864, train acc: 86.905% | test loss: 0.38151, test_acc: 83.101%\n",
            "\n",
            "Epoch: 4\n",
            "----------------\n",
            "train loss: 0.30683, train acc: 87.165% | test loss: 0.38181, test_acc: 82.982%\n",
            "\n",
            "Epoch: 5\n",
            "----------------\n",
            "train loss: 0.30947, train acc: 86.950% | test loss: 0.38112, test_acc: 83.081%\n"
          ]
        }
      ],
      "source": [
        "# hyper parameters\n",
        "EPOCHS = 5\n",
        "\n",
        "model_1_results = binary_engine.Binary_engine(model = model_1,\n",
        "                                train_dataloader = train_dataloader_without,\n",
        "                                test_dataloader = test_dataloader_without,\n",
        "                                loss_fn = loss_fn,\n",
        "                                optimizer = optimizer,\n",
        "                                device = device,\n",
        "                                epochs = EPOCHS)"
      ]
    },
    {
      "cell_type": "code",
      "execution_count": null,
      "metadata": {
        "colab": {
          "base_uri": "https://localhost:8080/",
          "height": 568
        },
        "id": "07hX_6p3rsha",
        "outputId": "5cf7f00a-9ca4-464f-9b3d-a02c9687fdbb"
      },
      "outputs": [
        {
          "data": {
            "image/png": "[encoded data removed]",
            "text/plain": [
              "<Figure size 1500x700 with 4 Axes>"
            ]
          },
          "metadata": {},
          "output_type": "display_data"
        }
      ],
      "source": [
        "from going_moduler import plot_the_results\n",
        "plot_the_results.plot_curves(model_0 = model_0_results,\n",
        "                             model_1 = model_1_results)"
      ]
    },
    {
      "cell_type": "markdown",
      "metadata": {
        "id": "DRnykvVEFIn_"
      },
      "source": [
        "## model class creation with only BatchNorm2d() and conv_block_3 (`with dropouts`) for `model_6`\n",
        "* with (`epoch 10`) = ``\n",
        "\n",
        "* max came with (`transform_without_trivial`, `10 epoch`)  - ` 83.897`"
      ]
    },
    {
      "cell_type": "code",
      "execution_count": null,
      "metadata": {
        "id": "9IcB1a4vFIoC"
      },
      "outputs": [],
      "source": [
        "class TinyVGG(nn.Module):\n",
        "  def __init__(self,\n",
        "               input_shape:int,\n",
        "               hidden_units:int,\n",
        "               output_shape:int):\n",
        "    super().__init__()\n",
        "    self.conv_block_1 = nn.Sequential(\n",
        "        nn.Conv2d(in_channels = input_shape,\n",
        "                  out_channels = hidden_units,\n",
        "                  padding = 1,\n",
        "                  kernel_size = 3,\n",
        "                  stride = 1),\n",
        "        nn.ReLU(),\n",
        "        nn.BatchNorm2d(num_features = hidden_units),\n",
        "        nn.Conv2d(in_channels = hidden_units,\n",
        "                  out_channels = hidden_units,\n",
        "                  padding = 1,\n",
        "                  kernel_size = 3,\n",
        "                  stride = 1),\n",
        "        nn.ReLU(),\n",
        "        nn.BatchNorm2d(num_features = hidden_units),\n",
        "        nn.MaxPool2d(kernel_size = 2),\n",
        "    )\n",
        "    self.conv_block_2 = nn.Sequential(\n",
        "        nn.Conv2d(in_channels = hidden_units,\n",
        "                  out_channels = hidden_units,\n",
        "                  padding = 1,\n",
        "                  kernel_size = 3,\n",
        "                  stride = 1),\n",
        "        nn.ReLU(),\n",
        "        nn.BatchNorm2d(num_features = hidden_units),\n",
        "        nn.Conv2d(in_channels = hidden_units,\n",
        "                  out_channels = hidden_units,\n",
        "                  padding = 1,\n",
        "                  kernel_size = 3,\n",
        "                  stride = 1),\n",
        "        nn.ReLU(),\n",
        "        nn.BatchNorm2d(num_features = hidden_units),\n",
        "        nn.MaxPool2d(kernel_size = 2),\n",
        "    )\n",
        "    self.conv_block_3 = nn.Sequential(\n",
        "        nn.Conv2d(in_channels = hidden_units,\n",
        "                  out_channels = hidden_units,\n",
        "                  padding = 1,\n",
        "                  kernel_size = 3,\n",
        "                  stride = 1),\n",
        "        nn.ReLU(),\n",
        "        nn.BatchNorm2d(num_features = hidden_units),\n",
        "        nn.Conv2d(in_channels = hidden_units,\n",
        "                  out_channels = hidden_units,\n",
        "                  padding = 1,\n",
        "                  kernel_size = 3,\n",
        "                  stride = 1),\n",
        "        nn.ReLU(),\n",
        "        nn.BatchNorm2d(num_features = hidden_units),\n",
        "        nn.MaxPool2d(kernel_size = 2),\n",
        "    )\n",
        "    self.classifier = nn.Sequential(\n",
        "        nn.Flatten(),\n",
        "        nn.Linear(in_features = hidden_units*28*28,\n",
        "                  out_features = 128),\n",
        "        nn.Dropout(0.1),\n",
        "        nn.Linear(in_features = 128,\n",
        "                  out_features = 64),\n",
        "        nn.Dropout(0.1),\n",
        "        nn.Linear(in_features = 64,\n",
        "                  out_features = output_shape)\n",
        "    )\n",
        "\n",
        "  def forward(self, x):\n",
        "    # x = self.conv_block_1(x)\n",
        "    # print(x.shape)\n",
        "    # x = self.conv_block_2(x)\n",
        "    # print(x.shape)\n",
        "    # x = self.conv_block_3(x)\n",
        "    # print(x.shape)\n",
        "    # x = self.classifier(x)\n",
        "    # return x\n",
        "\n",
        "    return self.classifier(self.conv_block_3(self.conv_block_2(self.conv_block_1(x))))\n"
      ]
    },
    {
      "cell_type": "code",
      "execution_count": null,
      "metadata": {
        "id": "RFX6VyNhFIoD"
      },
      "outputs": [],
      "source": [
        "model_6 = TinyVGG(input_shape = 3,\n",
        "                  hidden_units = 10,\n",
        "                  output_shape = 1).to(device)"
      ]
    },
    {
      "cell_type": "markdown",
      "metadata": {
        "id": "FPZagvOfFIoD"
      },
      "source": [
        "### loss function and optimizer"
      ]
    },
    {
      "cell_type": "code",
      "execution_count": null,
      "metadata": {
        "id": "J1bXSkAtFIoE"
      },
      "outputs": [],
      "source": [
        "loss_fn = nn.BCEWithLogitsLoss()\n",
        "\n",
        "optimizer = torch.optim.Adam(params = model_6.parameters(),\n",
        "                             lr = 0.001)"
      ]
    },
    {
      "cell_type": "code",
      "execution_count": null,
      "metadata": {
        "colab": {
          "base_uri": "https://localhost:8080/",
          "height": 743,
          "referenced_widgets": [
            "4ac273e825a642d4990629035256301a",
            "8c8c98b2ead44f61aa2d6428a8eb49f2",
            "d7123203454b4e6d8892c0b6ee5ee42f",
            "955ba5038919474b9ef2c8de3eb4b054",
            "cbd59143de4948f2bce32a82af1be8f0",
            "906f1334b192499bb41626895d51291c",
            "653f8881148b4076b52bbde393d94241",
            "d5a0fb3ec7d24637aecabd5af2fca520",
            "404a4828059346dcb18ac4d8ab9a79f9",
            "b7983ce145574d49bc0e84b33a5e0a23",
            "337dc47fea8e44d4b0183951e77a91e0"
          ]
        },
        "outputId": "264a7d56-bf27-43b0-bc73-8f878dc1f08a",
        "id": "-JLQU-brFIoE"
      },
      "outputs": [
        {
          "output_type": "display_data",
          "data": {
            "text/plain": [
              "  0%|          | 0/10 [00:00<?, ?it/s]"
            ],
            "application/vnd.jupyter.widget-view+json": {
              "version_major": 2,
              "version_minor": 0,
              "model_id": "4ac273e825a642d4990629035256301a"
            }
          },
          "metadata": {}
        },
        {
          "output_type": "stream",
          "name": "stdout",
          "text": [
            "\n",
            "Epoch: 1\n",
            "----------------\n",
            "train loss: 0.62294, train acc: 67.215% | test loss: 0.52605, test_acc: 74.064%\n",
            "\n",
            "Epoch: 2\n",
            "----------------\n",
            "train loss: 0.48927, train acc: 76.525% | test loss: 0.47692, test_acc: 76.871%\n",
            "\n",
            "Epoch: 3\n",
            "----------------\n",
            "train loss: 0.42707, train acc: 80.485% | test loss: 0.45691, test_acc: 79.896%\n",
            "\n",
            "Epoch: 4\n",
            "----------------\n",
            "train loss: 0.39250, train acc: 82.515% | test loss: 0.44518, test_acc: 79.996%\n",
            "\n",
            "Epoch: 5\n",
            "----------------\n",
            "train loss: 0.35862, train acc: 84.265% | test loss: 0.40279, test_acc: 82.604%\n",
            "\n",
            "Epoch: 6\n",
            "----------------\n",
            "train loss: 0.32960, train acc: 85.920% | test loss: 0.37628, test_acc: 83.400%\n",
            "\n",
            "Epoch: 7\n",
            "----------------\n",
            "train loss: 0.29627, train acc: 87.580% | test loss: 0.42985, test_acc: 81.449%\n",
            "\n",
            "Epoch: 8\n",
            "----------------\n",
            "train loss: 0.27631, train acc: 88.160% | test loss: 0.39279, test_acc: 82.922%\n",
            "\n",
            "Epoch: 9\n",
            "----------------\n",
            "train loss: 0.25444, train acc: 89.315% | test loss: 0.40289, test_acc: 83.240%\n",
            "\n",
            "Epoch: 10\n",
            "----------------\n",
            "train loss: 0.23435, train acc: 90.270% | test loss: 0.38015, test_acc: 83.897%\n"
          ]
        }
      ],
      "source": [
        "# hyper parameters\n",
        "EPOCHS = 10\n",
        "\n",
        "model_6_results = binary_engine.Binary_engine(model = model_6,\n",
        "                                train_dataloader = train_dataloader_without,\n",
        "                                test_dataloader = test_dataloader_without,\n",
        "                                loss_fn = loss_fn,\n",
        "                                optimizer = optimizer,\n",
        "                                device = device,\n",
        "                                epochs = EPOCHS)"
      ]
    },
    {
      "cell_type": "markdown",
      "metadata": {
        "id": "OG2y5Osj51nA"
      },
      "source": [
        "## model class creation with only `BatchNorm2d()` and `conv_block_4` for `model_2`\n",
        "* max came (with 10 epoch) = `80`\n",
        "\n",
        "* max came with (`transform_without_trivial`, `10 epoch`)  - `87.321`"
      ]
    },
    {
      "cell_type": "code",
      "execution_count": null,
      "metadata": {
        "id": "pShFFUsL51nW"
      },
      "outputs": [],
      "source": [
        "class TinyVGG(nn.Module):\n",
        "  def __init__(self,\n",
        "               input_shape:int,\n",
        "               hidden_units:int,\n",
        "               output_shape:int):\n",
        "    super().__init__()\n",
        "    self.conv_block_1 = nn.Sequential(\n",
        "        nn.Conv2d(in_channels = input_shape,\n",
        "                  out_channels = hidden_units,\n",
        "                  padding = 1,\n",
        "                  kernel_size = 3,\n",
        "                  stride = 1),\n",
        "        nn.ReLU(),\n",
        "        nn.BatchNorm2d(num_features = hidden_units),\n",
        "        nn.Conv2d(in_channels = hidden_units,\n",
        "                  out_channels = hidden_units,\n",
        "                  padding = 1,\n",
        "                  kernel_size = 3,\n",
        "                  stride = 1),\n",
        "        nn.ReLU(),\n",
        "        nn.BatchNorm2d(num_features = hidden_units),\n",
        "        nn.MaxPool2d(kernel_size = 2),\n",
        "    )\n",
        "    self.conv_block_2 = nn.Sequential(\n",
        "        nn.Conv2d(in_channels = hidden_units,\n",
        "                  out_channels = hidden_units,\n",
        "                  padding = 1,\n",
        "                  kernel_size = 3,\n",
        "                  stride = 1),\n",
        "        nn.ReLU(),\n",
        "        nn.BatchNorm2d(num_features = hidden_units),\n",
        "        nn.Conv2d(in_channels = hidden_units,\n",
        "                  out_channels = hidden_units,\n",
        "                  padding = 1,\n",
        "                  kernel_size = 3,\n",
        "                  stride = 1),\n",
        "        nn.ReLU(),\n",
        "        nn.BatchNorm2d(num_features = hidden_units),\n",
        "        nn.MaxPool2d(kernel_size = 2),\n",
        "    )\n",
        "    self.conv_block_3 = nn.Sequential(\n",
        "        nn.Conv2d(in_channels = hidden_units,\n",
        "                  out_channels = hidden_units,\n",
        "                  padding = 1,\n",
        "                  kernel_size = 3,\n",
        "                  stride = 1),\n",
        "        nn.ReLU(),\n",
        "        nn.BatchNorm2d(num_features = hidden_units),\n",
        "        nn.Conv2d(in_channels = hidden_units,\n",
        "                  out_channels = hidden_units,\n",
        "                  padding = 1,\n",
        "                  kernel_size = 3,\n",
        "                  stride = 1),\n",
        "        nn.ReLU(),\n",
        "        nn.BatchNorm2d(num_features = hidden_units),\n",
        "        nn.MaxPool2d(kernel_size = 2),\n",
        "    )\n",
        "    self.conv_block_4 = nn.Sequential(\n",
        "        nn.Conv2d(in_channels = hidden_units,\n",
        "                  out_channels = hidden_units,\n",
        "                  padding = 1,\n",
        "                  kernel_size = 3,\n",
        "                  stride = 1),\n",
        "        nn.ReLU(),\n",
        "        nn.BatchNorm2d(num_features = hidden_units),\n",
        "        nn.Conv2d(in_channels = hidden_units,\n",
        "                  out_channels = hidden_units,\n",
        "                  padding = 1,\n",
        "                  kernel_size = 3,\n",
        "                  stride = 1),\n",
        "        nn.ReLU(),\n",
        "        nn.BatchNorm2d(num_features = hidden_units),\n",
        "        nn.MaxPool2d(kernel_size = 2),\n",
        "    )\n",
        "    self.classifier = nn.Sequential(\n",
        "        nn.Flatten(),\n",
        "        nn.Linear(in_features = hidden_units*14*14,\n",
        "                  out_features = output_shape)\n",
        "    )\n",
        "\n",
        "  def forward(self, x):\n",
        "    # x = self.conv_block_1(x)\n",
        "    # print(x.shape)\n",
        "    # x = self.conv_block_2(x)\n",
        "    # print(x.shape)\n",
        "    # x = self.conv_block_3(x)\n",
        "    # print(x.shape)\n",
        "    # x = self.conv_block_4(x)\n",
        "    # print(x.shape)\n",
        "    # x = self.classifier(x)\n",
        "    # return x\n",
        "\n",
        "    return self.classifier(self.conv_block_4(self.conv_block_3(self.conv_block_2(self.conv_block_1(x)))))\n"
      ]
    },
    {
      "cell_type": "code",
      "execution_count": null,
      "metadata": {
        "id": "lgCGzLue51nX"
      },
      "outputs": [],
      "source": [
        "model_2 = TinyVGG(input_shape = 3,\n",
        "                  hidden_units = 10,\n",
        "                  output_shape = 1).to(device)"
      ]
    },
    {
      "cell_type": "markdown",
      "metadata": {
        "id": "WTiQC7jo51nX"
      },
      "source": [
        "### loss function and optimizer"
      ]
    },
    {
      "cell_type": "code",
      "execution_count": null,
      "metadata": {
        "id": "KocIcQFc51nY"
      },
      "outputs": [],
      "source": [
        "loss_fn = nn.BCEWithLogitsLoss()\n",
        "\n",
        "optimizer = torch.optim.Adam(params = model_2.parameters(),\n",
        "                             lr = 0.001)"
      ]
    },
    {
      "cell_type": "markdown",
      "metadata": {
        "id": "ZptmMN2751nY"
      },
      "source": [
        "### binary_engine"
      ]
    },
    {
      "cell_type": "code",
      "execution_count": null,
      "metadata": {
        "colab": {
          "base_uri": "https://localhost:8080/",
          "height": 743,
          "referenced_widgets": [
            "83fca5615083473caad2d5f8295485f5",
            "ba083a55a2e640e894d0b3d29196dafd",
            "7c6f01af58f54b04b7dc85466e0a7002",
            "254ccdcc65674e398e370eb635ef88f7",
            "a8bfdbb7d0f74fc29cd4fbf8d35811ec",
            "791784dcd93347e9a7c8749eee50b7ed",
            "6825757f604b43a3815e3429f41a8289",
            "c546bb0facf841bbbbef7b2b7a5fe428",
            "57d7191160b14ab19bb6561b7b4dd317",
            "caa4ca02f80f49ba8c0ed28e78271503",
            "411ce5d670e14d3aa51d9d4834324a00"
          ]
        },
        "id": "GbtBzIgG51nY",
        "outputId": "0f446861-d433-4339-c617-03f2606588bb"
      },
      "outputs": [
        {
          "output_type": "display_data",
          "data": {
            "text/plain": [
              "  0%|          | 0/10 [00:00<?, ?it/s]"
            ],
            "application/vnd.jupyter.widget-view+json": {
              "version_major": 2,
              "version_minor": 0,
              "model_id": "83fca5615083473caad2d5f8295485f5"
            }
          },
          "metadata": {}
        },
        {
          "output_type": "stream",
          "name": "stdout",
          "text": [
            "\n",
            "Epoch: 1\n",
            "----------------\n",
            "train loss: 0.59541, train acc: 68.280% | test loss: 0.49089, test_acc: 76.553%\n",
            "\n",
            "Epoch: 2\n",
            "----------------\n",
            "train loss: 0.48325, train acc: 77.045% | test loss: 0.51610, test_acc: 75.597%\n",
            "\n",
            "Epoch: 3\n",
            "----------------\n",
            "train loss: 0.43650, train acc: 79.895% | test loss: 0.48786, test_acc: 77.269%\n",
            "\n",
            "Epoch: 4\n",
            "----------------\n",
            "train loss: 0.39956, train acc: 81.885% | test loss: 0.39203, test_acc: 83.400%\n",
            "\n",
            "Epoch: 5\n",
            "----------------\n",
            "train loss: 0.35893, train acc: 84.195% | test loss: 0.36155, test_acc: 83.857%\n",
            "\n",
            "Epoch: 6\n",
            "----------------\n",
            "train loss: 0.32211, train acc: 86.285% | test loss: 0.43285, test_acc: 81.389%\n",
            "\n",
            "Epoch: 7\n",
            "----------------\n",
            "train loss: 0.29744, train acc: 87.445% | test loss: 0.32340, test_acc: 86.584%\n",
            "\n",
            "Epoch: 8\n",
            "----------------\n",
            "train loss: 0.27654, train acc: 88.250% | test loss: 0.39026, test_acc: 84.375%\n",
            "\n",
            "Epoch: 9\n",
            "----------------\n",
            "train loss: 0.25620, train acc: 89.410% | test loss: 0.33341, test_acc: 87.162%\n",
            "\n",
            "Epoch: 10\n",
            "----------------\n",
            "train loss: 0.24086, train acc: 89.595% | test loss: 0.30928, test_acc: 87.321%\n"
          ]
        }
      ],
      "source": [
        "# hyper parameters\n",
        "EPOCHS = 10\n",
        "\n",
        "model_2_results = binary_engine.Binary_engine(model = model_2,\n",
        "                                train_dataloader = train_dataloader_without,\n",
        "                                test_dataloader = test_dataloader_without,\n",
        "                                loss_fn = loss_fn,\n",
        "                                optimizer = optimizer,\n",
        "                                device = device,\n",
        "                                epochs = EPOCHS)"
      ]
    },
    {
      "cell_type": "markdown",
      "metadata": {
        "id": "8M-7Q_vM6GLk"
      },
      "source": [
        "## prediction of a `random image`"
      ]
    },
    {
      "cell_type": "code",
      "execution_count": null,
      "metadata": {
        "id": "tLaQhaWzP_-B"
      },
      "outputs": [],
      "source": [
        "import torch\n",
        "import torchvision\n",
        "from torchvision import transforms\n",
        "import matplotlib.pyplot as plt\n",
        "\n",
        "from typing import List, Tuple\n",
        "\n",
        "from PIL import Image\n",
        "\n",
        "def pred_and_plot_image(\n",
        "    model: torch.nn.Module,\n",
        "    class_names: List[str],\n",
        "    image_path: str,\n",
        "    image_size: Tuple[int, int] = (224, 224),\n",
        "    transform: torchvision.transforms = None,\n",
        "    device: torch.device = device,\n",
        "):\n",
        "    # Open image\n",
        "    img = Image.open(image_path)\n",
        "\n",
        "    # Create transformation for image (if one doesn't exist)\n",
        "    if transform is not None:\n",
        "        image_transform = transform\n",
        "    else:\n",
        "        image_transform = transforms.Compose(\n",
        "            [\n",
        "                transforms.Resize(image_size),\n",
        "                transforms.ToTensor(),\n",
        "                transforms.Normalize(\n",
        "                    mean=[0.485, 0.456, 0.406], std=[0.229, 0.224, 0.225]\n",
        "                ),\n",
        "            ]\n",
        "        )\n",
        "\n",
        "    ### Predict on image ###\n",
        "\n",
        "    # Make sure the model is on the target device\n",
        "    model.to(device)\n",
        "\n",
        "    # Turn on model evaluation mode and inference mode\n",
        "    model.eval()\n",
        "    with torch.inference_mode():\n",
        "        # Transform and add an extra dimension to image (model requires samples in [batch_size, color_channels, height, width])\n",
        "        transformed_image = image_transform(img).unsqueeze(dim=0)\n",
        "\n",
        "        # Make a prediction on image with an extra dimension and send it to the target device\n",
        "        target_image_pred = model(transformed_image.to(device))\n",
        "\n",
        "    # Convert logits -> prediction probabilities (using torch.softmax() for multi-class classification)\n",
        "    target_image_pred_probs = torch.sigmoid(target_image_pred)\n",
        "\n",
        "    # Convert prediction probabilities -> prediction labels\n",
        "    target_image_pred_label = torch.round(target_image_pred_probs).type(torch.int64).item()\n",
        "    # Plot image with predicted label and probability\n",
        "    plt.figure()\n",
        "    plt.imshow(img)\n",
        "    plt.title(\n",
        "        f\"Pred: {class_names[target_image_pred_label]} | Prob: {target_image_pred_probs.max():.3f}\"\n",
        "    )\n",
        "    plt.axis(False)"
      ]
    },
    {
      "cell_type": "code",
      "execution_count": null,
      "metadata": {
        "colab": {
          "base_uri": "https://localhost:8080/"
        },
        "id": "5VFdQSu2G-oY",
        "outputId": "3301d0f6-bb85-48f8-c40e-aecc6174440f"
      },
      "outputs": [
        {
          "name": "stdout",
          "output_type": "stream",
          "text": [
            "--2023-06-19 17:50:35--  https://images.unsplash.com/photo-1592769606534-fe78d27bf450\n",
            "Resolving images.unsplash.com (images.unsplash.com)... 146.75.78.208, 2a04:4e42:84::720\n",
            "Connecting to images.unsplash.com (images.unsplash.com)|146.75.78.208|:443... connected.\n",
            "HTTP request sent, awaiting response... 200 OK\n",
            "Length: 7689149 (7.3M) [image/jpeg]\n",
            "Saving to: ‘photo-1592769606534-fe78d27bf450’\n",
            "\n",
            "photo-1592769606534 100%[===================>]   7.33M  --.-KB/s    in 0.08s   \n",
            "\n",
            "2023-06-19 17:50:35 (86.4 MB/s) - ‘photo-1592769606534-fe78d27bf450’ saved [7689149/7689149]\n",
            "\n"
          ]
        }
      ],
      "source": [
        "!wget https://images.unsplash.com/photo-1592769606534-fe78d27bf450\n",
        "!cp photo-1592769606534-fe78d27bf450 dog2.jpg"
      ]
    },
    {
      "cell_type": "code",
      "execution_count": null,
      "metadata": {
        "colab": {
          "base_uri": "https://localhost:8080/",
          "height": 428
        },
        "id": "VAU10pQ7QlQf",
        "outputId": "67fa24a9-6f59-4e79-ae9c-3ede0e38c975"
      },
      "outputs": [
        {
          "data": {
            "image/png": "[encoded data removed]",
            "text/plain": [
              "<Figure size 640x480 with 1 Axes>"
            ]
          },
          "metadata": {},
          "output_type": "display_data"
        }
      ],
      "source": [
        "IMAGE_PATH = \"/content/cat.jpg\"\n",
        "from going_moduler import binary_predictions\n",
        "pred_and_plot_image(model = model_1,\n",
        "                                class_names = class_names,\n",
        "                                image_path = IMAGE_PATH,\n",
        "                                device = device)"
      ]
    },
    {
      "cell_type": "markdown",
      "metadata": {
        "id": "BRbwcq5x5aOt"
      },
      "source": [
        "## model class creation with only BatchNorm2d() and conv_block_4 (`no dropouts`) for `model_4`\n",
        "\n",
        "* max came (with 10 epoch) = `83`\n",
        " but with (with 15 epoch) = `85 ~ 86`\n",
        "\n",
        "* max came with (`transform_without_trivial`, `10 epoch`)  - `86.823`\n"
      ]
    },
    {
      "cell_type": "code",
      "execution_count": null,
      "metadata": {
        "id": "kIYmi-z75aO7"
      },
      "outputs": [],
      "source": [
        "class TinyVGG(nn.Module):\n",
        "  def __init__(self,\n",
        "               input_shape:int,\n",
        "               hidden_units:int,\n",
        "               output_shape:int):\n",
        "    super().__init__()\n",
        "    self.conv_block_1 = nn.Sequential(\n",
        "        nn.Conv2d(in_channels = input_shape,\n",
        "                  out_channels = hidden_units,\n",
        "                  padding = 1,\n",
        "                  kernel_size = 3,\n",
        "                  stride = 1),\n",
        "        nn.ReLU(),\n",
        "        nn.BatchNorm2d(num_features = hidden_units),\n",
        "        nn.Conv2d(in_channels = hidden_units,\n",
        "                  out_channels = hidden_units,\n",
        "                  padding = 1,\n",
        "                  kernel_size = 3,\n",
        "                  stride = 1),\n",
        "        nn.ReLU(),\n",
        "        nn.BatchNorm2d(num_features = hidden_units),\n",
        "        nn.MaxPool2d(kernel_size = 2),\n",
        "    )\n",
        "    self.conv_block_2 = nn.Sequential(\n",
        "        nn.Conv2d(in_channels = hidden_units,\n",
        "                  out_channels = hidden_units,\n",
        "                  padding = 1,\n",
        "                  kernel_size = 3,\n",
        "                  stride = 1),\n",
        "        nn.ReLU(),\n",
        "        nn.BatchNorm2d(num_features = hidden_units),\n",
        "        nn.Conv2d(in_channels = hidden_units,\n",
        "                  out_channels = hidden_units,\n",
        "                  padding = 1,\n",
        "                  kernel_size = 3,\n",
        "                  stride = 1),\n",
        "        nn.ReLU(),\n",
        "        nn.BatchNorm2d(num_features = hidden_units),\n",
        "        nn.MaxPool2d(kernel_size = 2),\n",
        "    )\n",
        "    self.conv_block_3 = nn.Sequential(\n",
        "        nn.Conv2d(in_channels = hidden_units,\n",
        "                  out_channels = hidden_units,\n",
        "                  padding = 1,\n",
        "                  kernel_size = 3,\n",
        "                  stride = 1),\n",
        "        nn.ReLU(),\n",
        "        nn.BatchNorm2d(num_features = hidden_units),\n",
        "        nn.Conv2d(in_channels = hidden_units,\n",
        "                  out_channels = hidden_units,\n",
        "                  padding = 1,\n",
        "                  kernel_size = 3,\n",
        "                  stride = 1),\n",
        "        nn.ReLU(),\n",
        "        nn.BatchNorm2d(num_features = hidden_units),\n",
        "        nn.MaxPool2d(kernel_size = 2),\n",
        "    )\n",
        "    self.conv_block_4 = nn.Sequential(\n",
        "        nn.Conv2d(in_channels = hidden_units,\n",
        "                  out_channels = hidden_units,\n",
        "                  padding = 1,\n",
        "                  kernel_size = 3,\n",
        "                  stride = 1),\n",
        "        nn.ReLU(),\n",
        "        nn.BatchNorm2d(num_features = hidden_units),\n",
        "        nn.Conv2d(in_channels = hidden_units,\n",
        "                  out_channels = hidden_units,\n",
        "                  padding = 1,\n",
        "                  kernel_size = 3,\n",
        "                  stride = 1),\n",
        "        nn.ReLU(),\n",
        "        nn.BatchNorm2d(num_features = hidden_units),\n",
        "        nn.MaxPool2d(kernel_size = 2),\n",
        "    )\n",
        "    self.classifier = nn.Sequential(\n",
        "        nn.Flatten(),\n",
        "        nn.Linear(in_features = hidden_units*14*14,\n",
        "                  out_features = 128),\n",
        "        nn.Linear(in_features = 128,\n",
        "                  out_features = 64),\n",
        "        nn.Linear(in_features = 64,\n",
        "                  out_features = output_shape)\n",
        "    )\n",
        "\n",
        "  def forward(self, x):\n",
        "    # x = self.conv_block_1(x)\n",
        "    # print(x.shape)\n",
        "    # x = self.conv_block_2(x)\n",
        "    # print(x.shape)\n",
        "    # x = self.conv_block_3(x)\n",
        "    # print(x.shape)\n",
        "    # x = self.classifier(x)\n",
        "    # return x\n",
        "\n",
        "    return self.classifier(self.conv_block_4(self.conv_block_3(self.conv_block_2(self.conv_block_1(x)))))\n"
      ]
    },
    {
      "cell_type": "code",
      "execution_count": null,
      "metadata": {
        "id": "Hr7gau7S5aO8"
      },
      "outputs": [],
      "source": [
        "model_4 = TinyVGG(input_shape = 3,\n",
        "                  hidden_units = 10,\n",
        "                  output_shape = 1).to(device)"
      ]
    },
    {
      "cell_type": "markdown",
      "metadata": {
        "id": "5feLLsNY5aO8"
      },
      "source": [
        "### loss function and optimizer"
      ]
    },
    {
      "cell_type": "code",
      "execution_count": null,
      "metadata": {
        "id": "0xafof9O5aO9"
      },
      "outputs": [],
      "source": [
        "loss_fn = nn.BCEWithLogitsLoss()\n",
        "\n",
        "optimizer = torch.optim.Adam(params = model_4.parameters(),\n",
        "                             lr = 0.001)"
      ]
    },
    {
      "cell_type": "code",
      "execution_count": null,
      "metadata": {
        "colab": {
          "base_uri": "https://localhost:8080/",
          "height": 743,
          "referenced_widgets": [
            "706220c109574eaa9b6e504648c50994",
            "07a0c0cb667c4b72b485eec1a744e001",
            "32d5cdd5b6b74dd0abfc47dbd9ff9c9e",
            "8a964734abb942b6af1dfa2926d5f891",
            "c664654418b2452cb0179e8d5e56983d",
            "f1bcfeb76e8f474bbf667a7effc2040c",
            "83e6acdf6ea14cf988620ac30155f35f",
            "750b7329814748bc96f68e08bbc0458f",
            "e4aabf8625ab43b99e9d59fe79b3a807",
            "96da9bbbf8794faab9410e51ad52159a",
            "33be64792f7b4396b9abd916e7b0ce6c"
          ]
        },
        "outputId": "ce8a20b4-0f0e-4cb0-de0c-f629e4309310",
        "id": "FSGcWpDF5aO9"
      },
      "outputs": [
        {
          "output_type": "display_data",
          "data": {
            "text/plain": [
              "  0%|          | 0/10 [00:00<?, ?it/s]"
            ],
            "application/vnd.jupyter.widget-view+json": {
              "version_major": 2,
              "version_minor": 0,
              "model_id": "706220c109574eaa9b6e504648c50994"
            }
          },
          "metadata": {}
        },
        {
          "output_type": "stream",
          "name": "stdout",
          "text": [
            "\n",
            "Epoch: 1\n",
            "----------------\n",
            "train loss: 0.56456, train acc: 70.375% | test loss: 0.51856, test_acc: 74.084%\n",
            "\n",
            "Epoch: 2\n",
            "----------------\n",
            "train loss: 0.47821, train acc: 76.975% | test loss: 0.46409, test_acc: 78.045%\n",
            "\n",
            "Epoch: 3\n",
            "----------------\n",
            "train loss: 0.42895, train acc: 80.085% | test loss: 0.43340, test_acc: 79.538%\n",
            "\n",
            "Epoch: 4\n",
            "----------------\n",
            "train loss: 0.39321, train acc: 82.645% | test loss: 0.38897, test_acc: 83.420%\n",
            "\n",
            "Epoch: 5\n",
            "----------------\n",
            "train loss: 0.35801, train acc: 84.130% | test loss: 0.39304, test_acc: 82.783%\n",
            "\n",
            "Epoch: 6\n",
            "----------------\n",
            "train loss: 0.32563, train acc: 85.745% | test loss: 0.37471, test_acc: 83.181%\n",
            "\n",
            "Epoch: 7\n",
            "----------------\n",
            "train loss: 0.30240, train acc: 87.205% | test loss: 0.32937, test_acc: 86.047%\n",
            "\n",
            "Epoch: 8\n",
            "----------------\n",
            "train loss: 0.27879, train acc: 88.140% | test loss: 0.33974, test_acc: 86.127%\n",
            "\n",
            "Epoch: 9\n",
            "----------------\n",
            "train loss: 0.26394, train acc: 88.815% | test loss: 0.31352, test_acc: 86.783%\n",
            "\n",
            "Epoch: 10\n",
            "----------------\n",
            "train loss: 0.24664, train acc: 89.750% | test loss: 0.29686, test_acc: 86.823%\n"
          ]
        }
      ],
      "source": [
        "# hyper parameters\n",
        "EPOCHS = 10\n",
        "\n",
        "model_4_results = binary_engine.Binary_engine(model = model_4,\n",
        "                                train_dataloader = train_dataloader_without,\n",
        "                                test_dataloader = test_dataloader_without,\n",
        "                                loss_fn = loss_fn,\n",
        "                                optimizer = optimizer,\n",
        "                                device = device,\n",
        "                                epochs = EPOCHS)"
      ]
    },
    {
      "cell_type": "code",
      "execution_count": null,
      "metadata": {
        "id": "9zageXjq5aO-"
      },
      "outputs": [],
      "source": [
        "from going_moduler import plot_the_results\n",
        "plot_the_results.plot_curves(model_0 = model_0_results,\n",
        "                             model_1 = model_1_results)"
      ]
    },
    {
      "cell_type": "markdown",
      "metadata": {
        "id": "UarM6kjRV1wf"
      },
      "source": [
        "## model class creation with only BatchNorm2d() and conv_block_4 (`with dropouts`) for `model_5`\n",
        "* with (`epoch 10`) = `85`\n",
        "\n",
        "* max came with (`transform_without_trivial`, `10 epoch`)  - `88.157`"
      ]
    },
    {
      "cell_type": "code",
      "execution_count": null,
      "metadata": {
        "id": "18Td3TR0V1wz"
      },
      "outputs": [],
      "source": [
        "class TinyVGG(nn.Module):\n",
        "  def __init__(self,\n",
        "               input_shape:int,\n",
        "               hidden_units:int,\n",
        "               output_shape:int):\n",
        "    super().__init__()\n",
        "    self.conv_block_1 = nn.Sequential(\n",
        "        nn.Conv2d(in_channels = input_shape,\n",
        "                  out_channels = hidden_units,\n",
        "                  padding = 1,\n",
        "                  kernel_size = 3,\n",
        "                  stride = 1),\n",
        "        nn.ReLU(),\n",
        "        nn.BatchNorm2d(num_features = hidden_units),\n",
        "        nn.Conv2d(in_channels = hidden_units,\n",
        "                  out_channels = hidden_units,\n",
        "                  padding = 1,\n",
        "                  kernel_size = 3,\n",
        "                  stride = 1),\n",
        "        nn.ReLU(),\n",
        "        nn.BatchNorm2d(num_features = hidden_units),\n",
        "        nn.MaxPool2d(kernel_size = 2),\n",
        "    )\n",
        "    self.conv_block_2 = nn.Sequential(\n",
        "        nn.Conv2d(in_channels = hidden_units,\n",
        "                  out_channels = hidden_units,\n",
        "                  padding = 1,\n",
        "                  kernel_size = 3,\n",
        "                  stride = 1),\n",
        "        nn.ReLU(),\n",
        "        nn.BatchNorm2d(num_features = hidden_units),\n",
        "        nn.Conv2d(in_channels = hidden_units,\n",
        "                  out_channels = hidden_units,\n",
        "                  padding = 1,\n",
        "                  kernel_size = 3,\n",
        "                  stride = 1),\n",
        "        nn.ReLU(),\n",
        "        nn.BatchNorm2d(num_features = hidden_units),\n",
        "        nn.MaxPool2d(kernel_size = 2),\n",
        "    )\n",
        "    self.conv_block_3 = nn.Sequential(\n",
        "        nn.Conv2d(in_channels = hidden_units,\n",
        "                  out_channels = hidden_units,\n",
        "                  padding = 1,\n",
        "                  kernel_size = 3,\n",
        "                  stride = 1),\n",
        "        nn.ReLU(),\n",
        "        nn.BatchNorm2d(num_features = hidden_units),\n",
        "        nn.Conv2d(in_channels = hidden_units,\n",
        "                  out_channels = hidden_units,\n",
        "                  padding = 1,\n",
        "                  kernel_size = 3,\n",
        "                  stride = 1),\n",
        "        nn.ReLU(),\n",
        "        nn.BatchNorm2d(num_features = hidden_units),\n",
        "        nn.MaxPool2d(kernel_size = 2),\n",
        "    )\n",
        "    self.conv_block_4 = nn.Sequential(\n",
        "        nn.Conv2d(in_channels = hidden_units,\n",
        "                  out_channels = hidden_units,\n",
        "                  padding = 1,\n",
        "                  kernel_size = 3,\n",
        "                  stride = 1),\n",
        "        nn.ReLU(),\n",
        "        nn.BatchNorm2d(num_features = hidden_units),\n",
        "        nn.Conv2d(in_channels = hidden_units,\n",
        "                  out_channels = hidden_units,\n",
        "                  padding = 1,\n",
        "                  kernel_size = 3,\n",
        "                  stride = 1),\n",
        "        nn.ReLU(),\n",
        "        nn.BatchNorm2d(num_features = hidden_units),\n",
        "        nn.MaxPool2d(kernel_size = 2),\n",
        "    )\n",
        "    self.classifier = nn.Sequential(\n",
        "        nn.Flatten(),\n",
        "        nn.Linear(in_features = hidden_units*14*14,\n",
        "                  out_features = 128),\n",
        "        nn.Dropout(0.1),\n",
        "        nn.Linear(in_features = 128,\n",
        "                  out_features = 64),\n",
        "        nn.Dropout(0.1),\n",
        "        nn.Linear(in_features = 64,\n",
        "                  out_features = output_shape)\n",
        "    )\n",
        "\n",
        "  def forward(self, x):\n",
        "    # x = self.conv_block_1(x)\n",
        "    # print(x.shape)\n",
        "    # x = self.conv_block_2(x)\n",
        "    # print(x.shape)\n",
        "    # x = self.conv_block_3(x)\n",
        "    # print(x.shape)\n",
        "    # x = self.classifier(x)\n",
        "    # return x\n",
        "\n",
        "    return self.classifier(self.conv_block_4(self.conv_block_3(self.conv_block_2(self.conv_block_1(x)))))\n"
      ]
    },
    {
      "cell_type": "code",
      "execution_count": null,
      "metadata": {
        "id": "GwRNN6v_V1w0"
      },
      "outputs": [],
      "source": [
        "model_5 = TinyVGG(input_shape = 3,\n",
        "                  hidden_units = 10,\n",
        "                  output_shape = 1).to(device)"
      ]
    },
    {
      "cell_type": "markdown",
      "metadata": {
        "id": "nI08y1LMV1w0"
      },
      "source": [
        "### loss function and optimizer"
      ]
    },
    {
      "cell_type": "code",
      "execution_count": null,
      "metadata": {
        "id": "hqdu9IDrV1w1"
      },
      "outputs": [],
      "source": [
        "loss_fn = nn.BCEWithLogitsLoss()\n",
        "\n",
        "optimizer = torch.optim.Adam(params = model_5.parameters(),\n",
        "                             lr = 0.001)"
      ]
    },
    {
      "cell_type": "code",
      "execution_count": null,
      "metadata": {
        "colab": {
          "base_uri": "https://localhost:8080/",
          "height": 743,
          "referenced_widgets": [
            "75dd2f8505ec4b0699c3319297e62324",
            "3c333d6e9a7e4d6ba30df9c79af33329",
            "a98efab87dbf463681d373e8ac424d20",
            "3b5a1fb401eb4b6cb79218f0d090825c",
            "60c60d96589341e99c416c65dd7b7574",
            "1136518d89284a8eaec183687ea82785",
            "b9342f609942471b957ac99e7e74f68e",
            "153f020de62f480bb131b2015a31116d",
            "96083e69963749148df0671b643e4ddb",
            "dc97354fa92c4c0fbca42b04f39f4778",
            "cb762f5b2ae7496ea32ee11420ceeea9"
          ]
        },
        "outputId": "8a548709-701d-4ed6-eb33-91bdfddad56a",
        "id": "rAsDlqMMV1w1"
      },
      "outputs": [
        {
          "output_type": "display_data",
          "data": {
            "text/plain": [
              "  0%|          | 0/10 [00:00<?, ?it/s]"
            ],
            "application/vnd.jupyter.widget-view+json": {
              "version_major": 2,
              "version_minor": 0,
              "model_id": "75dd2f8505ec4b0699c3319297e62324"
            }
          },
          "metadata": {}
        },
        {
          "output_type": "stream",
          "name": "stdout",
          "text": [
            "\n",
            "Epoch: 1\n",
            "----------------\n",
            "train loss: 0.58946, train acc: 68.635% | test loss: 0.51843, test_acc: 73.905%\n",
            "\n",
            "Epoch: 2\n",
            "----------------\n",
            "train loss: 0.44937, train acc: 79.335% | test loss: 0.48776, test_acc: 75.796%\n",
            "\n",
            "Epoch: 3\n",
            "----------------\n",
            "train loss: 0.38825, train acc: 82.670% | test loss: 0.37448, test_acc: 83.599%\n",
            "\n",
            "Epoch: 4\n",
            "----------------\n",
            "train loss: 0.34895, train acc: 85.130% | test loss: 0.34586, test_acc: 85.291%\n",
            "\n",
            "Epoch: 5\n",
            "----------------\n",
            "train loss: 0.31898, train acc: 86.275% | test loss: 0.38372, test_acc: 84.076%\n",
            "\n",
            "Epoch: 6\n",
            "----------------\n",
            "train loss: 0.29042, train acc: 88.040% | test loss: 0.40109, test_acc: 83.161%\n",
            "\n",
            "Epoch: 7\n",
            "----------------\n",
            "train loss: 0.27162, train acc: 88.735% | test loss: 0.30001, test_acc: 87.281%\n",
            "\n",
            "Epoch: 8\n",
            "----------------\n",
            "train loss: 0.25211, train acc: 89.565% | test loss: 0.29188, test_acc: 87.898%\n",
            "\n",
            "Epoch: 9\n",
            "----------------\n",
            "train loss: 0.23447, train acc: 90.210% | test loss: 0.33038, test_acc: 87.042%\n",
            "\n",
            "Epoch: 10\n",
            "----------------\n",
            "train loss: 0.22040, train acc: 91.160% | test loss: 0.29843, test_acc: 88.157%\n"
          ]
        }
      ],
      "source": [
        "# hyper parameters\n",
        "EPOCHS = 10\n",
        "\n",
        "model_5_results = binary_engine.Binary_engine(model = model_5,\n",
        "                                train_dataloader = train_dataloader_without,\n",
        "                                test_dataloader = test_dataloader_without,\n",
        "                                loss_fn = loss_fn,\n",
        "                                optimizer = optimizer,\n",
        "                                device = device,\n",
        "                                epochs = EPOCHS)"
      ]
    },
    {
      "cell_type": "markdown",
      "metadata": {
        "id": "ejKR3jkvA8rE"
      },
      "source": [
        "## model class creation with only BatchNorm2d() and conv_block_4 (`with dropouts`) & `50` neurons for `model_7`\n",
        "* with (`epoch 10`) = `85`\n",
        "\n",
        "* max came with (`transform_without_trivial`, `10 epoch`)  - `93.471%`"
      ]
    },
    {
      "cell_type": "code",
      "execution_count": null,
      "metadata": {
        "id": "dHWQ8vxqA8rV"
      },
      "outputs": [],
      "source": [
        "class TinyVGG(nn.Module):\n",
        "  def __init__(self,\n",
        "               input_shape:int,\n",
        "               hidden_units:int,\n",
        "               output_shape:int):\n",
        "    super().__init__()\n",
        "    self.conv_block_1 = nn.Sequential(\n",
        "        nn.Conv2d(in_channels = input_shape,\n",
        "                  out_channels = hidden_units,\n",
        "                  padding = 1,\n",
        "                  kernel_size = 3,\n",
        "                  stride = 1),\n",
        "        nn.ReLU(),\n",
        "        nn.BatchNorm2d(num_features = hidden_units),\n",
        "        nn.Conv2d(in_channels = hidden_units,\n",
        "                  out_channels = hidden_units,\n",
        "                  padding = 1,\n",
        "                  kernel_size = 3,\n",
        "                  stride = 1),\n",
        "        nn.ReLU(),\n",
        "        nn.BatchNorm2d(num_features = hidden_units),\n",
        "        nn.MaxPool2d(kernel_size = 2),\n",
        "    )\n",
        "    self.conv_block_2 = nn.Sequential(\n",
        "        nn.Conv2d(in_channels = hidden_units,\n",
        "                  out_channels = hidden_units,\n",
        "                  padding = 1,\n",
        "                  kernel_size = 3,\n",
        "                  stride = 1),\n",
        "        nn.ReLU(),\n",
        "        nn.BatchNorm2d(num_features = hidden_units),\n",
        "        nn.Conv2d(in_channels = hidden_units,\n",
        "                  out_channels = hidden_units,\n",
        "                  padding = 1,\n",
        "                  kernel_size = 3,\n",
        "                  stride = 1),\n",
        "        nn.ReLU(),\n",
        "        nn.BatchNorm2d(num_features = hidden_units),\n",
        "        nn.MaxPool2d(kernel_size = 2),\n",
        "    )\n",
        "    self.conv_block_3 = nn.Sequential(\n",
        "        nn.Conv2d(in_channels = hidden_units,\n",
        "                  out_channels = hidden_units,\n",
        "                  padding = 1,\n",
        "                  kernel_size = 3,\n",
        "                  stride = 1),\n",
        "        nn.ReLU(),\n",
        "        nn.BatchNorm2d(num_features = hidden_units),\n",
        "        nn.Conv2d(in_channels = hidden_units,\n",
        "                  out_channels = hidden_units,\n",
        "                  padding = 1,\n",
        "                  kernel_size = 3,\n",
        "                  stride = 1),\n",
        "        nn.ReLU(),\n",
        "        nn.BatchNorm2d(num_features = hidden_units),\n",
        "        nn.MaxPool2d(kernel_size = 2),\n",
        "    )\n",
        "    self.conv_block_4 = nn.Sequential(\n",
        "        nn.Conv2d(in_channels = hidden_units,\n",
        "                  out_channels = hidden_units,\n",
        "                  padding = 1,\n",
        "                  kernel_size = 3,\n",
        "                  stride = 1),\n",
        "        nn.ReLU(),\n",
        "        nn.BatchNorm2d(num_features = hidden_units),\n",
        "        nn.Conv2d(in_channels = hidden_units,\n",
        "                  out_channels = hidden_units,\n",
        "                  padding = 1,\n",
        "                  kernel_size = 3,\n",
        "                  stride = 1),\n",
        "        nn.ReLU(),\n",
        "        nn.BatchNorm2d(num_features = hidden_units),\n",
        "        nn.MaxPool2d(kernel_size = 2),\n",
        "    )\n",
        "    self.classifier = nn.Sequential(\n",
        "        nn.Flatten(),\n",
        "        nn.Linear(in_features = hidden_units*14*14,\n",
        "                  out_features = 128),\n",
        "        nn.Dropout(0.1),\n",
        "        nn.Linear(in_features = 128,\n",
        "                  out_features = 64),\n",
        "        nn.Dropout(0.1),\n",
        "        nn.Linear(in_features = 64,\n",
        "                  out_features = output_shape)\n",
        "    )\n",
        "\n",
        "  def forward(self, x):\n",
        "    # x = self.conv_block_1(x)\n",
        "    # print(x.shape)\n",
        "    # x = self.conv_block_2(x)\n",
        "    # print(x.shape)\n",
        "    # x = self.conv_block_3(x)\n",
        "    # print(x.shape)\n",
        "    # x = self.classifier(x)\n",
        "    # return x\n",
        "\n",
        "    return self.classifier(self.conv_block_4(self.conv_block_3(self.conv_block_2(self.conv_block_1(x)))))\n"
      ]
    },
    {
      "cell_type": "code",
      "execution_count": null,
      "metadata": {
        "id": "M36lwxC3A8rW"
      },
      "outputs": [],
      "source": [
        "model_7 = TinyVGG(input_shape = 3,\n",
        "                  hidden_units = 50,\n",
        "                  output_shape = 1).to(device)"
      ]
    },
    {
      "cell_type": "markdown",
      "metadata": {
        "id": "_Avm9rJoA8rX"
      },
      "source": [
        "### loss function and optimizer"
      ]
    },
    {
      "cell_type": "code",
      "execution_count": null,
      "metadata": {
        "id": "-Zz9XYOEA8rY"
      },
      "outputs": [],
      "source": [
        "loss_fn = nn.BCEWithLogitsLoss()\n",
        "\n",
        "optimizer = torch.optim.Adam(params = model_7.parameters(),\n",
        "                             lr = 0.001)"
      ]
    },
    {
      "cell_type": "code",
      "execution_count": null,
      "metadata": {
        "colab": {
          "base_uri": "https://localhost:8080/",
          "height": 743,
          "referenced_widgets": [
            "4900ea31eb2144c6b3b000600f07fd8b",
            "583f730bc0bc40df8c13e453d01b05c2",
            "1db7da4f1e3b40039dbd0ccb2326842c",
            "ded2febd91794871b60452cdada95732",
            "e52720595fc443b4a738f66516d577a3",
            "f83d2117fdf641fcb8e549ad6a4b921d",
            "16830750c44b430f8b16a26895557408",
            "1df6dfd7a2304d14b550ffa04d4019d3",
            "5b10b0b3f2e144718e8b0279494a6d74",
            "c70e940cc92d44949b08ec45b3a0ca00",
            "247dbc4566264e6db2b7469e3da7964a"
          ]
        },
        "outputId": "df1aa2af-f8e5-42f1-982a-b6270c7cd2d7",
        "id": "YfjdNQFGA8rY"
      },
      "outputs": [
        {
          "output_type": "display_data",
          "data": {
            "text/plain": [
              "  0%|          | 0/10 [00:00<?, ?it/s]"
            ],
            "application/vnd.jupyter.widget-view+json": {
              "version_major": 2,
              "version_minor": 0,
              "model_id": "4900ea31eb2144c6b3b000600f07fd8b"
            }
          },
          "metadata": {}
        },
        {
          "output_type": "stream",
          "name": "stdout",
          "text": [
            "\n",
            "Epoch: 1\n",
            "----------------\n",
            "train loss: 0.65840, train acc: 64.150% | test loss: 0.52457, test_acc: 73.229%\n",
            "\n",
            "Epoch: 2\n",
            "----------------\n",
            "train loss: 0.49413, train acc: 76.030% | test loss: 0.49518, test_acc: 77.229%\n",
            "\n",
            "Epoch: 3\n",
            "----------------\n",
            "train loss: 0.40312, train acc: 81.825% | test loss: 0.70298, test_acc: 68.650%\n",
            "\n",
            "Epoch: 4\n",
            "----------------\n",
            "train loss: 0.32246, train acc: 86.250% | test loss: 0.30707, test_acc: 87.162%\n",
            "\n",
            "Epoch: 5\n",
            "----------------\n",
            "train loss: 0.25026, train acc: 89.525% | test loss: 0.22515, test_acc: 90.665%\n",
            "\n",
            "Epoch: 6\n",
            "----------------\n",
            "train loss: 0.18809, train acc: 92.380% | test loss: 0.19548, test_acc: 92.098%\n",
            "\n",
            "Epoch: 7\n",
            "----------------\n",
            "train loss: 0.15745, train acc: 93.900% | test loss: 0.21140, test_acc: 92.496%\n",
            "\n",
            "Epoch: 8\n",
            "----------------\n",
            "train loss: 0.12730, train acc: 95.080% | test loss: 0.21724, test_acc: 91.103%\n",
            "\n",
            "Epoch: 9\n",
            "----------------\n",
            "train loss: 0.11499, train acc: 95.530% | test loss: 0.18249, test_acc: 92.018%\n",
            "\n",
            "Epoch: 10\n",
            "----------------\n",
            "train loss: 0.09735, train acc: 96.285% | test loss: 0.20367, test_acc: 93.471%\n"
          ]
        }
      ],
      "source": [
        "# hyper parameters\n",
        "EPOCHS = 10\n",
        "\n",
        "model_7_results = binary_engine.Binary_engine(model = model_7,\n",
        "                                train_dataloader = train_dataloader_without,\n",
        "                                test_dataloader = test_dataloader_without,\n",
        "                                loss_fn = loss_fn,\n",
        "                                optimizer = optimizer,\n",
        "                                device = device,\n",
        "                                epochs = EPOCHS)"
      ]
    },
    {
      "cell_type": "markdown",
      "metadata": {
        "id": "dwMppG_x74k3"
      },
      "source": [
        "## model class creation with only BatchNorm2d() and conv_block_4 (`with dropouts`) & `80` neurons for `model_8`\n",
        "* with (`epoch 10`) = `85`\n",
        "\n",
        "* max came with (`transform_without_trivial`, `10 epoch`)  - `92.436%`"
      ]
    },
    {
      "cell_type": "code",
      "execution_count": null,
      "metadata": {
        "id": "NlkgP2pR74lT"
      },
      "outputs": [],
      "source": [
        "class TinyVGG(nn.Module):\n",
        "  def __init__(self,\n",
        "               input_shape:int,\n",
        "               hidden_units:int,\n",
        "               output_shape:int):\n",
        "    super().__init__()\n",
        "    self.conv_block_1 = nn.Sequential(\n",
        "        nn.Conv2d(in_channels = input_shape,\n",
        "                  out_channels = hidden_units,\n",
        "                  padding = 1,\n",
        "                  kernel_size = 3,\n",
        "                  stride = 1),\n",
        "        nn.ReLU(),\n",
        "        nn.BatchNorm2d(num_features = hidden_units),\n",
        "        nn.Conv2d(in_channels = hidden_units,\n",
        "                  out_channels = hidden_units,\n",
        "                  padding = 1,\n",
        "                  kernel_size = 3,\n",
        "                  stride = 1),\n",
        "        nn.ReLU(),\n",
        "        nn.BatchNorm2d(num_features = hidden_units),\n",
        "        nn.MaxPool2d(kernel_size = 2),\n",
        "    )\n",
        "    self.conv_block_2 = nn.Sequential(\n",
        "        nn.Conv2d(in_channels = hidden_units,\n",
        "                  out_channels = hidden_units,\n",
        "                  padding = 1,\n",
        "                  kernel_size = 3,\n",
        "                  stride = 1),\n",
        "        nn.ReLU(),\n",
        "        nn.BatchNorm2d(num_features = hidden_units),\n",
        "        nn.Conv2d(in_channels = hidden_units,\n",
        "                  out_channels = hidden_units,\n",
        "                  padding = 1,\n",
        "                  kernel_size = 3,\n",
        "                  stride = 1),\n",
        "        nn.ReLU(),\n",
        "        nn.BatchNorm2d(num_features = hidden_units),\n",
        "        nn.MaxPool2d(kernel_size = 2),\n",
        "    )\n",
        "    self.conv_block_3 = nn.Sequential(\n",
        "        nn.Conv2d(in_channels = hidden_units,\n",
        "                  out_channels = hidden_units,\n",
        "                  padding = 1,\n",
        "                  kernel_size = 3,\n",
        "                  stride = 1),\n",
        "        nn.ReLU(),\n",
        "        nn.BatchNorm2d(num_features = hidden_units),\n",
        "        nn.Conv2d(in_channels = hidden_units,\n",
        "                  out_channels = hidden_units,\n",
        "                  padding = 1,\n",
        "                  kernel_size = 3,\n",
        "                  stride = 1),\n",
        "        nn.ReLU(),\n",
        "        nn.BatchNorm2d(num_features = hidden_units),\n",
        "        nn.MaxPool2d(kernel_size = 2),\n",
        "    )\n",
        "    self.conv_block_4 = nn.Sequential(\n",
        "        nn.Conv2d(in_channels = hidden_units,\n",
        "                  out_channels = hidden_units,\n",
        "                  padding = 1,\n",
        "                  kernel_size = 3,\n",
        "                  stride = 1),\n",
        "        nn.ReLU(),\n",
        "        nn.BatchNorm2d(num_features = hidden_units),\n",
        "        nn.Conv2d(in_channels = hidden_units,\n",
        "                  out_channels = hidden_units,\n",
        "                  padding = 1,\n",
        "                  kernel_size = 3,\n",
        "                  stride = 1),\n",
        "        nn.ReLU(),\n",
        "        nn.BatchNorm2d(num_features = hidden_units),\n",
        "        nn.MaxPool2d(kernel_size = 2),\n",
        "    )\n",
        "    self.classifier = nn.Sequential(\n",
        "        nn.Flatten(),\n",
        "        nn.Linear(in_features = hidden_units*14*14,\n",
        "                  out_features = 128),\n",
        "        nn.Dropout(0.1),\n",
        "        nn.Linear(in_features = 128,\n",
        "                  out_features = 64),\n",
        "        nn.Dropout(0.1),\n",
        "        nn.Linear(in_features = 64,\n",
        "                  out_features = output_shape)\n",
        "    )\n",
        "\n",
        "  def forward(self, x):\n",
        "    # x = self.conv_block_1(x)\n",
        "    # print(x.shape)\n",
        "    # x = self.conv_block_2(x)\n",
        "    # print(x.shape)\n",
        "    # x = self.conv_block_3(x)\n",
        "    # print(x.shape)\n",
        "    # x = self.classifier(x)\n",
        "    # return x\n",
        "\n",
        "    return self.classifier(self.conv_block_4(self.conv_block_3(self.conv_block_2(self.conv_block_1(x)))))\n"
      ]
    },
    {
      "cell_type": "code",
      "execution_count": null,
      "metadata": {
        "id": "IIX2zMp074lT"
      },
      "outputs": [],
      "source": [
        "model_8 = TinyVGG(input_shape = 3,\n",
        "                  hidden_units = 80,\n",
        "                  output_shape = 1).to(device)"
      ]
    },
    {
      "cell_type": "markdown",
      "metadata": {
        "id": "w-Ltm9S-74lU"
      },
      "source": [
        "### loss function and optimizer"
      ]
    },
    {
      "cell_type": "code",
      "execution_count": null,
      "metadata": {
        "id": "gEzqSoYD74lU"
      },
      "outputs": [],
      "source": [
        "loss_fn = nn.BCEWithLogitsLoss()\n",
        "\n",
        "optimizer = torch.optim.Adam(params = model_8.parameters(),\n",
        "                             lr = 0.001)"
      ]
    },
    {
      "cell_type": "code",
      "execution_count": null,
      "metadata": {
        "colab": {
          "base_uri": "https://localhost:8080/",
          "height": 743,
          "referenced_widgets": [
            "8221d27c47e14f7cbef1bd025f9de42f",
            "12a354fa6e014240a727f5a730fba351",
            "fb64e738a4c1420a8143a62b85b02b3a",
            "ebea3effeed54aabbf683cef2cb377c7",
            "0d643d4a4f54475d893a940dc7a42a62",
            "b36a2184afbe422c9bd8ec8e02abf36a",
            "3cadc46a0a804c94abdf81a61963449d",
            "9d73933ad6274562a8e350c1194511ef",
            "49ffcace012a45b3b32c856a7950fdaa",
            "c6025c7ed0a441e1af8f833d9052b797",
            "cf02f4c34fb54726a913f136c16e00f2"
          ]
        },
        "outputId": "4964cd7d-e876-4bc6-82a7-f31ad7061d2d",
        "id": "f-WP_Gov74lV"
      },
      "outputs": [
        {
          "output_type": "display_data",
          "data": {
            "text/plain": [
              "  0%|          | 0/10 [00:00<?, ?it/s]"
            ],
            "application/vnd.jupyter.widget-view+json": {
              "version_major": 2,
              "version_minor": 0,
              "model_id": "8221d27c47e14f7cbef1bd025f9de42f"
            }
          },
          "metadata": {}
        },
        {
          "output_type": "stream",
          "name": "stdout",
          "text": [
            "\n",
            "Epoch: 1\n",
            "----------------\n",
            "train loss: 0.75348, train acc: 60.370% | test loss: 0.58550, test_acc: 70.462%\n",
            "\n",
            "Epoch: 2\n",
            "----------------\n",
            "train loss: 0.54042, train acc: 72.510% | test loss: 0.57222, test_acc: 71.238%\n",
            "\n",
            "Epoch: 3\n",
            "----------------\n",
            "train loss: 0.46177, train acc: 78.110% | test loss: 0.47183, test_acc: 77.130%\n",
            "\n",
            "Epoch: 4\n",
            "----------------\n",
            "train loss: 0.38305, train acc: 82.955% | test loss: 0.37552, test_acc: 83.400%\n",
            "\n",
            "Epoch: 5\n",
            "----------------\n",
            "train loss: 0.29156, train acc: 87.540% | test loss: 0.41856, test_acc: 82.504%\n",
            "\n",
            "Epoch: 6\n",
            "----------------\n",
            "train loss: 0.22255, train acc: 90.715% | test loss: 0.26003, test_acc: 88.794%\n",
            "\n",
            "Epoch: 7\n",
            "----------------\n",
            "train loss: 0.18057, train acc: 92.815% | test loss: 0.26325, test_acc: 89.112%\n",
            "\n",
            "Epoch: 8\n",
            "----------------\n",
            "train loss: 0.14499, train acc: 94.285% | test loss: 0.18350, test_acc: 92.257%\n",
            "\n",
            "Epoch: 9\n",
            "----------------\n",
            "train loss: 0.12752, train acc: 94.990% | test loss: 0.20747, test_acc: 92.695%\n",
            "\n",
            "Epoch: 10\n",
            "----------------\n",
            "train loss: 0.10648, train acc: 95.750% | test loss: 0.19485, test_acc: 92.436%\n"
          ]
        }
      ],
      "source": [
        "# hyper parameters\n",
        "EPOCHS = 10\n",
        "\n",
        "model_8_results = binary_engine.Binary_engine(model = model_8,\n",
        "                                train_dataloader = train_dataloader_without,\n",
        "                                test_dataloader = test_dataloader_without,\n",
        "                                loss_fn = loss_fn,\n",
        "                                optimizer = optimizer,\n",
        "                                device = device,\n",
        "                                epochs = EPOCHS)"
      ]
    },
    {
      "cell_type": "markdown",
      "metadata": {
        "id": "Ivw5n4B7PyLL"
      },
      "source": [
        "## model class creation with only BatchNorm2d() and conv_block_4 (`with dropouts`) & `100` neurons for `model_9`\n",
        "* with (`epoch 10`) = `85`\n",
        "\n",
        "* max came with (`transform_without_trivial`, `10 epoch`)  - `93.133%`"
      ]
    },
    {
      "cell_type": "code",
      "execution_count": null,
      "metadata": {
        "id": "Ir6wUlcjPyLb"
      },
      "outputs": [],
      "source": [
        "class TinyVGG(nn.Module):\n",
        "  def __init__(self,\n",
        "               input_shape:int,\n",
        "               hidden_units:int,\n",
        "               output_shape:int):\n",
        "    super().__init__()\n",
        "    self.conv_block_1 = nn.Sequential(\n",
        "        nn.Conv2d(in_channels = input_shape,\n",
        "                  out_channels = hidden_units,\n",
        "                  padding = 1,\n",
        "                  kernel_size = 3,\n",
        "                  stride = 1),\n",
        "        nn.ReLU(),\n",
        "        nn.BatchNorm2d(num_features = hidden_units),\n",
        "        nn.Conv2d(in_channels = hidden_units,\n",
        "                  out_channels = hidden_units,\n",
        "                  padding = 1,\n",
        "                  kernel_size = 3,\n",
        "                  stride = 1),\n",
        "        nn.ReLU(),\n",
        "        nn.BatchNorm2d(num_features = hidden_units),\n",
        "        nn.MaxPool2d(kernel_size = 2),\n",
        "    )\n",
        "    self.conv_block_2 = nn.Sequential(\n",
        "        nn.Conv2d(in_channels = hidden_units,\n",
        "                  out_channels = hidden_units,\n",
        "                  padding = 1,\n",
        "                  kernel_size = 3,\n",
        "                  stride = 1),\n",
        "        nn.ReLU(),\n",
        "        nn.BatchNorm2d(num_features = hidden_units),\n",
        "        nn.Conv2d(in_channels = hidden_units,\n",
        "                  out_channels = hidden_units,\n",
        "                  padding = 1,\n",
        "                  kernel_size = 3,\n",
        "                  stride = 1),\n",
        "        nn.ReLU(),\n",
        "        nn.BatchNorm2d(num_features = hidden_units),\n",
        "        nn.MaxPool2d(kernel_size = 2),\n",
        "    )\n",
        "    self.conv_block_3 = nn.Sequential(\n",
        "        nn.Conv2d(in_channels = hidden_units,\n",
        "                  out_channels = hidden_units,\n",
        "                  padding = 1,\n",
        "                  kernel_size = 3,\n",
        "                  stride = 1),\n",
        "        nn.ReLU(),\n",
        "        nn.BatchNorm2d(num_features = hidden_units),\n",
        "        nn.Conv2d(in_channels = hidden_units,\n",
        "                  out_channels = hidden_units,\n",
        "                  padding = 1,\n",
        "                  kernel_size = 3,\n",
        "                  stride = 1),\n",
        "        nn.ReLU(),\n",
        "        nn.BatchNorm2d(num_features = hidden_units),\n",
        "        nn.MaxPool2d(kernel_size = 2),\n",
        "    )\n",
        "    self.conv_block_4 = nn.Sequential(\n",
        "        nn.Conv2d(in_channels = hidden_units,\n",
        "                  out_channels = hidden_units,\n",
        "                  padding = 1,\n",
        "                  kernel_size = 3,\n",
        "                  stride = 1),\n",
        "        nn.ReLU(),\n",
        "        nn.BatchNorm2d(num_features = hidden_units),\n",
        "        nn.Conv2d(in_channels = hidden_units,\n",
        "                  out_channels = hidden_units,\n",
        "                  padding = 1,\n",
        "                  kernel_size = 3,\n",
        "                  stride = 1),\n",
        "        nn.ReLU(),\n",
        "        nn.BatchNorm2d(num_features = hidden_units),\n",
        "        nn.MaxPool2d(kernel_size = 2),\n",
        "    )\n",
        "    self.classifier = nn.Sequential(\n",
        "        nn.Flatten(),\n",
        "        nn.Linear(in_features = hidden_units*14*14,\n",
        "                  out_features = 128),\n",
        "        nn.Dropout(0.1),\n",
        "        nn.Linear(in_features = 128,\n",
        "                  out_features = 64),\n",
        "        nn.Dropout(0.1),\n",
        "        nn.Linear(in_features = 64,\n",
        "                  out_features = output_shape)\n",
        "    )\n",
        "\n",
        "  def forward(self, x):\n",
        "    # x = self.conv_block_1(x)\n",
        "    # print(x.shape)\n",
        "    # x = self.conv_block_2(x)\n",
        "    # print(x.shape)\n",
        "    # x = self.conv_block_3(x)\n",
        "    # print(x.shape)\n",
        "    # x = self.classifier(x)\n",
        "    # return x\n",
        "\n",
        "    return self.classifier(self.conv_block_4(self.conv_block_3(self.conv_block_2(self.conv_block_1(x)))))\n"
      ]
    },
    {
      "cell_type": "code",
      "execution_count": null,
      "metadata": {
        "id": "UXCSoB9KPyLb"
      },
      "outputs": [],
      "source": [
        "model_9 = TinyVGG(input_shape = 3,\n",
        "                  hidden_units = 100,\n",
        "                  output_shape = 1).to(device)"
      ]
    },
    {
      "cell_type": "markdown",
      "metadata": {
        "id": "LLSju2YSPyLc"
      },
      "source": [
        "### loss function and optimizer"
      ]
    },
    {
      "cell_type": "code",
      "execution_count": null,
      "metadata": {
        "id": "kPhVD43DPyLc"
      },
      "outputs": [],
      "source": [
        "loss_fn = nn.BCEWithLogitsLoss()\n",
        "\n",
        "optimizer = torch.optim.Adam(params = model_9.parameters(),\n",
        "                             lr = 0.001)"
      ]
    },
    {
      "cell_type": "code",
      "execution_count": null,
      "metadata": {
        "colab": {
          "base_uri": "https://localhost:8080/",
          "height": 743,
          "referenced_widgets": [
            "0f6e2df9d611488eac0bb4b2e7ccd711",
            "f541798f8137430390fc21083ebb2544",
            "23bc4f444cf9442088d9b42cd9c04c59",
            "50a112e0cf734d339a52926c0293dc69",
            "bc71db75f66343629c021f6ab8d648da",
            "69403e58e72e40c787413f5680a49bb7",
            "182e9d04088b4b9c9992c945d6643038",
            "0c4f9b77335d46e0aa5ee97dbb47b0b2",
            "9dd7870064704460bdd2548c45968fab",
            "fb53cd84d6d54b6796e2d05b6356428b",
            "bca506b7ce4e4e65a02e18f6125e3cf8"
          ]
        },
        "outputId": "18909668-0917-432a-abd3-f1935dd79e31",
        "id": "SID9squwPyLc"
      },
      "outputs": [
        {
          "output_type": "display_data",
          "data": {
            "text/plain": [
              "  0%|          | 0/10 [00:00<?, ?it/s]"
            ],
            "application/vnd.jupyter.widget-view+json": {
              "version_major": 2,
              "version_minor": 0,
              "model_id": "0f6e2df9d611488eac0bb4b2e7ccd711"
            }
          },
          "metadata": {}
        },
        {
          "output_type": "stream",
          "name": "stdout",
          "text": [
            "\n",
            "Epoch: 1\n",
            "----------------\n",
            "train loss: 0.75441, train acc: 62.530% | test loss: 0.59570, test_acc: 70.681%\n",
            "\n",
            "Epoch: 2\n",
            "----------------\n",
            "train loss: 0.54549, train acc: 72.575% | test loss: 0.52228, test_acc: 72.890%\n",
            "\n",
            "Epoch: 3\n",
            "----------------\n",
            "train loss: 0.49085, train acc: 76.530% | test loss: 0.50451, test_acc: 76.035%\n",
            "\n",
            "Epoch: 4\n",
            "----------------\n",
            "train loss: 0.42876, train acc: 80.110% | test loss: 0.43829, test_acc: 79.100%\n",
            "\n",
            "Epoch: 5\n",
            "----------------\n",
            "train loss: 0.34669, train acc: 84.485% | test loss: 0.32227, test_acc: 86.266%\n",
            "\n",
            "Epoch: 6\n",
            "----------------\n",
            "train loss: 0.26180, train acc: 89.215% | test loss: 0.27339, test_acc: 88.316%\n",
            "\n",
            "Epoch: 7\n",
            "----------------\n",
            "train loss: 0.20005, train acc: 91.695% | test loss: 0.20666, test_acc: 91.640%\n",
            "\n",
            "Epoch: 8\n",
            "----------------\n",
            "train loss: 0.16094, train acc: 93.580% | test loss: 0.19911, test_acc: 92.138%\n",
            "\n",
            "Epoch: 9\n",
            "----------------\n",
            "train loss: 0.12895, train acc: 94.815% | test loss: 0.22791, test_acc: 92.078%\n",
            "\n",
            "Epoch: 10\n",
            "----------------\n",
            "train loss: 0.11149, train acc: 95.725% | test loss: 0.16324, test_acc: 93.133%\n"
          ]
        }
      ],
      "source": [
        "# hyper parameters\n",
        "EPOCHS = 10\n",
        "\n",
        "model_9_results = binary_engine.Binary_engine(model = model_9,\n",
        "                                train_dataloader = train_dataloader_without,\n",
        "                                test_dataloader = test_dataloader_without,\n",
        "                                loss_fn = loss_fn,\n",
        "                                optimizer = optimizer,\n",
        "                                device = device,\n",
        "                                epochs = EPOCHS)"
      ]
    },
    {
      "cell_type": "markdown",
      "metadata": {
        "id": "x6xed3YlgEBJ"
      },
      "source": [
        "## model class creation with only BatchNorm2d() and conv_block_4 (`with dropouts`) & `128` neurons for `model_10`\n",
        "* with (`epoch 10`) = `85`\n",
        "\n",
        "* max came with (`transform_without_trivial`, `10 epoch`)  - `90.287%`"
      ]
    },
    {
      "cell_type": "code",
      "execution_count": null,
      "metadata": {
        "id": "Ph_Qus9CgEBf"
      },
      "outputs": [],
      "source": [
        "class TinyVGG(nn.Module):\n",
        "  def __init__(self,\n",
        "               input_shape:int,\n",
        "               hidden_units:int,\n",
        "               output_shape:int):\n",
        "    super().__init__()\n",
        "    self.conv_block_1 = nn.Sequential(\n",
        "        nn.Conv2d(in_channels = input_shape,\n",
        "                  out_channels = hidden_units,\n",
        "                  padding = 1,\n",
        "                  kernel_size = 3,\n",
        "                  stride = 1),\n",
        "        nn.ReLU(),\n",
        "        nn.BatchNorm2d(num_features = hidden_units),\n",
        "        nn.Conv2d(in_channels = hidden_units,\n",
        "                  out_channels = hidden_units,\n",
        "                  padding = 1,\n",
        "                  kernel_size = 3,\n",
        "                  stride = 1),\n",
        "        nn.ReLU(),\n",
        "        nn.BatchNorm2d(num_features = hidden_units),\n",
        "        nn.MaxPool2d(kernel_size = 2),\n",
        "    )\n",
        "    self.conv_block_2 = nn.Sequential(\n",
        "        nn.Conv2d(in_channels = hidden_units,\n",
        "                  out_channels = hidden_units,\n",
        "                  padding = 1,\n",
        "                  kernel_size = 3,\n",
        "                  stride = 1),\n",
        "        nn.ReLU(),\n",
        "        nn.BatchNorm2d(num_features = hidden_units),\n",
        "        nn.Conv2d(in_channels = hidden_units,\n",
        "                  out_channels = hidden_units,\n",
        "                  padding = 1,\n",
        "                  kernel_size = 3,\n",
        "                  stride = 1),\n",
        "        nn.ReLU(),\n",
        "        nn.BatchNorm2d(num_features = hidden_units),\n",
        "        nn.MaxPool2d(kernel_size = 2),\n",
        "    )\n",
        "    self.conv_block_3 = nn.Sequential(\n",
        "        nn.Conv2d(in_channels = hidden_units,\n",
        "                  out_channels = hidden_units,\n",
        "                  padding = 1,\n",
        "                  kernel_size = 3,\n",
        "                  stride = 1),\n",
        "        nn.ReLU(),\n",
        "        nn.BatchNorm2d(num_features = hidden_units),\n",
        "        nn.Conv2d(in_channels = hidden_units,\n",
        "                  out_channels = hidden_units,\n",
        "                  padding = 1,\n",
        "                  kernel_size = 3,\n",
        "                  stride = 1),\n",
        "        nn.ReLU(),\n",
        "        nn.BatchNorm2d(num_features = hidden_units),\n",
        "        nn.MaxPool2d(kernel_size = 2),\n",
        "    )\n",
        "    self.conv_block_4 = nn.Sequential(\n",
        "        nn.Conv2d(in_channels = hidden_units,\n",
        "                  out_channels = hidden_units,\n",
        "                  padding = 1,\n",
        "                  kernel_size = 3,\n",
        "                  stride = 1),\n",
        "        nn.ReLU(),\n",
        "        nn.BatchNorm2d(num_features = hidden_units),\n",
        "        nn.Conv2d(in_channels = hidden_units,\n",
        "                  out_channels = hidden_units,\n",
        "                  padding = 1,\n",
        "                  kernel_size = 3,\n",
        "                  stride = 1),\n",
        "        nn.ReLU(),\n",
        "        nn.BatchNorm2d(num_features = hidden_units),\n",
        "        nn.MaxPool2d(kernel_size = 2),\n",
        "    )\n",
        "    self.classifier = nn.Sequential(\n",
        "        nn.Flatten(),\n",
        "        nn.Linear(in_features = hidden_units*14*14,\n",
        "                  out_features = 128),\n",
        "        nn.Dropout(0.1),\n",
        "        nn.Linear(in_features = 128,\n",
        "                  out_features = 64),\n",
        "        nn.Dropout(0.1),\n",
        "        nn.Linear(in_features = 64,\n",
        "                  out_features = output_shape)\n",
        "    )\n",
        "\n",
        "  def forward(self, x):\n",
        "    # x = self.conv_block_1(x)\n",
        "    # print(x.shape)\n",
        "    # x = self.conv_block_2(x)\n",
        "    # print(x.shape)\n",
        "    # x = self.conv_block_3(x)\n",
        "    # print(x.shape)\n",
        "    # x = self.classifier(x)\n",
        "    # return x\n",
        "\n",
        "    return self.classifier(self.conv_block_4(self.conv_block_3(self.conv_block_2(self.conv_block_1(x)))))\n"
      ]
    },
    {
      "cell_type": "code",
      "execution_count": null,
      "metadata": {
        "id": "JmBtbexogEBg"
      },
      "outputs": [],
      "source": [
        "model_10 = TinyVGG(input_shape = 3,\n",
        "                  hidden_units = 128,\n",
        "                  output_shape = 1).to(device)"
      ]
    },
    {
      "cell_type": "markdown",
      "metadata": {
        "id": "BnOyVVLrgEBg"
      },
      "source": [
        "### loss function and optimizer"
      ]
    },
    {
      "cell_type": "code",
      "execution_count": null,
      "metadata": {
        "id": "Ac1otPAVgEBh"
      },
      "outputs": [],
      "source": [
        "loss_fn = nn.BCEWithLogitsLoss()\n",
        "\n",
        "optimizer = torch.optim.Adam(params = model_10.parameters(),\n",
        "                             lr = 0.001)"
      ]
    },
    {
      "cell_type": "code",
      "execution_count": null,
      "metadata": {
        "colab": {
          "base_uri": "https://localhost:8080/",
          "height": 743,
          "referenced_widgets": [
            "4e8c4fa50ad942609bda9663d43f7993",
            "f95eacf1cd21415b8cfc2fb7b2357a86",
            "25da6d0c702347298c7adeaac0b7dc3e",
            "d2fab57740ae461097fac5dbb1f1fd3c",
            "8a176312269c47c28052960a84cc4b1c",
            "10c03a01b6ea4eb1a7dd5ed323c368b0",
            "c3afdbd6828643aa9952e35f2d88b91b",
            "ee97e88713f140069fc5fe9aa4dfb842",
            "9de3dc5ef3d84b4c9a83ef52f2f17a22",
            "aa52346b37314c98bb8119ad37fadc24",
            "c321856ceb3543e6ac0d7c6dc90a66c1"
          ]
        },
        "outputId": "72f98595-9e54-4b1a-c4b5-08ccb54eaaa9",
        "id": "T4bQo7vZgEBh"
      },
      "outputs": [
        {
          "output_type": "display_data",
          "data": {
            "text/plain": [
              "  0%|          | 0/10 [00:00<?, ?it/s]"
            ],
            "application/vnd.jupyter.widget-view+json": {
              "version_major": 2,
              "version_minor": 0,
              "model_id": "4e8c4fa50ad942609bda9663d43f7993"
            }
          },
          "metadata": {}
        },
        {
          "output_type": "stream",
          "name": "stdout",
          "text": [
            "\n",
            "Epoch: 1\n",
            "----------------\n",
            "train loss: 0.81653, train acc: 58.355% | test loss: 0.65064, test_acc: 63.973%\n",
            "\n",
            "Epoch: 2\n",
            "----------------\n",
            "train loss: 0.55215, train acc: 71.475% | test loss: 0.51898, test_acc: 74.363%\n",
            "\n",
            "Epoch: 3\n",
            "----------------\n",
            "train loss: 0.49659, train acc: 75.575% | test loss: 0.47660, test_acc: 76.334%\n",
            "\n",
            "Epoch: 4\n",
            "----------------\n",
            "train loss: 0.42589, train acc: 80.225% | test loss: 0.45927, test_acc: 77.846%\n",
            "\n",
            "Epoch: 5\n",
            "----------------\n",
            "train loss: 0.33913, train acc: 85.205% | test loss: 0.30119, test_acc: 87.321%\n",
            "\n",
            "Epoch: 6\n",
            "----------------\n",
            "train loss: 0.24556, train acc: 89.750% | test loss: 0.27897, test_acc: 88.973%\n",
            "\n",
            "Epoch: 7\n",
            "----------------\n",
            "train loss: 0.19017, train acc: 92.135% | test loss: 0.20360, test_acc: 92.197%\n",
            "\n",
            "Epoch: 8\n",
            "----------------\n",
            "train loss: 0.15609, train acc: 93.645% | test loss: 0.20420, test_acc: 91.620%\n",
            "\n",
            "Epoch: 9\n",
            "----------------\n",
            "train loss: 0.12641, train acc: 94.995% | test loss: 0.20261, test_acc: 93.252%\n",
            "\n",
            "Epoch: 10\n",
            "----------------\n",
            "train loss: 0.10751, train acc: 95.870% | test loss: 0.28721, test_acc: 90.287%\n"
          ]
        }
      ],
      "source": [
        "# hyper parameters\n",
        "EPOCHS = 10\n",
        "\n",
        "model_10_results = binary_engine.Binary_engine(model = model_10,\n",
        "                                train_dataloader = train_dataloader_without,\n",
        "                                test_dataloader = test_dataloader_without,\n",
        "                                loss_fn = loss_fn,\n",
        "                                optimizer = optimizer,\n",
        "                                device = device,\n",
        "                                epochs = EPOCHS)"
      ]
    }
  ],
  "metadata": {
    "accelerator": "GPU",
    "colab": {
      "collapsed_sections": [
        "YPhk73rflYeT",
        "Oq7G7UWgBn2D",
        "l4PURWN-liZM",
        "2MqfA-72l3zQ",
        "4bGqZmyaddCu",
        "DRnykvVEFIn_",
        "OG2y5Osj51nA",
        "8M-7Q_vM6GLk",
        "BRbwcq5x5aOt",
        "UarM6kjRV1wf",
        "ejKR3jkvA8rE",
        "dwMppG_x74k3",
        "Ivw5n4B7PyLL",
        "x6xed3YlgEBJ"
      ],
      "provenance": [],
      "authorship_tag": "ABX9TyN+xjOgPnXsPSB2gUiJ1+Pd",
      "include_colab_link": true
    },
    "kernelspec": {
      "display_name": "Python 3",
      "name": "python3"
    },
    "language_info": {
      "name": "python"
    },
    "widgets": {
      "application/vnd.jupyter.widget-state+json": {
        "50008fa45e1048e3930395753642656b": {
          "model_module": "@jupyter-widgets/controls",
          "model_name": "HBoxModel",
          "model_module_version": "1.5.0",
          "state": {
            "_dom_classes": [],
            "_model_module": "@jupyter-widgets/controls",
            "_model_module_version": "1.5.0",
            "_model_name": "HBoxModel",
            "_view_count": null,
            "_view_module": "@jupyter-widgets/controls",
            "_view_module_version": "1.5.0",
            "_view_name": "HBoxView",
            "box_style": "",
            "children": [
              "IPY_MODEL_8a35b324fed44c11940089dea068e9bf",
              "IPY_MODEL_57a8030836fc4cc3b607e632e1884840",
              "IPY_MODEL_1f0aa13c22d8408a9c05b863d5a7310a"
            ],
            "layout": "IPY_MODEL_7f839b7bd26e44ce9f7e708d614818d1"
          }
        },
        "8a35b324fed44c11940089dea068e9bf": {
          "model_module": "@jupyter-widgets/controls",
          "model_name": "HTMLModel",
          "model_module_version": "1.5.0",
          "state": {
            "_dom_classes": [],
            "_model_module": "@jupyter-widgets/controls",
            "_model_module_version": "1.5.0",
            "_model_name": "HTMLModel",
            "_view_count": null,
            "_view_module": "@jupyter-widgets/controls",
            "_view_module_version": "1.5.0",
            "_view_name": "HTMLView",
            "description": "",
            "description_tooltip": null,
            "layout": "IPY_MODEL_50b9daf7ee89462eb818d30ca405061a",
            "placeholder": "​",
            "style": "IPY_MODEL_7376628283b74f86b72228dcf3b22fe9",
            "value": "100%"
          }
        },
        "57a8030836fc4cc3b607e632e1884840": {
          "model_module": "@jupyter-widgets/controls",
          "model_name": "FloatProgressModel",
          "model_module_version": "1.5.0",
          "state": {
            "_dom_classes": [],
            "_model_module": "@jupyter-widgets/controls",
            "_model_module_version": "1.5.0",
            "_model_name": "FloatProgressModel",
            "_view_count": null,
            "_view_module": "@jupyter-widgets/controls",
            "_view_module_version": "1.5.0",
            "_view_name": "ProgressView",
            "bar_style": "success",
            "description": "",
            "description_tooltip": null,
            "layout": "IPY_MODEL_54984e89e0c94784aa61e1f90bf93489",
            "max": 5,
            "min": 0,
            "orientation": "horizontal",
            "style": "IPY_MODEL_01682e276216409e93336a8e0507c66e",
            "value": 5
          }
        },
        "1f0aa13c22d8408a9c05b863d5a7310a": {
          "model_module": "@jupyter-widgets/controls",
          "model_name": "HTMLModel",
          "model_module_version": "1.5.0",
          "state": {
            "_dom_classes": [],
            "_model_module": "@jupyter-widgets/controls",
            "_model_module_version": "1.5.0",
            "_model_name": "HTMLModel",
            "_view_count": null,
            "_view_module": "@jupyter-widgets/controls",
            "_view_module_version": "1.5.0",
            "_view_name": "HTMLView",
            "description": "",
            "description_tooltip": null,
            "layout": "IPY_MODEL_4da2e9505fd040de9bbda4073bf0e83f",
            "placeholder": "​",
            "style": "IPY_MODEL_faa02dd031de44dca608ba05a46b8846",
            "value": " 5/5 [09:35&lt;00:00, 114.50s/it]"
          }
        },
        "7f839b7bd26e44ce9f7e708d614818d1": {
          "model_module": "@jupyter-widgets/base",
          "model_name": "LayoutModel",
          "model_module_version": "1.2.0",
          "state": {
            "_model_module": "@jupyter-widgets/base",
            "_model_module_version": "1.2.0",
            "_model_name": "LayoutModel",
            "_view_count": null,
            "_view_module": "@jupyter-widgets/base",
            "_view_module_version": "1.2.0",
            "_view_name": "LayoutView",
            "align_content": null,
            "align_items": null,
            "align_self": null,
            "border": null,
            "bottom": null,
            "display": null,
            "flex": null,
            "flex_flow": null,
            "grid_area": null,
            "grid_auto_columns": null,
            "grid_auto_flow": null,
            "grid_auto_rows": null,
            "grid_column": null,
            "grid_gap": null,
            "grid_row": null,
            "grid_template_areas": null,
            "grid_template_columns": null,
            "grid_template_rows": null,
            "height": null,
            "justify_content": null,
            "justify_items": null,
            "left": null,
            "margin": null,
            "max_height": null,
            "max_width": null,
            "min_height": null,
            "min_width": null,
            "object_fit": null,
            "object_position": null,
            "order": null,
            "overflow": null,
            "overflow_x": null,
            "overflow_y": null,
            "padding": null,
            "right": null,
            "top": null,
            "visibility": null,
            "width": null
          }
        },
        "50b9daf7ee89462eb818d30ca405061a": {
          "model_module": "@jupyter-widgets/base",
          "model_name": "LayoutModel",
          "model_module_version": "1.2.0",
          "state": {
            "_model_module": "@jupyter-widgets/base",
            "_model_module_version": "1.2.0",
            "_model_name": "LayoutModel",
            "_view_count": null,
            "_view_module": "@jupyter-widgets/base",
            "_view_module_version": "1.2.0",
            "_view_name": "LayoutView",
            "align_content": null,
            "align_items": null,
            "align_self": null,
            "border": null,
            "bottom": null,
            "display": null,
            "flex": null,
            "flex_flow": null,
            "grid_area": null,
            "grid_auto_columns": null,
            "grid_auto_flow": null,
            "grid_auto_rows": null,
            "grid_column": null,
            "grid_gap": null,
            "grid_row": null,
            "grid_template_areas": null,
            "grid_template_columns": null,
            "grid_template_rows": null,
            "height": null,
            "justify_content": null,
            "justify_items": null,
            "left": null,
            "margin": null,
            "max_height": null,
            "max_width": null,
            "min_height": null,
            "min_width": null,
            "object_fit": null,
            "object_position": null,
            "order": null,
            "overflow": null,
            "overflow_x": null,
            "overflow_y": null,
            "padding": null,
            "right": null,
            "top": null,
            "visibility": null,
            "width": null
          }
        },
        "7376628283b74f86b72228dcf3b22fe9": {
          "model_module": "@jupyter-widgets/controls",
          "model_name": "DescriptionStyleModel",
          "model_module_version": "1.5.0",
          "state": {
            "_model_module": "@jupyter-widgets/controls",
            "_model_module_version": "1.5.0",
            "_model_name": "DescriptionStyleModel",
            "_view_count": null,
            "_view_module": "@jupyter-widgets/base",
            "_view_module_version": "1.2.0",
            "_view_name": "StyleView",
            "description_width": ""
          }
        },
        "54984e89e0c94784aa61e1f90bf93489": {
          "model_module": "@jupyter-widgets/base",
          "model_name": "LayoutModel",
          "model_module_version": "1.2.0",
          "state": {
            "_model_module": "@jupyter-widgets/base",
            "_model_module_version": "1.2.0",
            "_model_name": "LayoutModel",
            "_view_count": null,
            "_view_module": "@jupyter-widgets/base",
            "_view_module_version": "1.2.0",
            "_view_name": "LayoutView",
            "align_content": null,
            "align_items": null,
            "align_self": null,
            "border": null,
            "bottom": null,
            "display": null,
            "flex": null,
            "flex_flow": null,
            "grid_area": null,
            "grid_auto_columns": null,
            "grid_auto_flow": null,
            "grid_auto_rows": null,
            "grid_column": null,
            "grid_gap": null,
            "grid_row": null,
            "grid_template_areas": null,
            "grid_template_columns": null,
            "grid_template_rows": null,
            "height": null,
            "justify_content": null,
            "justify_items": null,
            "left": null,
            "margin": null,
            "max_height": null,
            "max_width": null,
            "min_height": null,
            "min_width": null,
            "object_fit": null,
            "object_position": null,
            "order": null,
            "overflow": null,
            "overflow_x": null,
            "overflow_y": null,
            "padding": null,
            "right": null,
            "top": null,
            "visibility": null,
            "width": null
          }
        },
        "01682e276216409e93336a8e0507c66e": {
          "model_module": "@jupyter-widgets/controls",
          "model_name": "ProgressStyleModel",
          "model_module_version": "1.5.0",
          "state": {
            "_model_module": "@jupyter-widgets/controls",
            "_model_module_version": "1.5.0",
            "_model_name": "ProgressStyleModel",
            "_view_count": null,
            "_view_module": "@jupyter-widgets/base",
            "_view_module_version": "1.2.0",
            "_view_name": "StyleView",
            "bar_color": null,
            "description_width": ""
          }
        },
        "4da2e9505fd040de9bbda4073bf0e83f": {
          "model_module": "@jupyter-widgets/base",
          "model_name": "LayoutModel",
          "model_module_version": "1.2.0",
          "state": {
            "_model_module": "@jupyter-widgets/base",
            "_model_module_version": "1.2.0",
            "_model_name": "LayoutModel",
            "_view_count": null,
            "_view_module": "@jupyter-widgets/base",
            "_view_module_version": "1.2.0",
            "_view_name": "LayoutView",
            "align_content": null,
            "align_items": null,
            "align_self": null,
            "border": null,
            "bottom": null,
            "display": null,
            "flex": null,
            "flex_flow": null,
            "grid_area": null,
            "grid_auto_columns": null,
            "grid_auto_flow": null,
            "grid_auto_rows": null,
            "grid_column": null,
            "grid_gap": null,
            "grid_row": null,
            "grid_template_areas": null,
            "grid_template_columns": null,
            "grid_template_rows": null,
            "height": null,
            "justify_content": null,
            "justify_items": null,
            "left": null,
            "margin": null,
            "max_height": null,
            "max_width": null,
            "min_height": null,
            "min_width": null,
            "object_fit": null,
            "object_position": null,
            "order": null,
            "overflow": null,
            "overflow_x": null,
            "overflow_y": null,
            "padding": null,
            "right": null,
            "top": null,
            "visibility": null,
            "width": null
          }
        },
        "faa02dd031de44dca608ba05a46b8846": {
          "model_module": "@jupyter-widgets/controls",
          "model_name": "DescriptionStyleModel",
          "model_module_version": "1.5.0",
          "state": {
            "_model_module": "@jupyter-widgets/controls",
            "_model_module_version": "1.5.0",
            "_model_name": "DescriptionStyleModel",
            "_view_count": null,
            "_view_module": "@jupyter-widgets/base",
            "_view_module_version": "1.2.0",
            "_view_name": "StyleView",
            "description_width": ""
          }
        },
        "acfd380632f44f86881f836345f3b632": {
          "model_module": "@jupyter-widgets/controls",
          "model_name": "HBoxModel",
          "model_module_version": "1.5.0",
          "state": {
            "_dom_classes": [],
            "_model_module": "@jupyter-widgets/controls",
            "_model_module_version": "1.5.0",
            "_model_name": "HBoxModel",
            "_view_count": null,
            "_view_module": "@jupyter-widgets/controls",
            "_view_module_version": "1.5.0",
            "_view_name": "HBoxView",
            "box_style": "",
            "children": [
              "IPY_MODEL_5822bb0bdb454cefac2cbcd1e440832a",
              "IPY_MODEL_0eb12a4abe0f46ad9641c4166480e467",
              "IPY_MODEL_2e9c467d0d9b4ed7837dbd6db1a51105"
            ],
            "layout": "IPY_MODEL_e507c1dbf2a44dbcb806905dfe2a1d2f"
          }
        },
        "5822bb0bdb454cefac2cbcd1e440832a": {
          "model_module": "@jupyter-widgets/controls",
          "model_name": "HTMLModel",
          "model_module_version": "1.5.0",
          "state": {
            "_dom_classes": [],
            "_model_module": "@jupyter-widgets/controls",
            "_model_module_version": "1.5.0",
            "_model_name": "HTMLModel",
            "_view_count": null,
            "_view_module": "@jupyter-widgets/controls",
            "_view_module_version": "1.5.0",
            "_view_name": "HTMLView",
            "description": "",
            "description_tooltip": null,
            "layout": "IPY_MODEL_97a72aec51bb490bac002c8947574ac4",
            "placeholder": "​",
            "style": "IPY_MODEL_9681ddb31b3e423ab7d49faef3ae2bda",
            "value": "100%"
          }
        },
        "0eb12a4abe0f46ad9641c4166480e467": {
          "model_module": "@jupyter-widgets/controls",
          "model_name": "FloatProgressModel",
          "model_module_version": "1.5.0",
          "state": {
            "_dom_classes": [],
            "_model_module": "@jupyter-widgets/controls",
            "_model_module_version": "1.5.0",
            "_model_name": "FloatProgressModel",
            "_view_count": null,
            "_view_module": "@jupyter-widgets/controls",
            "_view_module_version": "1.5.0",
            "_view_name": "ProgressView",
            "bar_style": "success",
            "description": "",
            "description_tooltip": null,
            "layout": "IPY_MODEL_46eadfe7eaf64f2f84334fd4f3e12fbd",
            "max": 5,
            "min": 0,
            "orientation": "horizontal",
            "style": "IPY_MODEL_d712255d95ef419e82bc681309fd4d18",
            "value": 5
          }
        },
        "2e9c467d0d9b4ed7837dbd6db1a51105": {
          "model_module": "@jupyter-widgets/controls",
          "model_name": "HTMLModel",
          "model_module_version": "1.5.0",
          "state": {
            "_dom_classes": [],
            "_model_module": "@jupyter-widgets/controls",
            "_model_module_version": "1.5.0",
            "_model_name": "HTMLModel",
            "_view_count": null,
            "_view_module": "@jupyter-widgets/controls",
            "_view_module_version": "1.5.0",
            "_view_name": "HTMLView",
            "description": "",
            "description_tooltip": null,
            "layout": "IPY_MODEL_b56564f95fea4799a6c233aee0ab491a",
            "placeholder": "​",
            "style": "IPY_MODEL_841fa2ca2d73441aaa0ce66cdc4f170e",
            "value": " 5/5 [09:51&lt;00:00, 118.12s/it]"
          }
        },
        "e507c1dbf2a44dbcb806905dfe2a1d2f": {
          "model_module": "@jupyter-widgets/base",
          "model_name": "LayoutModel",
          "model_module_version": "1.2.0",
          "state": {
            "_model_module": "@jupyter-widgets/base",
            "_model_module_version": "1.2.0",
            "_model_name": "LayoutModel",
            "_view_count": null,
            "_view_module": "@jupyter-widgets/base",
            "_view_module_version": "1.2.0",
            "_view_name": "LayoutView",
            "align_content": null,
            "align_items": null,
            "align_self": null,
            "border": null,
            "bottom": null,
            "display": null,
            "flex": null,
            "flex_flow": null,
            "grid_area": null,
            "grid_auto_columns": null,
            "grid_auto_flow": null,
            "grid_auto_rows": null,
            "grid_column": null,
            "grid_gap": null,
            "grid_row": null,
            "grid_template_areas": null,
            "grid_template_columns": null,
            "grid_template_rows": null,
            "height": null,
            "justify_content": null,
            "justify_items": null,
            "left": null,
            "margin": null,
            "max_height": null,
            "max_width": null,
            "min_height": null,
            "min_width": null,
            "object_fit": null,
            "object_position": null,
            "order": null,
            "overflow": null,
            "overflow_x": null,
            "overflow_y": null,
            "padding": null,
            "right": null,
            "top": null,
            "visibility": null,
            "width": null
          }
        },
        "97a72aec51bb490bac002c8947574ac4": {
          "model_module": "@jupyter-widgets/base",
          "model_name": "LayoutModel",
          "model_module_version": "1.2.0",
          "state": {
            "_model_module": "@jupyter-widgets/base",
            "_model_module_version": "1.2.0",
            "_model_name": "LayoutModel",
            "_view_count": null,
            "_view_module": "@jupyter-widgets/base",
            "_view_module_version": "1.2.0",
            "_view_name": "LayoutView",
            "align_content": null,
            "align_items": null,
            "align_self": null,
            "border": null,
            "bottom": null,
            "display": null,
            "flex": null,
            "flex_flow": null,
            "grid_area": null,
            "grid_auto_columns": null,
            "grid_auto_flow": null,
            "grid_auto_rows": null,
            "grid_column": null,
            "grid_gap": null,
            "grid_row": null,
            "grid_template_areas": null,
            "grid_template_columns": null,
            "grid_template_rows": null,
            "height": null,
            "justify_content": null,
            "justify_items": null,
            "left": null,
            "margin": null,
            "max_height": null,
            "max_width": null,
            "min_height": null,
            "min_width": null,
            "object_fit": null,
            "object_position": null,
            "order": null,
            "overflow": null,
            "overflow_x": null,
            "overflow_y": null,
            "padding": null,
            "right": null,
            "top": null,
            "visibility": null,
            "width": null
          }
        },
        "9681ddb31b3e423ab7d49faef3ae2bda": {
          "model_module": "@jupyter-widgets/controls",
          "model_name": "DescriptionStyleModel",
          "model_module_version": "1.5.0",
          "state": {
            "_model_module": "@jupyter-widgets/controls",
            "_model_module_version": "1.5.0",
            "_model_name": "DescriptionStyleModel",
            "_view_count": null,
            "_view_module": "@jupyter-widgets/base",
            "_view_module_version": "1.2.0",
            "_view_name": "StyleView",
            "description_width": ""
          }
        },
        "46eadfe7eaf64f2f84334fd4f3e12fbd": {
          "model_module": "@jupyter-widgets/base",
          "model_name": "LayoutModel",
          "model_module_version": "1.2.0",
          "state": {
            "_model_module": "@jupyter-widgets/base",
            "_model_module_version": "1.2.0",
            "_model_name": "LayoutModel",
            "_view_count": null,
            "_view_module": "@jupyter-widgets/base",
            "_view_module_version": "1.2.0",
            "_view_name": "LayoutView",
            "align_content": null,
            "align_items": null,
            "align_self": null,
            "border": null,
            "bottom": null,
            "display": null,
            "flex": null,
            "flex_flow": null,
            "grid_area": null,
            "grid_auto_columns": null,
            "grid_auto_flow": null,
            "grid_auto_rows": null,
            "grid_column": null,
            "grid_gap": null,
            "grid_row": null,
            "grid_template_areas": null,
            "grid_template_columns": null,
            "grid_template_rows": null,
            "height": null,
            "justify_content": null,
            "justify_items": null,
            "left": null,
            "margin": null,
            "max_height": null,
            "max_width": null,
            "min_height": null,
            "min_width": null,
            "object_fit": null,
            "object_position": null,
            "order": null,
            "overflow": null,
            "overflow_x": null,
            "overflow_y": null,
            "padding": null,
            "right": null,
            "top": null,
            "visibility": null,
            "width": null
          }
        },
        "d712255d95ef419e82bc681309fd4d18": {
          "model_module": "@jupyter-widgets/controls",
          "model_name": "ProgressStyleModel",
          "model_module_version": "1.5.0",
          "state": {
            "_model_module": "@jupyter-widgets/controls",
            "_model_module_version": "1.5.0",
            "_model_name": "ProgressStyleModel",
            "_view_count": null,
            "_view_module": "@jupyter-widgets/base",
            "_view_module_version": "1.2.0",
            "_view_name": "StyleView",
            "bar_color": null,
            "description_width": ""
          }
        },
        "b56564f95fea4799a6c233aee0ab491a": {
          "model_module": "@jupyter-widgets/base",
          "model_name": "LayoutModel",
          "model_module_version": "1.2.0",
          "state": {
            "_model_module": "@jupyter-widgets/base",
            "_model_module_version": "1.2.0",
            "_model_name": "LayoutModel",
            "_view_count": null,
            "_view_module": "@jupyter-widgets/base",
            "_view_module_version": "1.2.0",
            "_view_name": "LayoutView",
            "align_content": null,
            "align_items": null,
            "align_self": null,
            "border": null,
            "bottom": null,
            "display": null,
            "flex": null,
            "flex_flow": null,
            "grid_area": null,
            "grid_auto_columns": null,
            "grid_auto_flow": null,
            "grid_auto_rows": null,
            "grid_column": null,
            "grid_gap": null,
            "grid_row": null,
            "grid_template_areas": null,
            "grid_template_columns": null,
            "grid_template_rows": null,
            "height": null,
            "justify_content": null,
            "justify_items": null,
            "left": null,
            "margin": null,
            "max_height": null,
            "max_width": null,
            "min_height": null,
            "min_width": null,
            "object_fit": null,
            "object_position": null,
            "order": null,
            "overflow": null,
            "overflow_x": null,
            "overflow_y": null,
            "padding": null,
            "right": null,
            "top": null,
            "visibility": null,
            "width": null
          }
        },
        "841fa2ca2d73441aaa0ce66cdc4f170e": {
          "model_module": "@jupyter-widgets/controls",
          "model_name": "DescriptionStyleModel",
          "model_module_version": "1.5.0",
          "state": {
            "_model_module": "@jupyter-widgets/controls",
            "_model_module_version": "1.5.0",
            "_model_name": "DescriptionStyleModel",
            "_view_count": null,
            "_view_module": "@jupyter-widgets/base",
            "_view_module_version": "1.2.0",
            "_view_name": "StyleView",
            "description_width": ""
          }
        },
        "4ac273e825a642d4990629035256301a": {
          "model_module": "@jupyter-widgets/controls",
          "model_name": "HBoxModel",
          "model_module_version": "1.5.0",
          "state": {
            "_dom_classes": [],
            "_model_module": "@jupyter-widgets/controls",
            "_model_module_version": "1.5.0",
            "_model_name": "HBoxModel",
            "_view_count": null,
            "_view_module": "@jupyter-widgets/controls",
            "_view_module_version": "1.5.0",
            "_view_name": "HBoxView",
            "box_style": "",
            "children": [
              "IPY_MODEL_8c8c98b2ead44f61aa2d6428a8eb49f2",
              "IPY_MODEL_d7123203454b4e6d8892c0b6ee5ee42f",
              "IPY_MODEL_955ba5038919474b9ef2c8de3eb4b054"
            ],
            "layout": "IPY_MODEL_cbd59143de4948f2bce32a82af1be8f0"
          }
        },
        "8c8c98b2ead44f61aa2d6428a8eb49f2": {
          "model_module": "@jupyter-widgets/controls",
          "model_name": "HTMLModel",
          "model_module_version": "1.5.0",
          "state": {
            "_dom_classes": [],
            "_model_module": "@jupyter-widgets/controls",
            "_model_module_version": "1.5.0",
            "_model_name": "HTMLModel",
            "_view_count": null,
            "_view_module": "@jupyter-widgets/controls",
            "_view_module_version": "1.5.0",
            "_view_name": "HTMLView",
            "description": "",
            "description_tooltip": null,
            "layout": "IPY_MODEL_906f1334b192499bb41626895d51291c",
            "placeholder": "​",
            "style": "IPY_MODEL_653f8881148b4076b52bbde393d94241",
            "value": "100%"
          }
        },
        "d7123203454b4e6d8892c0b6ee5ee42f": {
          "model_module": "@jupyter-widgets/controls",
          "model_name": "FloatProgressModel",
          "model_module_version": "1.5.0",
          "state": {
            "_dom_classes": [],
            "_model_module": "@jupyter-widgets/controls",
            "_model_module_version": "1.5.0",
            "_model_name": "FloatProgressModel",
            "_view_count": null,
            "_view_module": "@jupyter-widgets/controls",
            "_view_module_version": "1.5.0",
            "_view_name": "ProgressView",
            "bar_style": "success",
            "description": "",
            "description_tooltip": null,
            "layout": "IPY_MODEL_d5a0fb3ec7d24637aecabd5af2fca520",
            "max": 10,
            "min": 0,
            "orientation": "horizontal",
            "style": "IPY_MODEL_404a4828059346dcb18ac4d8ab9a79f9",
            "value": 10
          }
        },
        "955ba5038919474b9ef2c8de3eb4b054": {
          "model_module": "@jupyter-widgets/controls",
          "model_name": "HTMLModel",
          "model_module_version": "1.5.0",
          "state": {
            "_dom_classes": [],
            "_model_module": "@jupyter-widgets/controls",
            "_model_module_version": "1.5.0",
            "_model_name": "HTMLModel",
            "_view_count": null,
            "_view_module": "@jupyter-widgets/controls",
            "_view_module_version": "1.5.0",
            "_view_name": "HTMLView",
            "description": "",
            "description_tooltip": null,
            "layout": "IPY_MODEL_b7983ce145574d49bc0e84b33a5e0a23",
            "placeholder": "​",
            "style": "IPY_MODEL_337dc47fea8e44d4b0183951e77a91e0",
            "value": " 10/10 [19:13&lt;00:00, 114.96s/it]"
          }
        },
        "cbd59143de4948f2bce32a82af1be8f0": {
          "model_module": "@jupyter-widgets/base",
          "model_name": "LayoutModel",
          "model_module_version": "1.2.0",
          "state": {
            "_model_module": "@jupyter-widgets/base",
            "_model_module_version": "1.2.0",
            "_model_name": "LayoutModel",
            "_view_count": null,
            "_view_module": "@jupyter-widgets/base",
            "_view_module_version": "1.2.0",
            "_view_name": "LayoutView",
            "align_content": null,
            "align_items": null,
            "align_self": null,
            "border": null,
            "bottom": null,
            "display": null,
            "flex": null,
            "flex_flow": null,
            "grid_area": null,
            "grid_auto_columns": null,
            "grid_auto_flow": null,
            "grid_auto_rows": null,
            "grid_column": null,
            "grid_gap": null,
            "grid_row": null,
            "grid_template_areas": null,
            "grid_template_columns": null,
            "grid_template_rows": null,
            "height": null,
            "justify_content": null,
            "justify_items": null,
            "left": null,
            "margin": null,
            "max_height": null,
            "max_width": null,
            "min_height": null,
            "min_width": null,
            "object_fit": null,
            "object_position": null,
            "order": null,
            "overflow": null,
            "overflow_x": null,
            "overflow_y": null,
            "padding": null,
            "right": null,
            "top": null,
            "visibility": null,
            "width": null
          }
        },
        "906f1334b192499bb41626895d51291c": {
          "model_module": "@jupyter-widgets/base",
          "model_name": "LayoutModel",
          "model_module_version": "1.2.0",
          "state": {
            "_model_module": "@jupyter-widgets/base",
            "_model_module_version": "1.2.0",
            "_model_name": "LayoutModel",
            "_view_count": null,
            "_view_module": "@jupyter-widgets/base",
            "_view_module_version": "1.2.0",
            "_view_name": "LayoutView",
            "align_content": null,
            "align_items": null,
            "align_self": null,
            "border": null,
            "bottom": null,
            "display": null,
            "flex": null,
            "flex_flow": null,
            "grid_area": null,
            "grid_auto_columns": null,
            "grid_auto_flow": null,
            "grid_auto_rows": null,
            "grid_column": null,
            "grid_gap": null,
            "grid_row": null,
            "grid_template_areas": null,
            "grid_template_columns": null,
            "grid_template_rows": null,
            "height": null,
            "justify_content": null,
            "justify_items": null,
            "left": null,
            "margin": null,
            "max_height": null,
            "max_width": null,
            "min_height": null,
            "min_width": null,
            "object_fit": null,
            "object_position": null,
            "order": null,
            "overflow": null,
            "overflow_x": null,
            "overflow_y": null,
            "padding": null,
            "right": null,
            "top": null,
            "visibility": null,
            "width": null
          }
        },
        "653f8881148b4076b52bbde393d94241": {
          "model_module": "@jupyter-widgets/controls",
          "model_name": "DescriptionStyleModel",
          "model_module_version": "1.5.0",
          "state": {
            "_model_module": "@jupyter-widgets/controls",
            "_model_module_version": "1.5.0",
            "_model_name": "DescriptionStyleModel",
            "_view_count": null,
            "_view_module": "@jupyter-widgets/base",
            "_view_module_version": "1.2.0",
            "_view_name": "StyleView",
            "description_width": ""
          }
        },
        "d5a0fb3ec7d24637aecabd5af2fca520": {
          "model_module": "@jupyter-widgets/base",
          "model_name": "LayoutModel",
          "model_module_version": "1.2.0",
          "state": {
            "_model_module": "@jupyter-widgets/base",
            "_model_module_version": "1.2.0",
            "_model_name": "LayoutModel",
            "_view_count": null,
            "_view_module": "@jupyter-widgets/base",
            "_view_module_version": "1.2.0",
            "_view_name": "LayoutView",
            "align_content": null,
            "align_items": null,
            "align_self": null,
            "border": null,
            "bottom": null,
            "display": null,
            "flex": null,
            "flex_flow": null,
            "grid_area": null,
            "grid_auto_columns": null,
            "grid_auto_flow": null,
            "grid_auto_rows": null,
            "grid_column": null,
            "grid_gap": null,
            "grid_row": null,
            "grid_template_areas": null,
            "grid_template_columns": null,
            "grid_template_rows": null,
            "height": null,
            "justify_content": null,
            "justify_items": null,
            "left": null,
            "margin": null,
            "max_height": null,
            "max_width": null,
            "min_height": null,
            "min_width": null,
            "object_fit": null,
            "object_position": null,
            "order": null,
            "overflow": null,
            "overflow_x": null,
            "overflow_y": null,
            "padding": null,
            "right": null,
            "top": null,
            "visibility": null,
            "width": null
          }
        },
        "404a4828059346dcb18ac4d8ab9a79f9": {
          "model_module": "@jupyter-widgets/controls",
          "model_name": "ProgressStyleModel",
          "model_module_version": "1.5.0",
          "state": {
            "_model_module": "@jupyter-widgets/controls",
            "_model_module_version": "1.5.0",
            "_model_name": "ProgressStyleModel",
            "_view_count": null,
            "_view_module": "@jupyter-widgets/base",
            "_view_module_version": "1.2.0",
            "_view_name": "StyleView",
            "bar_color": null,
            "description_width": ""
          }
        },
        "b7983ce145574d49bc0e84b33a5e0a23": {
          "model_module": "@jupyter-widgets/base",
          "model_name": "LayoutModel",
          "model_module_version": "1.2.0",
          "state": {
            "_model_module": "@jupyter-widgets/base",
            "_model_module_version": "1.2.0",
            "_model_name": "LayoutModel",
            "_view_count": null,
            "_view_module": "@jupyter-widgets/base",
            "_view_module_version": "1.2.0",
            "_view_name": "LayoutView",
            "align_content": null,
            "align_items": null,
            "align_self": null,
            "border": null,
            "bottom": null,
            "display": null,
            "flex": null,
            "flex_flow": null,
            "grid_area": null,
            "grid_auto_columns": null,
            "grid_auto_flow": null,
            "grid_auto_rows": null,
            "grid_column": null,
            "grid_gap": null,
            "grid_row": null,
            "grid_template_areas": null,
            "grid_template_columns": null,
            "grid_template_rows": null,
            "height": null,
            "justify_content": null,
            "justify_items": null,
            "left": null,
            "margin": null,
            "max_height": null,
            "max_width": null,
            "min_height": null,
            "min_width": null,
            "object_fit": null,
            "object_position": null,
            "order": null,
            "overflow": null,
            "overflow_x": null,
            "overflow_y": null,
            "padding": null,
            "right": null,
            "top": null,
            "visibility": null,
            "width": null
          }
        },
        "337dc47fea8e44d4b0183951e77a91e0": {
          "model_module": "@jupyter-widgets/controls",
          "model_name": "DescriptionStyleModel",
          "model_module_version": "1.5.0",
          "state": {
            "_model_module": "@jupyter-widgets/controls",
            "_model_module_version": "1.5.0",
            "_model_name": "DescriptionStyleModel",
            "_view_count": null,
            "_view_module": "@jupyter-widgets/base",
            "_view_module_version": "1.2.0",
            "_view_name": "StyleView",
            "description_width": ""
          }
        },
        "83fca5615083473caad2d5f8295485f5": {
          "model_module": "@jupyter-widgets/controls",
          "model_name": "HBoxModel",
          "model_module_version": "1.5.0",
          "state": {
            "_dom_classes": [],
            "_model_module": "@jupyter-widgets/controls",
            "_model_module_version": "1.5.0",
            "_model_name": "HBoxModel",
            "_view_count": null,
            "_view_module": "@jupyter-widgets/controls",
            "_view_module_version": "1.5.0",
            "_view_name": "HBoxView",
            "box_style": "",
            "children": [
              "IPY_MODEL_ba083a55a2e640e894d0b3d29196dafd",
              "IPY_MODEL_7c6f01af58f54b04b7dc85466e0a7002",
              "IPY_MODEL_254ccdcc65674e398e370eb635ef88f7"
            ],
            "layout": "IPY_MODEL_a8bfdbb7d0f74fc29cd4fbf8d35811ec"
          }
        },
        "ba083a55a2e640e894d0b3d29196dafd": {
          "model_module": "@jupyter-widgets/controls",
          "model_name": "HTMLModel",
          "model_module_version": "1.5.0",
          "state": {
            "_dom_classes": [],
            "_model_module": "@jupyter-widgets/controls",
            "_model_module_version": "1.5.0",
            "_model_name": "HTMLModel",
            "_view_count": null,
            "_view_module": "@jupyter-widgets/controls",
            "_view_module_version": "1.5.0",
            "_view_name": "HTMLView",
            "description": "",
            "description_tooltip": null,
            "layout": "IPY_MODEL_791784dcd93347e9a7c8749eee50b7ed",
            "placeholder": "​",
            "style": "IPY_MODEL_6825757f604b43a3815e3429f41a8289",
            "value": "100%"
          }
        },
        "7c6f01af58f54b04b7dc85466e0a7002": {
          "model_module": "@jupyter-widgets/controls",
          "model_name": "FloatProgressModel",
          "model_module_version": "1.5.0",
          "state": {
            "_dom_classes": [],
            "_model_module": "@jupyter-widgets/controls",
            "_model_module_version": "1.5.0",
            "_model_name": "FloatProgressModel",
            "_view_count": null,
            "_view_module": "@jupyter-widgets/controls",
            "_view_module_version": "1.5.0",
            "_view_name": "ProgressView",
            "bar_style": "success",
            "description": "",
            "description_tooltip": null,
            "layout": "IPY_MODEL_c546bb0facf841bbbbef7b2b7a5fe428",
            "max": 10,
            "min": 0,
            "orientation": "horizontal",
            "style": "IPY_MODEL_57d7191160b14ab19bb6561b7b4dd317",
            "value": 10
          }
        },
        "254ccdcc65674e398e370eb635ef88f7": {
          "model_module": "@jupyter-widgets/controls",
          "model_name": "HTMLModel",
          "model_module_version": "1.5.0",
          "state": {
            "_dom_classes": [],
            "_model_module": "@jupyter-widgets/controls",
            "_model_module_version": "1.5.0",
            "_model_name": "HTMLModel",
            "_view_count": null,
            "_view_module": "@jupyter-widgets/controls",
            "_view_module_version": "1.5.0",
            "_view_name": "HTMLView",
            "description": "",
            "description_tooltip": null,
            "layout": "IPY_MODEL_caa4ca02f80f49ba8c0ed28e78271503",
            "placeholder": "​",
            "style": "IPY_MODEL_411ce5d670e14d3aa51d9d4834324a00",
            "value": " 10/10 [18:57&lt;00:00, 113.77s/it]"
          }
        },
        "a8bfdbb7d0f74fc29cd4fbf8d35811ec": {
          "model_module": "@jupyter-widgets/base",
          "model_name": "LayoutModel",
          "model_module_version": "1.2.0",
          "state": {
            "_model_module": "@jupyter-widgets/base",
            "_model_module_version": "1.2.0",
            "_model_name": "LayoutModel",
            "_view_count": null,
            "_view_module": "@jupyter-widgets/base",
            "_view_module_version": "1.2.0",
            "_view_name": "LayoutView",
            "align_content": null,
            "align_items": null,
            "align_self": null,
            "border": null,
            "bottom": null,
            "display": null,
            "flex": null,
            "flex_flow": null,
            "grid_area": null,
            "grid_auto_columns": null,
            "grid_auto_flow": null,
            "grid_auto_rows": null,
            "grid_column": null,
            "grid_gap": null,
            "grid_row": null,
            "grid_template_areas": null,
            "grid_template_columns": null,
            "grid_template_rows": null,
            "height": null,
            "justify_content": null,
            "justify_items": null,
            "left": null,
            "margin": null,
            "max_height": null,
            "max_width": null,
            "min_height": null,
            "min_width": null,
            "object_fit": null,
            "object_position": null,
            "order": null,
            "overflow": null,
            "overflow_x": null,
            "overflow_y": null,
            "padding": null,
            "right": null,
            "top": null,
            "visibility": null,
            "width": null
          }
        },
        "791784dcd93347e9a7c8749eee50b7ed": {
          "model_module": "@jupyter-widgets/base",
          "model_name": "LayoutModel",
          "model_module_version": "1.2.0",
          "state": {
            "_model_module": "@jupyter-widgets/base",
            "_model_module_version": "1.2.0",
            "_model_name": "LayoutModel",
            "_view_count": null,
            "_view_module": "@jupyter-widgets/base",
            "_view_module_version": "1.2.0",
            "_view_name": "LayoutView",
            "align_content": null,
            "align_items": null,
            "align_self": null,
            "border": null,
            "bottom": null,
            "display": null,
            "flex": null,
            "flex_flow": null,
            "grid_area": null,
            "grid_auto_columns": null,
            "grid_auto_flow": null,
            "grid_auto_rows": null,
            "grid_column": null,
            "grid_gap": null,
            "grid_row": null,
            "grid_template_areas": null,
            "grid_template_columns": null,
            "grid_template_rows": null,
            "height": null,
            "justify_content": null,
            "justify_items": null,
            "left": null,
            "margin": null,
            "max_height": null,
            "max_width": null,
            "min_height": null,
            "min_width": null,
            "object_fit": null,
            "object_position": null,
            "order": null,
            "overflow": null,
            "overflow_x": null,
            "overflow_y": null,
            "padding": null,
            "right": null,
            "top": null,
            "visibility": null,
            "width": null
          }
        },
        "6825757f604b43a3815e3429f41a8289": {
          "model_module": "@jupyter-widgets/controls",
          "model_name": "DescriptionStyleModel",
          "model_module_version": "1.5.0",
          "state": {
            "_model_module": "@jupyter-widgets/controls",
            "_model_module_version": "1.5.0",
            "_model_name": "DescriptionStyleModel",
            "_view_count": null,
            "_view_module": "@jupyter-widgets/base",
            "_view_module_version": "1.2.0",
            "_view_name": "StyleView",
            "description_width": ""
          }
        },
        "c546bb0facf841bbbbef7b2b7a5fe428": {
          "model_module": "@jupyter-widgets/base",
          "model_name": "LayoutModel",
          "model_module_version": "1.2.0",
          "state": {
            "_model_module": "@jupyter-widgets/base",
            "_model_module_version": "1.2.0",
            "_model_name": "LayoutModel",
            "_view_count": null,
            "_view_module": "@jupyter-widgets/base",
            "_view_module_version": "1.2.0",
            "_view_name": "LayoutView",
            "align_content": null,
            "align_items": null,
            "align_self": null,
            "border": null,
            "bottom": null,
            "display": null,
            "flex": null,
            "flex_flow": null,
            "grid_area": null,
            "grid_auto_columns": null,
            "grid_auto_flow": null,
            "grid_auto_rows": null,
            "grid_column": null,
            "grid_gap": null,
            "grid_row": null,
            "grid_template_areas": null,
            "grid_template_columns": null,
            "grid_template_rows": null,
            "height": null,
            "justify_content": null,
            "justify_items": null,
            "left": null,
            "margin": null,
            "max_height": null,
            "max_width": null,
            "min_height": null,
            "min_width": null,
            "object_fit": null,
            "object_position": null,
            "order": null,
            "overflow": null,
            "overflow_x": null,
            "overflow_y": null,
            "padding": null,
            "right": null,
            "top": null,
            "visibility": null,
            "width": null
          }
        },
        "57d7191160b14ab19bb6561b7b4dd317": {
          "model_module": "@jupyter-widgets/controls",
          "model_name": "ProgressStyleModel",
          "model_module_version": "1.5.0",
          "state": {
            "_model_module": "@jupyter-widgets/controls",
            "_model_module_version": "1.5.0",
            "_model_name": "ProgressStyleModel",
            "_view_count": null,
            "_view_module": "@jupyter-widgets/base",
            "_view_module_version": "1.2.0",
            "_view_name": "StyleView",
            "bar_color": null,
            "description_width": ""
          }
        },
        "caa4ca02f80f49ba8c0ed28e78271503": {
          "model_module": "@jupyter-widgets/base",
          "model_name": "LayoutModel",
          "model_module_version": "1.2.0",
          "state": {
            "_model_module": "@jupyter-widgets/base",
            "_model_module_version": "1.2.0",
            "_model_name": "LayoutModel",
            "_view_count": null,
            "_view_module": "@jupyter-widgets/base",
            "_view_module_version": "1.2.0",
            "_view_name": "LayoutView",
            "align_content": null,
            "align_items": null,
            "align_self": null,
            "border": null,
            "bottom": null,
            "display": null,
            "flex": null,
            "flex_flow": null,
            "grid_area": null,
            "grid_auto_columns": null,
            "grid_auto_flow": null,
            "grid_auto_rows": null,
            "grid_column": null,
            "grid_gap": null,
            "grid_row": null,
            "grid_template_areas": null,
            "grid_template_columns": null,
            "grid_template_rows": null,
            "height": null,
            "justify_content": null,
            "justify_items": null,
            "left": null,
            "margin": null,
            "max_height": null,
            "max_width": null,
            "min_height": null,
            "min_width": null,
            "object_fit": null,
            "object_position": null,
            "order": null,
            "overflow": null,
            "overflow_x": null,
            "overflow_y": null,
            "padding": null,
            "right": null,
            "top": null,
            "visibility": null,
            "width": null
          }
        },
        "411ce5d670e14d3aa51d9d4834324a00": {
          "model_module": "@jupyter-widgets/controls",
          "model_name": "DescriptionStyleModel",
          "model_module_version": "1.5.0",
          "state": {
            "_model_module": "@jupyter-widgets/controls",
            "_model_module_version": "1.5.0",
            "_model_name": "DescriptionStyleModel",
            "_view_count": null,
            "_view_module": "@jupyter-widgets/base",
            "_view_module_version": "1.2.0",
            "_view_name": "StyleView",
            "description_width": ""
          }
        },
        "706220c109574eaa9b6e504648c50994": {
          "model_module": "@jupyter-widgets/controls",
          "model_name": "HBoxModel",
          "model_module_version": "1.5.0",
          "state": {
            "_dom_classes": [],
            "_model_module": "@jupyter-widgets/controls",
            "_model_module_version": "1.5.0",
            "_model_name": "HBoxModel",
            "_view_count": null,
            "_view_module": "@jupyter-widgets/controls",
            "_view_module_version": "1.5.0",
            "_view_name": "HBoxView",
            "box_style": "",
            "children": [
              "IPY_MODEL_07a0c0cb667c4b72b485eec1a744e001",
              "IPY_MODEL_32d5cdd5b6b74dd0abfc47dbd9ff9c9e",
              "IPY_MODEL_8a964734abb942b6af1dfa2926d5f891"
            ],
            "layout": "IPY_MODEL_c664654418b2452cb0179e8d5e56983d"
          }
        },
        "07a0c0cb667c4b72b485eec1a744e001": {
          "model_module": "@jupyter-widgets/controls",
          "model_name": "HTMLModel",
          "model_module_version": "1.5.0",
          "state": {
            "_dom_classes": [],
            "_model_module": "@jupyter-widgets/controls",
            "_model_module_version": "1.5.0",
            "_model_name": "HTMLModel",
            "_view_count": null,
            "_view_module": "@jupyter-widgets/controls",
            "_view_module_version": "1.5.0",
            "_view_name": "HTMLView",
            "description": "",
            "description_tooltip": null,
            "layout": "IPY_MODEL_f1bcfeb76e8f474bbf667a7effc2040c",
            "placeholder": "​",
            "style": "IPY_MODEL_83e6acdf6ea14cf988620ac30155f35f",
            "value": "100%"
          }
        },
        "32d5cdd5b6b74dd0abfc47dbd9ff9c9e": {
          "model_module": "@jupyter-widgets/controls",
          "model_name": "FloatProgressModel",
          "model_module_version": "1.5.0",
          "state": {
            "_dom_classes": [],
            "_model_module": "@jupyter-widgets/controls",
            "_model_module_version": "1.5.0",
            "_model_name": "FloatProgressModel",
            "_view_count": null,
            "_view_module": "@jupyter-widgets/controls",
            "_view_module_version": "1.5.0",
            "_view_name": "ProgressView",
            "bar_style": "success",
            "description": "",
            "description_tooltip": null,
            "layout": "IPY_MODEL_750b7329814748bc96f68e08bbc0458f",
            "max": 10,
            "min": 0,
            "orientation": "horizontal",
            "style": "IPY_MODEL_e4aabf8625ab43b99e9d59fe79b3a807",
            "value": 10
          }
        },
        "8a964734abb942b6af1dfa2926d5f891": {
          "model_module": "@jupyter-widgets/controls",
          "model_name": "HTMLModel",
          "model_module_version": "1.5.0",
          "state": {
            "_dom_classes": [],
            "_model_module": "@jupyter-widgets/controls",
            "_model_module_version": "1.5.0",
            "_model_name": "HTMLModel",
            "_view_count": null,
            "_view_module": "@jupyter-widgets/controls",
            "_view_module_version": "1.5.0",
            "_view_name": "HTMLView",
            "description": "",
            "description_tooltip": null,
            "layout": "IPY_MODEL_96da9bbbf8794faab9410e51ad52159a",
            "placeholder": "​",
            "style": "IPY_MODEL_33be64792f7b4396b9abd916e7b0ce6c",
            "value": " 10/10 [19:13&lt;00:00, 116.16s/it]"
          }
        },
        "c664654418b2452cb0179e8d5e56983d": {
          "model_module": "@jupyter-widgets/base",
          "model_name": "LayoutModel",
          "model_module_version": "1.2.0",
          "state": {
            "_model_module": "@jupyter-widgets/base",
            "_model_module_version": "1.2.0",
            "_model_name": "LayoutModel",
            "_view_count": null,
            "_view_module": "@jupyter-widgets/base",
            "_view_module_version": "1.2.0",
            "_view_name": "LayoutView",
            "align_content": null,
            "align_items": null,
            "align_self": null,
            "border": null,
            "bottom": null,
            "display": null,
            "flex": null,
            "flex_flow": null,
            "grid_area": null,
            "grid_auto_columns": null,
            "grid_auto_flow": null,
            "grid_auto_rows": null,
            "grid_column": null,
            "grid_gap": null,
            "grid_row": null,
            "grid_template_areas": null,
            "grid_template_columns": null,
            "grid_template_rows": null,
            "height": null,
            "justify_content": null,
            "justify_items": null,
            "left": null,
            "margin": null,
            "max_height": null,
            "max_width": null,
            "min_height": null,
            "min_width": null,
            "object_fit": null,
            "object_position": null,
            "order": null,
            "overflow": null,
            "overflow_x": null,
            "overflow_y": null,
            "padding": null,
            "right": null,
            "top": null,
            "visibility": null,
            "width": null
          }
        },
        "f1bcfeb76e8f474bbf667a7effc2040c": {
          "model_module": "@jupyter-widgets/base",
          "model_name": "LayoutModel",
          "model_module_version": "1.2.0",
          "state": {
            "_model_module": "@jupyter-widgets/base",
            "_model_module_version": "1.2.0",
            "_model_name": "LayoutModel",
            "_view_count": null,
            "_view_module": "@jupyter-widgets/base",
            "_view_module_version": "1.2.0",
            "_view_name": "LayoutView",
            "align_content": null,
            "align_items": null,
            "align_self": null,
            "border": null,
            "bottom": null,
            "display": null,
            "flex": null,
            "flex_flow": null,
            "grid_area": null,
            "grid_auto_columns": null,
            "grid_auto_flow": null,
            "grid_auto_rows": null,
            "grid_column": null,
            "grid_gap": null,
            "grid_row": null,
            "grid_template_areas": null,
            "grid_template_columns": null,
            "grid_template_rows": null,
            "height": null,
            "justify_content": null,
            "justify_items": null,
            "left": null,
            "margin": null,
            "max_height": null,
            "max_width": null,
            "min_height": null,
            "min_width": null,
            "object_fit": null,
            "object_position": null,
            "order": null,
            "overflow": null,
            "overflow_x": null,
            "overflow_y": null,
            "padding": null,
            "right": null,
            "top": null,
            "visibility": null,
            "width": null
          }
        },
        "83e6acdf6ea14cf988620ac30155f35f": {
          "model_module": "@jupyter-widgets/controls",
          "model_name": "DescriptionStyleModel",
          "model_module_version": "1.5.0",
          "state": {
            "_model_module": "@jupyter-widgets/controls",
            "_model_module_version": "1.5.0",
            "_model_name": "DescriptionStyleModel",
            "_view_count": null,
            "_view_module": "@jupyter-widgets/base",
            "_view_module_version": "1.2.0",
            "_view_name": "StyleView",
            "description_width": ""
          }
        },
        "750b7329814748bc96f68e08bbc0458f": {
          "model_module": "@jupyter-widgets/base",
          "model_name": "LayoutModel",
          "model_module_version": "1.2.0",
          "state": {
            "_model_module": "@jupyter-widgets/base",
            "_model_module_version": "1.2.0",
            "_model_name": "LayoutModel",
            "_view_count": null,
            "_view_module": "@jupyter-widgets/base",
            "_view_module_version": "1.2.0",
            "_view_name": "LayoutView",
            "align_content": null,
            "align_items": null,
            "align_self": null,
            "border": null,
            "bottom": null,
            "display": null,
            "flex": null,
            "flex_flow": null,
            "grid_area": null,
            "grid_auto_columns": null,
            "grid_auto_flow": null,
            "grid_auto_rows": null,
            "grid_column": null,
            "grid_gap": null,
            "grid_row": null,
            "grid_template_areas": null,
            "grid_template_columns": null,
            "grid_template_rows": null,
            "height": null,
            "justify_content": null,
            "justify_items": null,
            "left": null,
            "margin": null,
            "max_height": null,
            "max_width": null,
            "min_height": null,
            "min_width": null,
            "object_fit": null,
            "object_position": null,
            "order": null,
            "overflow": null,
            "overflow_x": null,
            "overflow_y": null,
            "padding": null,
            "right": null,
            "top": null,
            "visibility": null,
            "width": null
          }
        },
        "e4aabf8625ab43b99e9d59fe79b3a807": {
          "model_module": "@jupyter-widgets/controls",
          "model_name": "ProgressStyleModel",
          "model_module_version": "1.5.0",
          "state": {
            "_model_module": "@jupyter-widgets/controls",
            "_model_module_version": "1.5.0",
            "_model_name": "ProgressStyleModel",
            "_view_count": null,
            "_view_module": "@jupyter-widgets/base",
            "_view_module_version": "1.2.0",
            "_view_name": "StyleView",
            "bar_color": null,
            "description_width": ""
          }
        },
        "96da9bbbf8794faab9410e51ad52159a": {
          "model_module": "@jupyter-widgets/base",
          "model_name": "LayoutModel",
          "model_module_version": "1.2.0",
          "state": {
            "_model_module": "@jupyter-widgets/base",
            "_model_module_version": "1.2.0",
            "_model_name": "LayoutModel",
            "_view_count": null,
            "_view_module": "@jupyter-widgets/base",
            "_view_module_version": "1.2.0",
            "_view_name": "LayoutView",
            "align_content": null,
            "align_items": null,
            "align_self": null,
            "border": null,
            "bottom": null,
            "display": null,
            "flex": null,
            "flex_flow": null,
            "grid_area": null,
            "grid_auto_columns": null,
            "grid_auto_flow": null,
            "grid_auto_rows": null,
            "grid_column": null,
            "grid_gap": null,
            "grid_row": null,
            "grid_template_areas": null,
            "grid_template_columns": null,
            "grid_template_rows": null,
            "height": null,
            "justify_content": null,
            "justify_items": null,
            "left": null,
            "margin": null,
            "max_height": null,
            "max_width": null,
            "min_height": null,
            "min_width": null,
            "object_fit": null,
            "object_position": null,
            "order": null,
            "overflow": null,
            "overflow_x": null,
            "overflow_y": null,
            "padding": null,
            "right": null,
            "top": null,
            "visibility": null,
            "width": null
          }
        },
        "33be64792f7b4396b9abd916e7b0ce6c": {
          "model_module": "@jupyter-widgets/controls",
          "model_name": "DescriptionStyleModel",
          "model_module_version": "1.5.0",
          "state": {
            "_model_module": "@jupyter-widgets/controls",
            "_model_module_version": "1.5.0",
            "_model_name": "DescriptionStyleModel",
            "_view_count": null,
            "_view_module": "@jupyter-widgets/base",
            "_view_module_version": "1.2.0",
            "_view_name": "StyleView",
            "description_width": ""
          }
        },
        "75dd2f8505ec4b0699c3319297e62324": {
          "model_module": "@jupyter-widgets/controls",
          "model_name": "HBoxModel",
          "model_module_version": "1.5.0",
          "state": {
            "_dom_classes": [],
            "_model_module": "@jupyter-widgets/controls",
            "_model_module_version": "1.5.0",
            "_model_name": "HBoxModel",
            "_view_count": null,
            "_view_module": "@jupyter-widgets/controls",
            "_view_module_version": "1.5.0",
            "_view_name": "HBoxView",
            "box_style": "",
            "children": [
              "IPY_MODEL_3c333d6e9a7e4d6ba30df9c79af33329",
              "IPY_MODEL_a98efab87dbf463681d373e8ac424d20",
              "IPY_MODEL_3b5a1fb401eb4b6cb79218f0d090825c"
            ],
            "layout": "IPY_MODEL_60c60d96589341e99c416c65dd7b7574"
          }
        },
        "3c333d6e9a7e4d6ba30df9c79af33329": {
          "model_module": "@jupyter-widgets/controls",
          "model_name": "HTMLModel",
          "model_module_version": "1.5.0",
          "state": {
            "_dom_classes": [],
            "_model_module": "@jupyter-widgets/controls",
            "_model_module_version": "1.5.0",
            "_model_name": "HTMLModel",
            "_view_count": null,
            "_view_module": "@jupyter-widgets/controls",
            "_view_module_version": "1.5.0",
            "_view_name": "HTMLView",
            "description": "",
            "description_tooltip": null,
            "layout": "IPY_MODEL_1136518d89284a8eaec183687ea82785",
            "placeholder": "​",
            "style": "IPY_MODEL_b9342f609942471b957ac99e7e74f68e",
            "value": "100%"
          }
        },
        "a98efab87dbf463681d373e8ac424d20": {
          "model_module": "@jupyter-widgets/controls",
          "model_name": "FloatProgressModel",
          "model_module_version": "1.5.0",
          "state": {
            "_dom_classes": [],
            "_model_module": "@jupyter-widgets/controls",
            "_model_module_version": "1.5.0",
            "_model_name": "FloatProgressModel",
            "_view_count": null,
            "_view_module": "@jupyter-widgets/controls",
            "_view_module_version": "1.5.0",
            "_view_name": "ProgressView",
            "bar_style": "success",
            "description": "",
            "description_tooltip": null,
            "layout": "IPY_MODEL_153f020de62f480bb131b2015a31116d",
            "max": 10,
            "min": 0,
            "orientation": "horizontal",
            "style": "IPY_MODEL_96083e69963749148df0671b643e4ddb",
            "value": 10
          }
        },
        "3b5a1fb401eb4b6cb79218f0d090825c": {
          "model_module": "@jupyter-widgets/controls",
          "model_name": "HTMLModel",
          "model_module_version": "1.5.0",
          "state": {
            "_dom_classes": [],
            "_model_module": "@jupyter-widgets/controls",
            "_model_module_version": "1.5.0",
            "_model_name": "HTMLModel",
            "_view_count": null,
            "_view_module": "@jupyter-widgets/controls",
            "_view_module_version": "1.5.0",
            "_view_name": "HTMLView",
            "description": "",
            "description_tooltip": null,
            "layout": "IPY_MODEL_dc97354fa92c4c0fbca42b04f39f4778",
            "placeholder": "​",
            "style": "IPY_MODEL_cb762f5b2ae7496ea32ee11420ceeea9",
            "value": " 10/10 [19:24&lt;00:00, 115.88s/it]"
          }
        },
        "60c60d96589341e99c416c65dd7b7574": {
          "model_module": "@jupyter-widgets/base",
          "model_name": "LayoutModel",
          "model_module_version": "1.2.0",
          "state": {
            "_model_module": "@jupyter-widgets/base",
            "_model_module_version": "1.2.0",
            "_model_name": "LayoutModel",
            "_view_count": null,
            "_view_module": "@jupyter-widgets/base",
            "_view_module_version": "1.2.0",
            "_view_name": "LayoutView",
            "align_content": null,
            "align_items": null,
            "align_self": null,
            "border": null,
            "bottom": null,
            "display": null,
            "flex": null,
            "flex_flow": null,
            "grid_area": null,
            "grid_auto_columns": null,
            "grid_auto_flow": null,
            "grid_auto_rows": null,
            "grid_column": null,
            "grid_gap": null,
            "grid_row": null,
            "grid_template_areas": null,
            "grid_template_columns": null,
            "grid_template_rows": null,
            "height": null,
            "justify_content": null,
            "justify_items": null,
            "left": null,
            "margin": null,
            "max_height": null,
            "max_width": null,
            "min_height": null,
            "min_width": null,
            "object_fit": null,
            "object_position": null,
            "order": null,
            "overflow": null,
            "overflow_x": null,
            "overflow_y": null,
            "padding": null,
            "right": null,
            "top": null,
            "visibility": null,
            "width": null
          }
        },
        "1136518d89284a8eaec183687ea82785": {
          "model_module": "@jupyter-widgets/base",
          "model_name": "LayoutModel",
          "model_module_version": "1.2.0",
          "state": {
            "_model_module": "@jupyter-widgets/base",
            "_model_module_version": "1.2.0",
            "_model_name": "LayoutModel",
            "_view_count": null,
            "_view_module": "@jupyter-widgets/base",
            "_view_module_version": "1.2.0",
            "_view_name": "LayoutView",
            "align_content": null,
            "align_items": null,
            "align_self": null,
            "border": null,
            "bottom": null,
            "display": null,
            "flex": null,
            "flex_flow": null,
            "grid_area": null,
            "grid_auto_columns": null,
            "grid_auto_flow": null,
            "grid_auto_rows": null,
            "grid_column": null,
            "grid_gap": null,
            "grid_row": null,
            "grid_template_areas": null,
            "grid_template_columns": null,
            "grid_template_rows": null,
            "height": null,
            "justify_content": null,
            "justify_items": null,
            "left": null,
            "margin": null,
            "max_height": null,
            "max_width": null,
            "min_height": null,
            "min_width": null,
            "object_fit": null,
            "object_position": null,
            "order": null,
            "overflow": null,
            "overflow_x": null,
            "overflow_y": null,
            "padding": null,
            "right": null,
            "top": null,
            "visibility": null,
            "width": null
          }
        },
        "b9342f609942471b957ac99e7e74f68e": {
          "model_module": "@jupyter-widgets/controls",
          "model_name": "DescriptionStyleModel",
          "model_module_version": "1.5.0",
          "state": {
            "_model_module": "@jupyter-widgets/controls",
            "_model_module_version": "1.5.0",
            "_model_name": "DescriptionStyleModel",
            "_view_count": null,
            "_view_module": "@jupyter-widgets/base",
            "_view_module_version": "1.2.0",
            "_view_name": "StyleView",
            "description_width": ""
          }
        },
        "153f020de62f480bb131b2015a31116d": {
          "model_module": "@jupyter-widgets/base",
          "model_name": "LayoutModel",
          "model_module_version": "1.2.0",
          "state": {
            "_model_module": "@jupyter-widgets/base",
            "_model_module_version": "1.2.0",
            "_model_name": "LayoutModel",
            "_view_count": null,
            "_view_module": "@jupyter-widgets/base",
            "_view_module_version": "1.2.0",
            "_view_name": "LayoutView",
            "align_content": null,
            "align_items": null,
            "align_self": null,
            "border": null,
            "bottom": null,
            "display": null,
            "flex": null,
            "flex_flow": null,
            "grid_area": null,
            "grid_auto_columns": null,
            "grid_auto_flow": null,
            "grid_auto_rows": null,
            "grid_column": null,
            "grid_gap": null,
            "grid_row": null,
            "grid_template_areas": null,
            "grid_template_columns": null,
            "grid_template_rows": null,
            "height": null,
            "justify_content": null,
            "justify_items": null,
            "left": null,
            "margin": null,
            "max_height": null,
            "max_width": null,
            "min_height": null,
            "min_width": null,
            "object_fit": null,
            "object_position": null,
            "order": null,
            "overflow": null,
            "overflow_x": null,
            "overflow_y": null,
            "padding": null,
            "right": null,
            "top": null,
            "visibility": null,
            "width": null
          }
        },
        "96083e69963749148df0671b643e4ddb": {
          "model_module": "@jupyter-widgets/controls",
          "model_name": "ProgressStyleModel",
          "model_module_version": "1.5.0",
          "state": {
            "_model_module": "@jupyter-widgets/controls",
            "_model_module_version": "1.5.0",
            "_model_name": "ProgressStyleModel",
            "_view_count": null,
            "_view_module": "@jupyter-widgets/base",
            "_view_module_version": "1.2.0",
            "_view_name": "StyleView",
            "bar_color": null,
            "description_width": ""
          }
        },
        "dc97354fa92c4c0fbca42b04f39f4778": {
          "model_module": "@jupyter-widgets/base",
          "model_name": "LayoutModel",
          "model_module_version": "1.2.0",
          "state": {
            "_model_module": "@jupyter-widgets/base",
            "_model_module_version": "1.2.0",
            "_model_name": "LayoutModel",
            "_view_count": null,
            "_view_module": "@jupyter-widgets/base",
            "_view_module_version": "1.2.0",
            "_view_name": "LayoutView",
            "align_content": null,
            "align_items": null,
            "align_self": null,
            "border": null,
            "bottom": null,
            "display": null,
            "flex": null,
            "flex_flow": null,
            "grid_area": null,
            "grid_auto_columns": null,
            "grid_auto_flow": null,
            "grid_auto_rows": null,
            "grid_column": null,
            "grid_gap": null,
            "grid_row": null,
            "grid_template_areas": null,
            "grid_template_columns": null,
            "grid_template_rows": null,
            "height": null,
            "justify_content": null,
            "justify_items": null,
            "left": null,
            "margin": null,
            "max_height": null,
            "max_width": null,
            "min_height": null,
            "min_width": null,
            "object_fit": null,
            "object_position": null,
            "order": null,
            "overflow": null,
            "overflow_x": null,
            "overflow_y": null,
            "padding": null,
            "right": null,
            "top": null,
            "visibility": null,
            "width": null
          }
        },
        "cb762f5b2ae7496ea32ee11420ceeea9": {
          "model_module": "@jupyter-widgets/controls",
          "model_name": "DescriptionStyleModel",
          "model_module_version": "1.5.0",
          "state": {
            "_model_module": "@jupyter-widgets/controls",
            "_model_module_version": "1.5.0",
            "_model_name": "DescriptionStyleModel",
            "_view_count": null,
            "_view_module": "@jupyter-widgets/base",
            "_view_module_version": "1.2.0",
            "_view_name": "StyleView",
            "description_width": ""
          }
        }
      }
    }
  },
  "nbformat": 4,
  "nbformat_minor": 0
}