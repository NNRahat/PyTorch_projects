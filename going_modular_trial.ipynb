{
  "nbformat": 4,
  "nbformat_minor": 0,
  "metadata": {
    "colab": {
      "provenance": [],
      "gpuType": "T4",
      "authorship_tag": "ABX9TyMzcNIOhka9BBvICNyLiDYQ",
      "include_colab_link": true
    },
    "kernelspec": {
      "name": "python3",
      "display_name": "Python 3"
    },
    "language_info": {
      "name": "python"
    },
    "accelerator": "GPU"
  },
  "cells": [
    {
      "cell_type": "markdown",
      "metadata": {
        "id": "view-in-github",
        "colab_type": "text"
      },
      "source": [
        "<a href=\"https://colab.research.google.com/github/NNRahat/PyTorch_projects/blob/main/going_modular_trial.ipynb\" target=\"_parent\"><img src=\"https://colab.research.google.com/assets/colab-badge.svg\" alt=\"Open In Colab\"/></a>"
      ]
    },
    {
      "cell_type": "code",
      "source": [
        "import torch\n",
        "import torchvision\n",
        "from torchvision import datasets, transforms\n",
        "import os\n",
        "from torch import nn"
      ],
      "metadata": {
        "id": "PhkTFvdUVsVm"
      },
      "execution_count": null,
      "outputs": []
    },
    {
      "cell_type": "code",
      "source": [
        "device = \"cuda\" if torch.cuda.is_available() else \"cpu\""
      ],
      "metadata": {
        "id": "lewOkyEB0_VV"
      },
      "execution_count": null,
      "outputs": []
    },
    {
      "cell_type": "markdown",
      "source": [
        "## installation of `subversion` downloading of `going_modular`"
      ],
      "metadata": {
        "id": "-wHdYQsnU9O_"
      }
    },
    {
      "cell_type": "code",
      "source": [
        "!apt install subversion\n",
        "!svn checkout https://github.com/NNRahat/PyTorch_helper_scripts/trunk/going_moduler"
      ],
      "metadata": {
        "id": "GDYMfkHxOgAD",
        "colab": {
          "base_uri": "https://localhost:8080/"
        },
        "outputId": "bd59b2b0-49e1-4edc-ed9e-bb29ff9192b3"
      },
      "execution_count": null,
      "outputs": [
        {
          "output_type": "stream",
          "name": "stdout",
          "text": [
            "Reading package lists... Done\n",
            "Building dependency tree       \n",
            "Reading state information... Done\n",
            "The following additional packages will be installed:\n",
            "  libapr1 libaprutil1 libserf-1-1 libsvn1 libutf8proc2\n",
            "Suggested packages:\n",
            "  db5.3-util libapache2-mod-svn subversion-tools\n",
            "The following NEW packages will be installed:\n",
            "  libapr1 libaprutil1 libserf-1-1 libsvn1 libutf8proc2 subversion\n",
            "0 upgraded, 6 newly installed, 0 to remove and 38 not upgraded.\n",
            "Need to get 2,355 kB of archives.\n",
            "After this operation, 10.3 MB of additional disk space will be used.\n",
            "Get:1 http://archive.ubuntu.com/ubuntu focal/main amd64 libapr1 amd64 1.6.5-1ubuntu1 [91.4 kB]\n",
            "Get:2 http://archive.ubuntu.com/ubuntu focal-updates/main amd64 libaprutil1 amd64 1.6.1-4ubuntu2.1 [84.9 kB]\n",
            "Get:3 http://archive.ubuntu.com/ubuntu focal/universe amd64 libserf-1-1 amd64 1.3.9-8build1 [45.2 kB]\n",
            "Get:4 http://archive.ubuntu.com/ubuntu focal/universe amd64 libutf8proc2 amd64 2.5.0-1 [50.0 kB]\n",
            "Get:5 http://archive.ubuntu.com/ubuntu focal-updates/universe amd64 libsvn1 amd64 1.13.0-3ubuntu0.2 [1,260 kB]\n",
            "Get:6 http://archive.ubuntu.com/ubuntu focal-updates/universe amd64 subversion amd64 1.13.0-3ubuntu0.2 [824 kB]\n",
            "Fetched 2,355 kB in 2s (1,524 kB/s)\n",
            "Selecting previously unselected package libapr1:amd64.\n",
            "(Reading database ... 122541 files and directories currently installed.)\n",
            "Preparing to unpack .../0-libapr1_1.6.5-1ubuntu1_amd64.deb ...\n",
            "Unpacking libapr1:amd64 (1.6.5-1ubuntu1) ...\n",
            "Selecting previously unselected package libaprutil1:amd64.\n",
            "Preparing to unpack .../1-libaprutil1_1.6.1-4ubuntu2.1_amd64.deb ...\n",
            "Unpacking libaprutil1:amd64 (1.6.1-4ubuntu2.1) ...\n",
            "Selecting previously unselected package libserf-1-1:amd64.\n",
            "Preparing to unpack .../2-libserf-1-1_1.3.9-8build1_amd64.deb ...\n",
            "Unpacking libserf-1-1:amd64 (1.3.9-8build1) ...\n",
            "Selecting previously unselected package libutf8proc2:amd64.\n",
            "Preparing to unpack .../3-libutf8proc2_2.5.0-1_amd64.deb ...\n",
            "Unpacking libutf8proc2:amd64 (2.5.0-1) ...\n",
            "Selecting previously unselected package libsvn1:amd64.\n",
            "Preparing to unpack .../4-libsvn1_1.13.0-3ubuntu0.2_amd64.deb ...\n",
            "Unpacking libsvn1:amd64 (1.13.0-3ubuntu0.2) ...\n",
            "Selecting previously unselected package subversion.\n",
            "Preparing to unpack .../5-subversion_1.13.0-3ubuntu0.2_amd64.deb ...\n",
            "Unpacking subversion (1.13.0-3ubuntu0.2) ...\n",
            "Setting up libutf8proc2:amd64 (2.5.0-1) ...\n",
            "Setting up libapr1:amd64 (1.6.5-1ubuntu1) ...\n",
            "Setting up libaprutil1:amd64 (1.6.1-4ubuntu2.1) ...\n",
            "Setting up libserf-1-1:amd64 (1.3.9-8build1) ...\n",
            "Setting up libsvn1:amd64 (1.13.0-3ubuntu0.2) ...\n",
            "Setting up subversion (1.13.0-3ubuntu0.2) ...\n",
            "Processing triggers for libc-bin (2.31-0ubuntu9.9) ...\n",
            "Processing triggers for man-db (2.9.1-1) ...\n",
            "A    going_moduler/README.md\n",
            "A    going_moduler/data_setup.py\n",
            "A    going_moduler/engine.py\n",
            "A    going_moduler/model_builder.py\n",
            "A    going_moduler/predictions.py\n",
            "A    going_moduler/train.py\n",
            "A    going_moduler/utils.py\n",
            "Checked out revision 2.\n"
          ]
        }
      ]
    },
    {
      "cell_type": "markdown",
      "source": [
        "## downloading of `pizza_steak_sushi.zip`"
      ],
      "metadata": {
        "id": "oqcLa605VESG"
      }
    },
    {
      "cell_type": "code",
      "source": [
        "import requests \n",
        "from pathlib import Path\n",
        "import zipfile\n",
        "data_path = Path(\"Data\")\n",
        "image_path = data_path / \"pizza_steak_sushi\"\n",
        "\n",
        "if image_path.is_dir():\n",
        "  print(f\"{image_path} exist...Skipping download\")\n",
        "else:\n",
        "  image_path.mkdir(parents = True, exist_ok= True)\n",
        "  request = requests.get(\"https://github.com/mrdbourke/pytorch-deep-learning/raw/main/data/pizza_steak_sushi.zip\")\n",
        "  with open(data_path / \"pizza_steak_sushi.zip\", \"wb\") as f:\n",
        "    f.write(request.content)\n",
        "    print(f\"file extracted on {data_path}\")\n",
        "  with zipfile.ZipFile(data_path / \"pizza_steak_sushi.zip\") as zip_ref:\n",
        "    zip_ref.extractall(image_path)"
      ],
      "metadata": {
        "colab": {
          "base_uri": "https://localhost:8080/"
        },
        "id": "e-THk6q3Ex7W",
        "outputId": "cf351123-7b56-42ba-f475-88bd6a8871a7"
      },
      "execution_count": null,
      "outputs": [
        {
          "output_type": "stream",
          "name": "stdout",
          "text": [
            "file extracted on Data\n"
          ]
        }
      ]
    },
    {
      "cell_type": "markdown",
      "source": [
        "## importing stuffs from going_moduler"
      ],
      "metadata": {
        "id": "MuYHzbH4aWi8"
      }
    },
    {
      "cell_type": "code",
      "source": [
        "from going_moduler import data_setup, predictions, model_builder, engine,  utils"
      ],
      "metadata": {
        "id": "AC-BKEDAOThX"
      },
      "execution_count": null,
      "outputs": []
    },
    {
      "cell_type": "code",
      "source": [
        "# Setup directories\n",
        "train_dir = \"Data/pizza_steak_sushi/train\"\n",
        "test_dir = \"Data/pizza_steak_sushi/test\""
      ],
      "metadata": {
        "id": "cSmw3K89cfCI"
      },
      "execution_count": null,
      "outputs": []
    },
    {
      "cell_type": "code",
      "source": [
        "transform = transforms.Compose([\n",
        "    transforms.Resize(size = (224,224)),\n",
        "    transforms.TrivialAugmentWide(num_magnitude_bins=31),\n",
        "    transforms.ToTensor()\n",
        "])"
      ],
      "metadata": {
        "id": "L_OlG--zc11i"
      },
      "execution_count": null,
      "outputs": []
    },
    {
      "cell_type": "markdown",
      "source": [
        "##dataloader"
      ],
      "metadata": {
        "id": "4h_8iNumQLAj"
      }
    },
    {
      "cell_type": "code",
      "source": [
        "train_dataloader, test_dataloader, class_names = data_setup.create_dataloaders(train_dir = train_dir,\n",
        "                                                                  test_dir = test_dir,\n",
        "                                                                  transform = transform,\n",
        "                                                                  batch_size = 32,\n",
        "                                                                  num_workers = os.cpu_count())\n"
      ],
      "metadata": {
        "id": "uxvh3tO2X8Np"
      },
      "execution_count": null,
      "outputs": []
    },
    {
      "cell_type": "markdown",
      "source": [
        "## model build up"
      ],
      "metadata": {
        "id": "v5lUlm2YPdpP"
      }
    },
    {
      "cell_type": "code",
      "source": [
        "import torch\n",
        "from torch import nn \n",
        "\n",
        "class TinyVGG(nn.Module):\n",
        "    def __init__(self, input_shape: int, hidden_units: int, output_shape: int) -> None:\n",
        "        super().__init__()\n",
        "        self.conv_block_1 = nn.Sequential(\n",
        "          nn.Conv2d(in_channels=input_shape, \n",
        "                    out_channels=hidden_units, \n",
        "                    kernel_size=3, \n",
        "                    stride=1, \n",
        "                    padding=0),  \n",
        "          nn.ReLU(),\n",
        "          nn.Conv2d(in_channels=hidden_units, \n",
        "                    out_channels=hidden_units,\n",
        "                    kernel_size=3,\n",
        "                    stride=1,\n",
        "                    padding=0),\n",
        "          nn.ReLU(),\n",
        "          nn.MaxPool2d(kernel_size=2,\n",
        "                        stride=2)\n",
        "        )\n",
        "        self.conv_block_2 = nn.Sequential(\n",
        "          nn.Conv2d(hidden_units, hidden_units, kernel_size=3, padding=0),\n",
        "          nn.ReLU(),\n",
        "          nn.Conv2d(hidden_units, hidden_units, kernel_size=3, padding=0),\n",
        "          nn.ReLU(),\n",
        "          nn.MaxPool2d(2)\n",
        "        )\n",
        "        self.classifier = nn.Sequential(\n",
        "          nn.Flatten(),\n",
        "          # Where did this in_features shape come from? \n",
        "          # It's because each layer of our network compresses and changes the shape of our inputs data.\n",
        "          nn.Linear(in_features=hidden_units*13*13,\n",
        "                    out_features=output_shape)\n",
        "        )\n",
        "    \n",
        "    def forward(self, x: torch.Tensor):\n",
        "#         x = self.conv_block_1(x)\n",
        "#         x = self.conv_block_2(x)\n",
        "#         x = self.classifier(x)\n",
        "#         return x\n",
        "        return self.classifier(self.block_2(self.block_1(x))) # <- leverage the benefits of operator fusion\n"
      ],
      "metadata": {
        "id": "nsbtBP1ePfl_"
      },
      "execution_count": null,
      "outputs": []
    },
    {
      "cell_type": "code",
      "source": [
        "model_0 = TinyVGG(input_shape = 3,\n",
        "                  hidden_units = 10,\n",
        "                  output_shape = len(class_names)).to(device)\n",
        "model_0"
      ],
      "metadata": {
        "id": "k-XULvHJRcQ5",
        "colab": {
          "base_uri": "https://localhost:8080/"
        },
        "outputId": "f5c83951-7023-473d-a214-a3300a4bd568"
      },
      "execution_count": null,
      "outputs": [
        {
          "output_type": "execute_result",
          "data": {
            "text/plain": [
              "TinyVGG(\n",
              "  (conv_block_1): Sequential(\n",
              "    (0): Conv2d(3, 10, kernel_size=(3, 3), stride=(1, 1))\n",
              "    (1): ReLU()\n",
              "    (2): Conv2d(10, 10, kernel_size=(3, 3), stride=(1, 1))\n",
              "    (3): ReLU()\n",
              "    (4): MaxPool2d(kernel_size=2, stride=2, padding=0, dilation=1, ceil_mode=False)\n",
              "  )\n",
              "  (conv_block_2): Sequential(\n",
              "    (0): Conv2d(10, 10, kernel_size=(3, 3), stride=(1, 1))\n",
              "    (1): ReLU()\n",
              "    (2): Conv2d(10, 10, kernel_size=(3, 3), stride=(1, 1))\n",
              "    (3): ReLU()\n",
              "    (4): MaxPool2d(kernel_size=2, stride=2, padding=0, dilation=1, ceil_mode=False)\n",
              "  )\n",
              "  (classifier): Sequential(\n",
              "    (0): Flatten(start_dim=1, end_dim=-1)\n",
              "    (1): Linear(in_features=1690, out_features=3, bias=True)\n",
              "  )\n",
              ")"
            ]
          },
          "metadata": {},
          "execution_count": 10
        }
      ]
    },
    {
      "cell_type": "code",
      "source": [],
      "metadata": {
        "id": "ssjVAdEf4P66"
      },
      "execution_count": null,
      "outputs": []
    }
  ]
}