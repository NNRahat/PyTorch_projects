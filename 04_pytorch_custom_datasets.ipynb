{
  "nbformat": 4,
  "nbformat_minor": 0,
  "metadata": {
    "colab": {
      "provenance": [],
      "gpuType": "T4",
      "authorship_tag": "ABX9TyNRsIaNnK79fFdoz30HO358",
      "include_colab_link": true
    },
    "kernelspec": {
      "name": "python3",
      "display_name": "Python 3"
    },
    "language_info": {
      "name": "python"
    },
    "accelerator": "GPU",
    "gpuClass": "standard"
  },
  "cells": [
    {
      "cell_type": "markdown",
      "metadata": {
        "id": "view-in-github",
        "colab_type": "text"
      },
      "source": [
        "<a href=\"https://colab.research.google.com/github/NNRahat/PyTorch_projects/blob/main/04_pytorch_custom_datasets.ipynb\" target=\"_parent\"><img src=\"https://colab.research.google.com/assets/colab-badge.svg\" alt=\"Open In Colab\"/></a>"
      ]
    },
    {
      "cell_type": "code",
      "execution_count": 1,
      "metadata": {
        "id": "B7bJBIYWcK83"
      },
      "outputs": [],
      "source": [
        "import torch\n",
        "from torch import nn\n",
        "import matplotlib.pyplot as plt"
      ]
    },
    {
      "cell_type": "markdown",
      "source": [
        "# device agnostic code"
      ],
      "metadata": {
        "id": "vGHLAZZ09IUf"
      }
    },
    {
      "cell_type": "code",
      "source": [
        "device = \"cude\" if torch.cuda.is_available() else \"cpu\"\n",
        "device"
      ],
      "metadata": {
        "colab": {
          "base_uri": "https://localhost:8080/",
          "height": 36
        },
        "id": "vHCiliqW9Rkm",
        "outputId": "a8ebec68-7fe4-412a-c333-325111403b2b"
      },
      "execution_count": 2,
      "outputs": [
        {
          "output_type": "execute_result",
          "data": {
            "text/plain": [
              "'cude'"
            ],
            "application/vnd.google.colaboratory.intrinsic+json": {
              "type": "string"
            }
          },
          "metadata": {},
          "execution_count": 2
        }
      ]
    },
    {
      "cell_type": "code",
      "source": [
        "import requests\n",
        "import zipfile\n",
        "from pathlib import Path\n",
        "\n",
        "data_path = Path(\"Data\")\n",
        "image_path = data_path / \"pizza_steak_sushi\"\n",
        "\n",
        "if image_path.is_dir():\n",
        "  print(f\"{image_path} already exist...skipping download.\")\n",
        "else:\n",
        "  print(f\"{image_path} doesn't exist. creating one.....\")\n",
        "  image_path.mkdir(parents=True, exist_ok=True)\n",
        "\n",
        "with open(data_path / \"pizza_steak_sushi.zip\", \"wb\") as f:\n",
        "  request = requests.get(\"https://github.com/mrdbourke/pytorch-deep-learning/raw/main/data/pizza_steak_sushi.zip\")\n",
        "  print(\"downloading zip file........\")\n",
        "  f.write(request.content)\n",
        "\n",
        "# unzipping the zip file \n",
        "with zipfile.ZipFile(data_path / \"pizza_steak_sushi.zip\", \"r\") as zip_ref:\n",
        "  print(\"unzipping the zipfile.....\")\n",
        "  zip_ref.extractall(image_path)\n",
        "\n"
      ],
      "metadata": {
        "colab": {
          "base_uri": "https://localhost:8080/"
        },
        "id": "-uDnUtPR9b1e",
        "outputId": "152236cf-d5f2-4cdf-e783-b4eee56a4552"
      },
      "execution_count": 3,
      "outputs": [
        {
          "output_type": "stream",
          "name": "stdout",
          "text": [
            "Data/pizza_steak_sushi doesn't exist. creating one.....\n",
            "downloading zip file........\n",
            "unzipping the zipfile.....\n"
          ]
        }
      ]
    },
    {
      "cell_type": "code",
      "source": [
        "import os\n",
        "def walk_through_dir(dir_path):\n",
        "  for dirpath, dirnames, filenames in os.walk(dir_path):\n",
        "    print(f\"there are {len(filenames)} images {len(dirnames)} directories in {dirpath}\") "
      ],
      "metadata": {
        "id": "-QPjI76iGYVI"
      },
      "execution_count": 5,
      "outputs": []
    },
    {
      "cell_type": "code",
      "source": [
        "walk_through_dir(image_path)"
      ],
      "metadata": {
        "colab": {
          "base_uri": "https://localhost:8080/"
        },
        "id": "JOGMPU2tfS_E",
        "outputId": "6728bc2d-1b88-48a4-c440-9f542c3096ef"
      },
      "execution_count": 6,
      "outputs": [
        {
          "output_type": "stream",
          "name": "stdout",
          "text": [
            "there are 0 images 2 directories in Data/pizza_steak_sushi\n",
            "there are 0 images 3 directories in Data/pizza_steak_sushi/test\n",
            "there are 31 images 0 directories in Data/pizza_steak_sushi/test/sushi\n",
            "there are 19 images 0 directories in Data/pizza_steak_sushi/test/steak\n",
            "there are 25 images 0 directories in Data/pizza_steak_sushi/test/pizza\n",
            "there are 0 images 3 directories in Data/pizza_steak_sushi/train\n",
            "there are 72 images 0 directories in Data/pizza_steak_sushi/train/sushi\n",
            "there are 75 images 0 directories in Data/pizza_steak_sushi/train/steak\n",
            "there are 78 images 0 directories in Data/pizza_steak_sushi/train/pizza\n"
          ]
        }
      ]
    },
    {
      "cell_type": "code",
      "source": [
        "train_dir = image_path / \"train\"\n",
        "\n",
        "test_dir = image_path / \"test\"\n",
        "\n",
        "train_dir, test_dir"
      ],
      "metadata": {
        "colab": {
          "base_uri": "https://localhost:8080/"
        },
        "id": "33ZEaOBEfaPY",
        "outputId": "c55b2664-835e-4c7a-d8fc-08984b83979e"
      },
      "execution_count": 9,
      "outputs": [
        {
          "output_type": "execute_result",
          "data": {
            "text/plain": [
              "(PosixPath('Data/pizza_steak_sushi/train'),\n",
              " PosixPath('Data/pizza_steak_sushi/test'))"
            ]
          },
          "metadata": {},
          "execution_count": 9
        }
      ]
    },
    {
      "cell_type": "code",
      "source": [],
      "metadata": {
        "id": "h8_t7ztngYoP"
      },
      "execution_count": null,
      "outputs": []
    }
  ]
}